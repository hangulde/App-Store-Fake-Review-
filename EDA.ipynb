{
 "cells": [
  {
   "cell_type": "markdown",
   "id": "209eb9e1",
   "metadata": {},
   "source": [
    "# **2. Exploratory Data Analysis**"
   ]
  },
  {
   "cell_type": "markdown",
   "id": "c0bd3a3a",
   "metadata": {},
   "source": [
    "## Imports"
   ]
  },
  {
   "cell_type": "code",
   "execution_count": 1,
   "id": "795ade5f",
   "metadata": {},
   "outputs": [],
   "source": [
    "import pandas as pd\n",
    "import numpy as np\n",
    "import matplotlib.pyplot as plt\n",
    "import seaborn as sns\n",
    "import warnings\n",
    "warnings.filterwarnings('ignore')\n",
    "\n",
    "# Statistics imports\n",
    "import scipy.stats as stats\n",
    "from scipy.stats import pearsonr\n",
    "from scipy.stats import mannwhitneyu\n",
    "from scipy.stats import chi2_contingency \n",
    "from statsmodels.graphics.gofplots import qqplot # normality plot\n",
    "from scipy.stats import shapiro # Normality test\n"
   ]
  },
  {
   "cell_type": "markdown",
   "id": "25094b9b",
   "metadata": {},
   "source": [
    "## **2.1 Load Data**"
   ]
  },
  {
   "cell_type": "code",
   "execution_count": 2,
   "id": "202cfd31",
   "metadata": {},
   "outputs": [],
   "source": [
    "df=pd.read_csv('data_eda.csv')"
   ]
  },
  {
   "cell_type": "code",
   "execution_count": 3,
   "id": "de0f73e5",
   "metadata": {},
   "outputs": [
    {
     "data": {
      "text/plain": [
       "(16000, 182)"
      ]
     },
     "execution_count": 3,
     "metadata": {},
     "output_type": "execute_result"
    }
   ],
   "source": [
    "df.shape"
   ]
  },
  {
   "cell_type": "markdown",
   "id": "d1d1423e",
   "metadata": {},
   "source": [
    "## **2.2 Analysis of Users**"
   ]
  },
  {
   "cell_type": "code",
   "execution_count": 4,
   "id": "70784396",
   "metadata": {},
   "outputs": [
    {
     "name": "stdout",
     "output_type": "stream",
     "text": [
      "There is a total of 8696 unique users.\n"
     ]
    }
   ],
   "source": [
    "print('There is a total of', df['username_y'].nunique(), 'unique users.')"
   ]
  },
  {
   "cell_type": "markdown",
   "id": "d1db8d54",
   "metadata": {},
   "source": [
    "**Note:** Some columns are related to users as account usage, total reviews, etc. I will create a new dataframe for user-related analysis."
   ]
  },
  {
   "cell_type": "code",
   "execution_count": 5,
   "id": "20339d4c",
   "metadata": {},
   "outputs": [
    {
     "data": {
      "text/html": [
       "<div>\n",
       "<style scoped>\n",
       "    .dataframe tbody tr th:only-of-type {\n",
       "        vertical-align: middle;\n",
       "    }\n",
       "\n",
       "    .dataframe tbody tr th {\n",
       "        vertical-align: top;\n",
       "    }\n",
       "\n",
       "    .dataframe thead th {\n",
       "        text-align: right;\n",
       "    }\n",
       "</style>\n",
       "<table border=\"1\" class=\"dataframe\">\n",
       "  <thead>\n",
       "    <tr style=\"text-align: right;\">\n",
       "      <th></th>\n",
       "      <th>username_y</th>\n",
       "      <th>user_reviews_total</th>\n",
       "      <th>voteSum</th>\n",
       "      <th>voteSum</th>\n",
       "      <th>user_account_usage</th>\n",
       "      <th>rating</th>\n",
       "    </tr>\n",
       "  </thead>\n",
       "  <tbody>\n",
       "    <tr>\n",
       "      <th>13591</th>\n",
       "      <td>Drakemeetslara</td>\n",
       "      <td>636</td>\n",
       "      <td>0</td>\n",
       "      <td>0</td>\n",
       "      <td>33444840</td>\n",
       "      <td>3</td>\n",
       "    </tr>\n",
       "    <tr>\n",
       "      <th>7401</th>\n",
       "      <td>Drakemeetslara</td>\n",
       "      <td>636</td>\n",
       "      <td>0</td>\n",
       "      <td>0</td>\n",
       "      <td>33444840</td>\n",
       "      <td>5</td>\n",
       "    </tr>\n",
       "    <tr>\n",
       "      <th>959</th>\n",
       "      <td>Drakemeetslara</td>\n",
       "      <td>636</td>\n",
       "      <td>0</td>\n",
       "      <td>0</td>\n",
       "      <td>33444840</td>\n",
       "      <td>5</td>\n",
       "    </tr>\n",
       "    <tr>\n",
       "      <th>14565</th>\n",
       "      <td>Drakemeetslara</td>\n",
       "      <td>636</td>\n",
       "      <td>0</td>\n",
       "      <td>0</td>\n",
       "      <td>33444840</td>\n",
       "      <td>5</td>\n",
       "    </tr>\n",
       "    <tr>\n",
       "      <th>7219</th>\n",
       "      <td>Drakemeetslara</td>\n",
       "      <td>636</td>\n",
       "      <td>0</td>\n",
       "      <td>0</td>\n",
       "      <td>33444840</td>\n",
       "      <td>5</td>\n",
       "    </tr>\n",
       "  </tbody>\n",
       "</table>\n",
       "</div>"
      ],
      "text/plain": [
       "           username_y  user_reviews_total  voteSum  voteSum  \\\n",
       "13591  Drakemeetslara                 636        0        0   \n",
       "7401   Drakemeetslara                 636        0        0   \n",
       "959    Drakemeetslara                 636        0        0   \n",
       "14565  Drakemeetslara                 636        0        0   \n",
       "7219   Drakemeetslara                 636        0        0   \n",
       "\n",
       "       user_account_usage  rating  \n",
       "13591            33444840       3  \n",
       "7401             33444840       5  \n",
       "959              33444840       5  \n",
       "14565            33444840       5  \n",
       "7219             33444840       5  "
      ]
     },
     "execution_count": 5,
     "metadata": {},
     "output_type": "execute_result"
    }
   ],
   "source": [
    "# check the users' names\n",
    "df.sort_values(by='user_reviews_total', ascending=False)[['username_y','user_reviews_total', \n",
    "                                                          'voteSum', 'voteSum','user_account_usage',\n",
    "                                                          'rating']].head()"
   ]
  },
  {
   "cell_type": "code",
   "execution_count": 6,
   "id": "1b34155d",
   "metadata": {},
   "outputs": [
    {
     "data": {
      "text/html": [
       "<div>\n",
       "<style scoped>\n",
       "    .dataframe tbody tr th:only-of-type {\n",
       "        vertical-align: middle;\n",
       "    }\n",
       "\n",
       "    .dataframe tbody tr th {\n",
       "        vertical-align: top;\n",
       "    }\n",
       "\n",
       "    .dataframe thead th {\n",
       "        text-align: right;\n",
       "    }\n",
       "</style>\n",
       "<table border=\"1\" class=\"dataframe\">\n",
       "  <thead>\n",
       "    <tr style=\"text-align: right;\">\n",
       "      <th></th>\n",
       "      <th>username_y</th>\n",
       "      <th>label</th>\n",
       "      <th>user_reviews_1</th>\n",
       "      <th>user_reviews_2</th>\n",
       "      <th>user_reviews_3</th>\n",
       "      <th>user_reviews_4</th>\n",
       "      <th>user_reviews_5</th>\n",
       "      <th>rating</th>\n",
       "      <th>price</th>\n",
       "      <th>length</th>\n",
       "      <th>user_account_usage</th>\n",
       "      <th>user_reviews_total</th>\n",
       "      <th>voteSum</th>\n",
       "      <th>voteCount</th>\n",
       "    </tr>\n",
       "  </thead>\n",
       "  <tbody>\n",
       "    <tr>\n",
       "      <th>0</th>\n",
       "      <td>Haydensimpkins93</td>\n",
       "      <td>0</td>\n",
       "      <td>0.0</td>\n",
       "      <td>0.0</td>\n",
       "      <td>0.000000</td>\n",
       "      <td>0.000000</td>\n",
       "      <td>100.000000</td>\n",
       "      <td>5</td>\n",
       "      <td>0.00</td>\n",
       "      <td>187</td>\n",
       "      <td>0</td>\n",
       "      <td>1</td>\n",
       "      <td>0</td>\n",
       "      <td>0</td>\n",
       "    </tr>\n",
       "    <tr>\n",
       "      <th>1</th>\n",
       "      <td>Spamminton13</td>\n",
       "      <td>0</td>\n",
       "      <td>0.0</td>\n",
       "      <td>0.0</td>\n",
       "      <td>25.000000</td>\n",
       "      <td>25.000000</td>\n",
       "      <td>50.000000</td>\n",
       "      <td>5</td>\n",
       "      <td>0.00</td>\n",
       "      <td>105</td>\n",
       "      <td>65517000</td>\n",
       "      <td>4</td>\n",
       "      <td>0</td>\n",
       "      <td>0</td>\n",
       "    </tr>\n",
       "    <tr>\n",
       "      <th>2</th>\n",
       "      <td>Graster 15</td>\n",
       "      <td>0</td>\n",
       "      <td>0.0</td>\n",
       "      <td>0.0</td>\n",
       "      <td>16.666667</td>\n",
       "      <td>16.666667</td>\n",
       "      <td>66.666667</td>\n",
       "      <td>5</td>\n",
       "      <td>1.99</td>\n",
       "      <td>88</td>\n",
       "      <td>49330200</td>\n",
       "      <td>6</td>\n",
       "      <td>0</td>\n",
       "      <td>0</td>\n",
       "    </tr>\n",
       "    <tr>\n",
       "      <th>3</th>\n",
       "      <td>Dhaisley</td>\n",
       "      <td>0</td>\n",
       "      <td>0.0</td>\n",
       "      <td>0.0</td>\n",
       "      <td>0.000000</td>\n",
       "      <td>80.000000</td>\n",
       "      <td>20.000000</td>\n",
       "      <td>4</td>\n",
       "      <td>0.00</td>\n",
       "      <td>206</td>\n",
       "      <td>27965940</td>\n",
       "      <td>5</td>\n",
       "      <td>0</td>\n",
       "      <td>0</td>\n",
       "    </tr>\n",
       "    <tr>\n",
       "      <th>4</th>\n",
       "      <td>Jay5050</td>\n",
       "      <td>0</td>\n",
       "      <td>0.0</td>\n",
       "      <td>0.0</td>\n",
       "      <td>0.000000</td>\n",
       "      <td>0.000000</td>\n",
       "      <td>100.000000</td>\n",
       "      <td>5</td>\n",
       "      <td>0.00</td>\n",
       "      <td>85</td>\n",
       "      <td>32929440</td>\n",
       "      <td>2</td>\n",
       "      <td>0</td>\n",
       "      <td>0</td>\n",
       "    </tr>\n",
       "  </tbody>\n",
       "</table>\n",
       "</div>"
      ],
      "text/plain": [
       "         username_y  label  user_reviews_1  user_reviews_2  user_reviews_3  \\\n",
       "0  Haydensimpkins93      0             0.0             0.0        0.000000   \n",
       "1      Spamminton13      0             0.0             0.0       25.000000   \n",
       "2        Graster 15      0             0.0             0.0       16.666667   \n",
       "3          Dhaisley      0             0.0             0.0        0.000000   \n",
       "4           Jay5050      0             0.0             0.0        0.000000   \n",
       "\n",
       "   user_reviews_4  user_reviews_5  rating  price  length  user_account_usage  \\\n",
       "0        0.000000      100.000000       5   0.00     187                   0   \n",
       "1       25.000000       50.000000       5   0.00     105            65517000   \n",
       "2       16.666667       66.666667       5   1.99      88            49330200   \n",
       "3       80.000000       20.000000       4   0.00     206            27965940   \n",
       "4        0.000000      100.000000       5   0.00      85            32929440   \n",
       "\n",
       "   user_reviews_total  voteSum  voteCount  \n",
       "0                   1        0          0  \n",
       "1                   4        0          0  \n",
       "2                   6        0          0  \n",
       "3                   5        0          0  \n",
       "4                   2        0          0  "
      ]
     },
     "execution_count": 6,
     "metadata": {},
     "output_type": "execute_result"
    }
   ],
   "source": [
    "# create a df from columns which are related to users\n",
    "users = df[['username_y', 'label', 'user_reviews_1','user_reviews_2', 'user_reviews_3', \n",
    "            'user_reviews_4', 'user_reviews_5', 'rating', 'price', 'length', \n",
    "            'user_account_usage', 'user_reviews_total','voteSum', 'voteCount']]\n",
    "users.head()"
   ]
  },
  {
   "cell_type": "code",
   "execution_count": 7,
   "id": "47cb6639",
   "metadata": {},
   "outputs": [
    {
     "data": {
      "text/html": [
       "<div>\n",
       "<style scoped>\n",
       "    .dataframe tbody tr th:only-of-type {\n",
       "        vertical-align: middle;\n",
       "    }\n",
       "\n",
       "    .dataframe tbody tr th {\n",
       "        vertical-align: top;\n",
       "    }\n",
       "\n",
       "    .dataframe thead th {\n",
       "        text-align: right;\n",
       "    }\n",
       "</style>\n",
       "<table border=\"1\" class=\"dataframe\">\n",
       "  <thead>\n",
       "    <tr style=\"text-align: right;\">\n",
       "      <th></th>\n",
       "      <th>label</th>\n",
       "      <th>length</th>\n",
       "      <th>rating</th>\n",
       "      <th>price</th>\n",
       "    </tr>\n",
       "    <tr>\n",
       "      <th>username_y</th>\n",
       "      <th></th>\n",
       "      <th></th>\n",
       "      <th></th>\n",
       "      <th></th>\n",
       "    </tr>\n",
       "  </thead>\n",
       "  <tbody>\n",
       "    <tr>\n",
       "      <th>Dede U</th>\n",
       "      <td>0.0</td>\n",
       "      <td>21.0</td>\n",
       "      <td>4.0</td>\n",
       "      <td>0.00</td>\n",
       "    </tr>\n",
       "    <tr>\n",
       "      <th>I'm Sirius</th>\n",
       "      <td>0.0</td>\n",
       "      <td>27.0</td>\n",
       "      <td>5.0</td>\n",
       "      <td>0.00</td>\n",
       "    </tr>\n",
       "    <tr>\n",
       "      <th>Monty 88</th>\n",
       "      <td>0.0</td>\n",
       "      <td>19.0</td>\n",
       "      <td>5.0</td>\n",
       "      <td>0.00</td>\n",
       "    </tr>\n",
       "    <tr>\n",
       "      <th>maniac k</th>\n",
       "      <td>0.0</td>\n",
       "      <td>51.0</td>\n",
       "      <td>4.0</td>\n",
       "      <td>0.99</td>\n",
       "    </tr>\n",
       "    <tr>\n",
       "      <th>!Do!</th>\n",
       "      <td>0.0</td>\n",
       "      <td>54.0</td>\n",
       "      <td>4.0</td>\n",
       "      <td>0.00</td>\n",
       "    </tr>\n",
       "  </tbody>\n",
       "</table>\n",
       "</div>"
      ],
      "text/plain": [
       "             label  length  rating  price\n",
       "username_y                               \n",
       " Dede U        0.0    21.0     4.0   0.00\n",
       " I'm Sirius    0.0    27.0     5.0   0.00\n",
       " Monty 88      0.0    19.0     5.0   0.00\n",
       " maniac k      0.0    51.0     4.0   0.99\n",
       "!Do!           0.0    54.0     4.0   0.00"
      ]
     },
     "execution_count": 7,
     "metadata": {},
     "output_type": "execute_result"
    }
   ],
   "source": [
    "# Get the average of 'label','length','rating', 'price', 'paid' columns\n",
    "df_use = users.groupby(by='username_y')['label','length','rating', 'price'].agg('mean')\n",
    "df_use.head()"
   ]
  },
  {
   "cell_type": "code",
   "execution_count": 8,
   "id": "210a057d",
   "metadata": {},
   "outputs": [],
   "source": [
    "# Rename columns\n",
    "df_use = df_use.add_prefix('ave_')"
   ]
  },
  {
   "cell_type": "code",
   "execution_count": 9,
   "id": "7a79a1a4",
   "metadata": {},
   "outputs": [],
   "source": [
    "# Reset index for using username column\n",
    "df_use.reset_index(inplace=True)"
   ]
  },
  {
   "cell_type": "code",
   "execution_count": 10,
   "id": "48a25ff4",
   "metadata": {},
   "outputs": [
    {
     "data": {
      "text/plain": [
       "(8696, 10)"
      ]
     },
     "execution_count": 10,
     "metadata": {},
     "output_type": "execute_result"
    }
   ],
   "source": [
    "# Drop duplicates in username column\n",
    "users.drop_duplicates(subset=['username_y'], inplace=True)\n",
    "\n",
    "# drop the columns which I got the averages\n",
    "users.drop(columns=['label','length','rating', 'price'], inplace=True)\n",
    "\n",
    "# check the shape of column. There should be 8696 unique users\n",
    "users.shape"
   ]
  },
  {
   "cell_type": "code",
   "execution_count": 11,
   "id": "bc640fa4",
   "metadata": {},
   "outputs": [
    {
     "name": "stdout",
     "output_type": "stream",
     "text": [
      "(8696, 14)\n"
     ]
    },
    {
     "data": {
      "text/html": [
       "<div>\n",
       "<style scoped>\n",
       "    .dataframe tbody tr th:only-of-type {\n",
       "        vertical-align: middle;\n",
       "    }\n",
       "\n",
       "    .dataframe tbody tr th {\n",
       "        vertical-align: top;\n",
       "    }\n",
       "\n",
       "    .dataframe thead th {\n",
       "        text-align: right;\n",
       "    }\n",
       "</style>\n",
       "<table border=\"1\" class=\"dataframe\">\n",
       "  <thead>\n",
       "    <tr style=\"text-align: right;\">\n",
       "      <th></th>\n",
       "      <th>username_y</th>\n",
       "      <th>ave_label</th>\n",
       "      <th>ave_length</th>\n",
       "      <th>ave_rating</th>\n",
       "      <th>ave_price</th>\n",
       "      <th>user_reviews_1</th>\n",
       "      <th>user_reviews_2</th>\n",
       "      <th>user_reviews_3</th>\n",
       "      <th>user_reviews_4</th>\n",
       "      <th>user_reviews_5</th>\n",
       "      <th>user_account_usage</th>\n",
       "      <th>user_reviews_total</th>\n",
       "      <th>voteSum</th>\n",
       "      <th>voteCount</th>\n",
       "    </tr>\n",
       "  </thead>\n",
       "  <tbody>\n",
       "    <tr>\n",
       "      <th>0</th>\n",
       "      <td>Dede U</td>\n",
       "      <td>0.0</td>\n",
       "      <td>21.0</td>\n",
       "      <td>4.0</td>\n",
       "      <td>0.00</td>\n",
       "      <td>0.000000</td>\n",
       "      <td>0.0</td>\n",
       "      <td>0.000000</td>\n",
       "      <td>66.666667</td>\n",
       "      <td>33.333333</td>\n",
       "      <td>150993180</td>\n",
       "      <td>6</td>\n",
       "      <td>0</td>\n",
       "      <td>0</td>\n",
       "    </tr>\n",
       "    <tr>\n",
       "      <th>1</th>\n",
       "      <td>I'm Sirius</td>\n",
       "      <td>0.0</td>\n",
       "      <td>27.0</td>\n",
       "      <td>5.0</td>\n",
       "      <td>0.00</td>\n",
       "      <td>25.000000</td>\n",
       "      <td>0.0</td>\n",
       "      <td>0.000000</td>\n",
       "      <td>0.000000</td>\n",
       "      <td>75.000000</td>\n",
       "      <td>190985640</td>\n",
       "      <td>4</td>\n",
       "      <td>0</td>\n",
       "      <td>0</td>\n",
       "    </tr>\n",
       "    <tr>\n",
       "      <th>2</th>\n",
       "      <td>Monty 88</td>\n",
       "      <td>0.0</td>\n",
       "      <td>19.0</td>\n",
       "      <td>5.0</td>\n",
       "      <td>0.00</td>\n",
       "      <td>22.222222</td>\n",
       "      <td>0.0</td>\n",
       "      <td>11.111111</td>\n",
       "      <td>22.222222</td>\n",
       "      <td>44.444444</td>\n",
       "      <td>175860060</td>\n",
       "      <td>9</td>\n",
       "      <td>0</td>\n",
       "      <td>0</td>\n",
       "    </tr>\n",
       "    <tr>\n",
       "      <th>3</th>\n",
       "      <td>maniac k</td>\n",
       "      <td>0.0</td>\n",
       "      <td>51.0</td>\n",
       "      <td>4.0</td>\n",
       "      <td>0.99</td>\n",
       "      <td>20.000000</td>\n",
       "      <td>20.0</td>\n",
       "      <td>0.000000</td>\n",
       "      <td>60.000000</td>\n",
       "      <td>0.000000</td>\n",
       "      <td>49271580</td>\n",
       "      <td>5</td>\n",
       "      <td>0</td>\n",
       "      <td>0</td>\n",
       "    </tr>\n",
       "    <tr>\n",
       "      <th>4</th>\n",
       "      <td>!Do!</td>\n",
       "      <td>0.0</td>\n",
       "      <td>54.0</td>\n",
       "      <td>4.0</td>\n",
       "      <td>0.00</td>\n",
       "      <td>9.090909</td>\n",
       "      <td>0.0</td>\n",
       "      <td>9.090909</td>\n",
       "      <td>18.181818</td>\n",
       "      <td>63.636364</td>\n",
       "      <td>145384260</td>\n",
       "      <td>11</td>\n",
       "      <td>0</td>\n",
       "      <td>0</td>\n",
       "    </tr>\n",
       "  </tbody>\n",
       "</table>\n",
       "</div>"
      ],
      "text/plain": [
       "    username_y  ave_label  ave_length  ave_rating  ave_price  user_reviews_1  \\\n",
       "0       Dede U        0.0        21.0         4.0       0.00        0.000000   \n",
       "1   I'm Sirius        0.0        27.0         5.0       0.00       25.000000   \n",
       "2     Monty 88        0.0        19.0         5.0       0.00       22.222222   \n",
       "3     maniac k        0.0        51.0         4.0       0.99       20.000000   \n",
       "4         !Do!        0.0        54.0         4.0       0.00        9.090909   \n",
       "\n",
       "   user_reviews_2  user_reviews_3  user_reviews_4  user_reviews_5  \\\n",
       "0             0.0        0.000000       66.666667       33.333333   \n",
       "1             0.0        0.000000        0.000000       75.000000   \n",
       "2             0.0       11.111111       22.222222       44.444444   \n",
       "3            20.0        0.000000       60.000000        0.000000   \n",
       "4             0.0        9.090909       18.181818       63.636364   \n",
       "\n",
       "   user_account_usage  user_reviews_total  voteSum  voteCount  \n",
       "0           150993180                   6        0          0  \n",
       "1           190985640                   4        0          0  \n",
       "2           175860060                   9        0          0  \n",
       "3            49271580                   5        0          0  \n",
       "4           145384260                  11        0          0  "
      ]
     },
     "execution_count": 11,
     "metadata": {},
     "output_type": "execute_result"
    }
   ],
   "source": [
    "# Merge two dataframe\n",
    "users = df_use.merge(users, on='username_y', how='inner')\n",
    "print(users.shape)\n",
    "users.head()"
   ]
  },
  {
   "cell_type": "code",
   "execution_count": 12,
   "id": "d78911d8",
   "metadata": {},
   "outputs": [
    {
     "data": {
      "text/plain": [
       "username_y              0\n",
       "ave_label               0\n",
       "ave_length              0\n",
       "ave_rating              0\n",
       "ave_price             101\n",
       "user_reviews_1          0\n",
       "user_reviews_2          0\n",
       "user_reviews_3          0\n",
       "user_reviews_4          0\n",
       "user_reviews_5          0\n",
       "user_account_usage      0\n",
       "user_reviews_total      0\n",
       "voteSum                 0\n",
       "voteCount               0\n",
       "dtype: int64"
      ]
     },
     "execution_count": 12,
     "metadata": {},
     "output_type": "execute_result"
    }
   ],
   "source": [
    "users.isna().sum()"
   ]
  },
  {
   "cell_type": "markdown",
   "id": "0d287a6b",
   "metadata": {},
   "source": [
    "***The average label of users*** "
   ]
  },
  {
   "cell_type": "code",
   "execution_count": 13,
   "id": "1c6f7e95",
   "metadata": {},
   "outputs": [
    {
     "data": {
      "text/plain": [
       "0.000000    0.919158\n",
       "1.000000    0.080497\n",
       "0.976744    0.000115\n",
       "0.857143    0.000115\n",
       "0.888889    0.000115\n",
       "Name: ave_label, dtype: float64"
      ]
     },
     "execution_count": 13,
     "metadata": {},
     "output_type": "execute_result"
    }
   ],
   "source": [
    "users.ave_label.value_counts(normalize=True)"
   ]
  },
  {
   "cell_type": "markdown",
   "id": "ff8fe6fa",
   "metadata": {},
   "source": [
    "**Note:** 7993 (91.916%) out of 8696 users haven't posted any fake reviews. A total of 700 (%8.049) users' all reviews are fake. Three users (0.03%) have both fake and genuine reviews and the percent of fake reviews is really high. The likelihood of being a fake user is so high. Therefore these 3 users are labeled as fake (1)."
   ]
  },
  {
   "cell_type": "code",
   "execution_count": 14,
   "id": "351a24f0",
   "metadata": {},
   "outputs": [
    {
     "data": {
      "text/html": [
       "<div>\n",
       "<style scoped>\n",
       "    .dataframe tbody tr th:only-of-type {\n",
       "        vertical-align: middle;\n",
       "    }\n",
       "\n",
       "    .dataframe tbody tr th {\n",
       "        vertical-align: top;\n",
       "    }\n",
       "\n",
       "    .dataframe thead th {\n",
       "        text-align: right;\n",
       "    }\n",
       "</style>\n",
       "<table border=\"1\" class=\"dataframe\">\n",
       "  <thead>\n",
       "    <tr style=\"text-align: right;\">\n",
       "      <th></th>\n",
       "      <th>username_y</th>\n",
       "      <th>ave_label</th>\n",
       "      <th>ave_length</th>\n",
       "      <th>ave_rating</th>\n",
       "      <th>ave_price</th>\n",
       "      <th>user_reviews_1</th>\n",
       "      <th>user_reviews_2</th>\n",
       "      <th>user_reviews_3</th>\n",
       "      <th>user_reviews_4</th>\n",
       "      <th>user_reviews_5</th>\n",
       "      <th>user_account_usage</th>\n",
       "      <th>user_reviews_total</th>\n",
       "      <th>voteSum</th>\n",
       "      <th>voteCount</th>\n",
       "    </tr>\n",
       "  </thead>\n",
       "  <tbody>\n",
       "    <tr>\n",
       "      <th>3765</th>\n",
       "      <td>Kch145</td>\n",
       "      <td>0.976744</td>\n",
       "      <td>127.604651</td>\n",
       "      <td>4.976744</td>\n",
       "      <td>0.092558</td>\n",
       "      <td>0.0</td>\n",
       "      <td>0.0</td>\n",
       "      <td>0.0</td>\n",
       "      <td>2.739726</td>\n",
       "      <td>97.260274</td>\n",
       "      <td>62102820</td>\n",
       "      <td>73</td>\n",
       "      <td>0</td>\n",
       "      <td>0</td>\n",
       "    </tr>\n",
       "    <tr>\n",
       "      <th>7876</th>\n",
       "      <td>iOSLover90</td>\n",
       "      <td>0.857143</td>\n",
       "      <td>75.285714</td>\n",
       "      <td>4.142857</td>\n",
       "      <td>0.000000</td>\n",
       "      <td>0.0</td>\n",
       "      <td>0.0</td>\n",
       "      <td>10.0</td>\n",
       "      <td>70.000000</td>\n",
       "      <td>20.000000</td>\n",
       "      <td>19305060</td>\n",
       "      <td>10</td>\n",
       "      <td>0</td>\n",
       "      <td>0</td>\n",
       "    </tr>\n",
       "    <tr>\n",
       "      <th>8246</th>\n",
       "      <td>nestorov90us</td>\n",
       "      <td>0.888889</td>\n",
       "      <td>156.777778</td>\n",
       "      <td>5.000000</td>\n",
       "      <td>0.000000</td>\n",
       "      <td>0.0</td>\n",
       "      <td>0.0</td>\n",
       "      <td>0.0</td>\n",
       "      <td>2.380952</td>\n",
       "      <td>97.619048</td>\n",
       "      <td>10694880</td>\n",
       "      <td>378</td>\n",
       "      <td>0</td>\n",
       "      <td>0</td>\n",
       "    </tr>\n",
       "  </tbody>\n",
       "</table>\n",
       "</div>"
      ],
      "text/plain": [
       "        username_y  ave_label  ave_length  ave_rating  ave_price  \\\n",
       "3765        Kch145   0.976744  127.604651    4.976744   0.092558   \n",
       "7876    iOSLover90   0.857143   75.285714    4.142857   0.000000   \n",
       "8246  nestorov90us   0.888889  156.777778    5.000000   0.000000   \n",
       "\n",
       "      user_reviews_1  user_reviews_2  user_reviews_3  user_reviews_4  \\\n",
       "3765             0.0             0.0             0.0        2.739726   \n",
       "7876             0.0             0.0            10.0       70.000000   \n",
       "8246             0.0             0.0             0.0        2.380952   \n",
       "\n",
       "      user_reviews_5  user_account_usage  user_reviews_total  voteSum  \\\n",
       "3765       97.260274            62102820                  73        0   \n",
       "7876       20.000000            19305060                  10        0   \n",
       "8246       97.619048            10694880                 378        0   \n",
       "\n",
       "      voteCount  \n",
       "3765          0  \n",
       "7876          0  \n",
       "8246          0  "
      ]
     },
     "execution_count": 14,
     "metadata": {},
     "output_type": "execute_result"
    }
   ],
   "source": [
    "# Find the index of these users\n",
    "users[(users['ave_label']!=0)&(users['ave_label']!=1)]"
   ]
  },
  {
   "cell_type": "code",
   "execution_count": 15,
   "id": "055a042d",
   "metadata": {},
   "outputs": [],
   "source": [
    "# Let's label three users as fake\n",
    "users.at[3765, 'ave_label'] = 1\n",
    "users.at[7876, 'ave_label'] = 1\n",
    "users.at[8246, 'ave_label'] = 1"
   ]
  },
  {
   "cell_type": "markdown",
   "id": "b9908dca",
   "metadata": {},
   "source": [
    "**Note:** I have a new feature as label of users. \n",
    "Fake User (label=1) and Real User (label=0).\n",
    "\n",
    "***Fake user:*** Except for 3 cases, all the reviews of these users are fake. For 3 cases minimum average percentage of fake reviews is 85%.\n",
    "\n",
    "***Real Users:*** They don't have any fake reviews."
   ]
  },
  {
   "cell_type": "code",
   "execution_count": 16,
   "id": "2e533510",
   "metadata": {},
   "outputs": [
    {
     "data": {
      "text/plain": [
       "0.0    0.919158\n",
       "1.0    0.080842\n",
       "Name: ave_label, dtype: float64"
      ]
     },
     "execution_count": 16,
     "metadata": {},
     "output_type": "execute_result"
    }
   ],
   "source": [
    "# Check the percentages\n",
    "users.ave_label.value_counts(normalize=True)"
   ]
  },
  {
   "cell_type": "code",
   "execution_count": 17,
   "id": "0d94ad30",
   "metadata": {},
   "outputs": [],
   "source": [
    "# Rename column\n",
    "users.rename(columns={'ave_label':'user_label'}, inplace=True)"
   ]
  },
  {
   "cell_type": "code",
   "execution_count": 18,
   "id": "7e20c68b",
   "metadata": {},
   "outputs": [],
   "source": [
    "# Merge users dataframe to main df\n",
    "# In users df, there are information related to unique users' info.\n",
    "# Get this columns\n",
    "df_merge = users[['username_y','user_label','ave_length','ave_rating','ave_price']]\n",
    "\n",
    "df = df.merge(df_merge, how='left', on='username_y')\n"
   ]
  },
  {
   "cell_type": "code",
   "execution_count": 19,
   "id": "24dfc41d",
   "metadata": {},
   "outputs": [],
   "source": [
    "# Rename for further statistics\n",
    "users.rename(columns={'user_label':'label'}, inplace=True)"
   ]
  },
  {
   "cell_type": "markdown",
   "id": "66fb906b",
   "metadata": {},
   "source": [
    "### **2.2.1 Ratings Given by  All Users**"
   ]
  },
  {
   "cell_type": "code",
   "execution_count": 20,
   "id": "2eaf23e0",
   "metadata": {},
   "outputs": [
    {
     "data": {
      "image/png": "[encoded data removed]",
      "text/plain": [
       "<Figure size 432x288 with 1 Axes>"
      ]
     },
     "metadata": {
      "needs_background": "light"
     },
     "output_type": "display_data"
    }
   ],
   "source": [
    "ax = users[['user_reviews_1','user_reviews_2', 'user_reviews_3', \n",
    "       'user_reviews_4', 'user_reviews_5']].plot(kind='box',\n",
    "             color=dict(boxes='r', whiskers='r', medians='r', caps='r'),\n",
    "             boxprops=dict(linestyle='-', linewidth=1.5),\n",
    "             flierprops=dict(linestyle='-', linewidth=1.5),\n",
    "             medianprops=dict(linestyle='-', linewidth=1.5),\n",
    "             whiskerprops=dict(linestyle='-', linewidth=1.5),\n",
    "             capprops=dict(linestyle='-', linewidth=1.5),\n",
    "             showfliers=False, grid=True, rot=0)\n",
    "ax.set_title('Percentage of Ratings Given by Users')\n",
    "ax.set_xlabel('Stars')\n",
    "ax.set_ylabel('Percentages')\n",
    "ax.set_xticklabels(labels = ['1 star', '2 stars', '3 stars', '4 stars', '5 stars'], rotation=90)\n",
    "\n",
    "plt.show()"
   ]
  },
  {
   "cell_type": "markdown",
   "id": "00029a0f",
   "metadata": {},
   "source": [
    "### **2.2.2 Ratings Given by Users: Fake vs. Real Users**"
   ]
  },
  {
   "cell_type": "code",
   "execution_count": 21,
   "id": "e7c70f65",
   "metadata": {},
   "outputs": [
    {
     "data": {
      "text/html": [
       "<div>\n",
       "<style scoped>\n",
       "    .dataframe tbody tr th:only-of-type {\n",
       "        vertical-align: middle;\n",
       "    }\n",
       "\n",
       "    .dataframe tbody tr th {\n",
       "        vertical-align: top;\n",
       "    }\n",
       "\n",
       "    .dataframe thead th {\n",
       "        text-align: right;\n",
       "    }\n",
       "</style>\n",
       "<table border=\"1\" class=\"dataframe\">\n",
       "  <thead>\n",
       "    <tr style=\"text-align: right;\">\n",
       "      <th></th>\n",
       "      <th>user_reviews_1</th>\n",
       "      <th>user_reviews_2</th>\n",
       "      <th>user_reviews_3</th>\n",
       "      <th>user_reviews_4</th>\n",
       "      <th>user_reviews_5</th>\n",
       "    </tr>\n",
       "    <tr>\n",
       "      <th>label</th>\n",
       "      <th></th>\n",
       "      <th></th>\n",
       "      <th></th>\n",
       "      <th></th>\n",
       "      <th></th>\n",
       "    </tr>\n",
       "  </thead>\n",
       "  <tbody>\n",
       "    <tr>\n",
       "      <th>0.0</th>\n",
       "      <td>10.436133</td>\n",
       "      <td>3.507758</td>\n",
       "      <td>6.063045</td>\n",
       "      <td>15.852283</td>\n",
       "      <td>64.140781</td>\n",
       "    </tr>\n",
       "    <tr>\n",
       "      <th>1.0</th>\n",
       "      <td>4.147377</td>\n",
       "      <td>1.710628</td>\n",
       "      <td>4.588503</td>\n",
       "      <td>18.311390</td>\n",
       "      <td>71.242102</td>\n",
       "    </tr>\n",
       "  </tbody>\n",
       "</table>\n",
       "</div>"
      ],
      "text/plain": [
       "       user_reviews_1  user_reviews_2  user_reviews_3  user_reviews_4  \\\n",
       "label                                                                   \n",
       "0.0         10.436133        3.507758        6.063045       15.852283   \n",
       "1.0          4.147377        1.710628        4.588503       18.311390   \n",
       "\n",
       "       user_reviews_5  \n",
       "label                  \n",
       "0.0         64.140781  \n",
       "1.0         71.242102  "
      ]
     },
     "execution_count": 21,
     "metadata": {},
     "output_type": "execute_result"
    }
   ],
   "source": [
    "g = users.groupby('label')['user_reviews_1','user_reviews_2', 'user_reviews_3',\n",
    "                           'user_reviews_4', 'user_reviews_5'].mean()\n",
    "g"
   ]
  },
  {
   "cell_type": "code",
   "execution_count": 22,
   "id": "b9429dbc",
   "metadata": {},
   "outputs": [
    {
     "data": {
      "text/plain": [
       "<Figure size 2160x576 with 0 Axes>"
      ]
     },
     "metadata": {},
     "output_type": "display_data"
    },
    {
     "data": {
      "image/png": "[encoded data removed]",
      "text/plain": [
       "<Figure size 432x288 with 1 Axes>"
      ]
     },
     "metadata": {
      "needs_background": "light"
     },
     "output_type": "display_data"
    }
   ],
   "source": [
    "plt.figure(figsize=(30,8))\n",
    "g=g.reset_index()\n",
    "g.plot(x='label', y=['user_reviews_1','user_reviews_2', 'user_reviews_3', 'user_reviews_4', 'user_reviews_5'],\n",
    "       kind=\"bar\",  colormap='GnBu',edgecolor = \"black\")\n",
    "plt.legend(bbox_to_anchor=(1.05, 1), loc=2)\n",
    "plt.title('The Average Percentage of Ratings')\n",
    "plt.xticks([0, 1], ['Real Users', 'Fake Users'], rotation=0)\n",
    "plt.xlabel('Label of Users')\n",
    "plt.ylabel('Percentages')\n",
    "plt.show()"
   ]
  },
  {
   "cell_type": "markdown",
   "id": "48275214",
   "metadata": {},
   "source": [
    "### **2.2.3 Users who have 1 review**"
   ]
  },
  {
   "cell_type": "code",
   "execution_count": 23,
   "id": "d0fc6b3d",
   "metadata": {},
   "outputs": [
    {
     "name": "stdout",
     "output_type": "stream",
     "text": [
      "The number of users who has just 1 review is 1734\n"
     ]
    }
   ],
   "source": [
    "print('The number of users who has just 1 review is', len(users[users### **2.2.2 Ratings Given by Users: Fake vs. Real Users**\n",
    "[\"user_reviews_total\"]==1]))"
   ]
  },
  {
   "cell_type": "code",
   "execution_count": 24,
   "id": "d54bc013",
   "metadata": {},
   "outputs": [
    {
     "name": "stdout",
     "output_type": "stream",
     "text": [
      "Number of fake users who have just one review: 31\n",
      "Number of real users who have just one review: 1703\n"
     ]
    }
   ],
   "source": [
    "print('Number of fake users who have just one review:', len(users[(users[\"user_reviews_total\"]==1)& (users[\"label\"]==1)]))\n",
    "print('Number of real users who have just one review:', len(users[(users[\"user_reviews_total\"]==1)& (users[\"label\"]==0)]))"
   ]
  },
  {
   "cell_type": "code",
   "execution_count": 25,
   "id": "e7c21731",
   "metadata": {},
   "outputs": [
    {
     "name": "stdout",
     "output_type": "stream",
     "text": [
      "98.212 percentage of users who have 1 review are real.\n"
     ]
    }
   ],
   "source": [
    "print(round(1703/1734*100, 3), 'percentage of users who have 1 review are real.')"
   ]
  },
  {
   "cell_type": "code",
   "execution_count": 26,
   "id": "0b7a8669",
   "metadata": {},
   "outputs": [
    {
     "data": {
      "image/png": "[encoded data removed]",
      "text/plain": [
       "<Figure size 432x288 with 1 Axes>"
      ]
     },
     "metadata": {
      "needs_background": "light"
     },
     "output_type": "display_data"
    }
   ],
   "source": [
    "# the crosstable for users who has just 1 review\n",
    "g = sns.countplot(x = 'label', data =  users[users[\"user_reviews_total\"]==1],palette='GnBu', edgecolor = \"black\")\n",
    "\n",
    "g.set_title(\"The distribution of users who have 1 review\", fontsize=12)\n",
    "g.set(xlabel=\"Label of Users\",\n",
    "      ylabel=\"Number of Users\")\n",
    "g.set_xticklabels(['Real Users', 'Fake Users'])\n",
    "\n",
    "for p in g.patches:\n",
    "    percentage = '{:.1f}%'.format(100 * p.get_height()/1734)\n",
    "    x = p.get_x() + p.get_width()\n",
    "    y = p.get_height()\n",
    "    g.annotate(percentage, (x, y),ha='right')\n",
    "plt.show()"
   ]
  },
  {
   "cell_type": "markdown",
   "id": "e688b4f0",
   "metadata": {},
   "source": [
    "***Is there a difference between the fake or real reviews of users who only have one review?***"
   ]
  },
  {
   "cell_type": "code",
   "execution_count": 27,
   "id": "c591ae5e",
   "metadata": {},
   "outputs": [
    {
     "data": {
      "text/plain": [
       "Power_divergenceResult(statistic=1612.2168396770473, pvalue=0.0)"
      ]
     },
     "execution_count": 27,
     "metadata": {},
     "output_type": "execute_result"
    }
   ],
   "source": [
    "from scipy.stats import chisquare\n",
    "chisquare([31, 1703])"
   ]
  },
  {
   "cell_type": "markdown",
   "id": "6cc30581",
   "metadata": {},
   "source": [
    "### **2.2.4 Users' total reviews: Fake vs. Real Users**"
   ]
  },
  {
   "cell_type": "code",
   "execution_count": 28,
   "id": "e10ca07b",
   "metadata": {
    "scrolled": true
   },
   "outputs": [
    {
     "data": {
      "text/html": [
       "<div>\n",
       "<style scoped>\n",
       "    .dataframe tbody tr th:only-of-type {\n",
       "        vertical-align: middle;\n",
       "    }\n",
       "\n",
       "    .dataframe tbody tr th {\n",
       "        vertical-align: top;\n",
       "    }\n",
       "\n",
       "    .dataframe thead th {\n",
       "        text-align: right;\n",
       "    }\n",
       "</style>\n",
       "<table border=\"1\" class=\"dataframe\">\n",
       "  <thead>\n",
       "    <tr style=\"text-align: right;\">\n",
       "      <th></th>\n",
       "      <th>count</th>\n",
       "      <th>mean</th>\n",
       "      <th>std</th>\n",
       "      <th>min</th>\n",
       "      <th>25%</th>\n",
       "      <th>50%</th>\n",
       "      <th>75%</th>\n",
       "      <th>max</th>\n",
       "    </tr>\n",
       "    <tr>\n",
       "      <th>label</th>\n",
       "      <th></th>\n",
       "      <th></th>\n",
       "      <th></th>\n",
       "      <th></th>\n",
       "      <th></th>\n",
       "      <th></th>\n",
       "      <th></th>\n",
       "      <th></th>\n",
       "    </tr>\n",
       "  </thead>\n",
       "  <tbody>\n",
       "    <tr>\n",
       "      <th>0.0</th>\n",
       "      <td>7993.0</td>\n",
       "      <td>6.850619</td>\n",
       "      <td>16.464858</td>\n",
       "      <td>1.0</td>\n",
       "      <td>2.0</td>\n",
       "      <td>4.0</td>\n",
       "      <td>7.0</td>\n",
       "      <td>573.0</td>\n",
       "    </tr>\n",
       "    <tr>\n",
       "      <th>1.0</th>\n",
       "      <td>703.0</td>\n",
       "      <td>31.503556</td>\n",
       "      <td>50.842948</td>\n",
       "      <td>1.0</td>\n",
       "      <td>6.0</td>\n",
       "      <td>16.0</td>\n",
       "      <td>35.0</td>\n",
       "      <td>636.0</td>\n",
       "    </tr>\n",
       "  </tbody>\n",
       "</table>\n",
       "</div>"
      ],
      "text/plain": [
       "        count       mean        std  min  25%   50%   75%    max\n",
       "label                                                           \n",
       "0.0    7993.0   6.850619  16.464858  1.0  2.0   4.0   7.0  573.0\n",
       "1.0     703.0  31.503556  50.842948  1.0  6.0  16.0  35.0  636.0"
      ]
     },
     "execution_count": 28,
     "metadata": {},
     "output_type": "execute_result"
    }
   ],
   "source": [
    "# Descriptive statistics of total reviews.\n",
    "users.groupby([\"label\"])[\"user_reviews_total\"].describe()"
   ]
  },
  {
   "cell_type": "code",
   "execution_count": 29,
   "id": "00aff45b",
   "metadata": {},
   "outputs": [
    {
     "data": {
      "image/png": "[encoded data removed]",
      "text/plain": [
       "<Figure size 576x360 with 1 Axes>"
      ]
     },
     "metadata": {
      "needs_background": "light"
     },
     "output_type": "display_data"
    }
   ],
   "source": [
    "plt.figure(figsize=(8,5))\n",
    "sns.histplot(x='user_reviews_total', data=users, hue='label', binwidth=20, palette='GnBu'\n",
    "            ,multiple='stack')\n",
    "plt.xlabel('Total Review of Users')\n",
    "plt.ylabel('Frequency')\n",
    "plt.legend(['Real Users', 'Fake Users'])\n",
    "plt.show()"
   ]
  },
  {
   "cell_type": "code",
   "execution_count": 30,
   "id": "63c997ce",
   "metadata": {},
   "outputs": [
    {
     "data": {
      "text/plain": [
       "<Figure size 1440x720 with 0 Axes>"
      ]
     },
     "metadata": {},
     "output_type": "display_data"
    },
    {
     "data": {
      "image/png": "[encoded data removed]",
      "text/plain": [
       "<Figure size 1080x216 with 2 Axes>"
      ]
     },
     "metadata": {
      "needs_background": "light"
     },
     "output_type": "display_data"
    }
   ],
   "source": [
    "# Histogram of total reviews\n",
    "plt.figure(figsize=(20,10))\n",
    "fig, (ax0, ax1) = plt.subplots(nrows=1, ncols=2, sharey=True, figsize=(15,3))\n",
    "\n",
    "sns.histplot(users[users['label']==0]['user_reviews_total'], ax=ax0, bins=30, binwidth=20)\n",
    "sns.histplot(users[users['label']==1]['user_reviews_total'], ax=ax1, bins=30)\n",
    "ax0.set(xlabel=\"Real Users' Total Review\")\n",
    "ax1.set(xlabel=\"Fake Users' Total Review\")\n",
    "ax0.set(ylabel='Number of Users')\n",
    "plt.show()"
   ]
  },
  {
   "cell_type": "markdown",
   "id": "b243fa60",
   "metadata": {},
   "source": [
    "***Is there a difference between real and fake users regarding total reviews?***"
   ]
  },
  {
   "cell_type": "code",
   "execution_count": 31,
   "id": "42ec8d2e",
   "metadata": {},
   "outputs": [
    {
     "data": {
      "image/png": "[encoded data removed]",
      "text/plain": [
       "<Figure size 432x288 with 1 Axes>"
      ]
     },
     "metadata": {
      "needs_background": "light"
     },
     "output_type": "display_data"
    }
   ],
   "source": [
    "# Check normality\n",
    "qqplot(users['user_reviews_total'], line='s')\n",
    "plt.show()"
   ]
  },
  {
   "cell_type": "markdown",
   "id": "cedb8d55",
   "metadata": {},
   "source": [
    "The plot indicates the sampling distribution is not normally distributed."
   ]
  },
  {
   "cell_type": "code",
   "execution_count": 32,
   "id": "a057af7d",
   "metadata": {},
   "outputs": [
    {
     "name": "stdout",
     "output_type": "stream",
     "text": [
      "Statistics=0.288, p=0.000\n",
      "Sample does not look Gaussian (reject H0)\n"
     ]
    }
   ],
   "source": [
    "# normality test\n",
    "stat, p = shapiro(users['user_reviews_total'])\n",
    "print('Statistics=%.3f, p=%.3f' % (stat, p))\n",
    "# interpret\n",
    "alpha = 0.05\n",
    "if p > alpha:\n",
    "    print('Sample looks Gaussian (fail to reject H0)')\n",
    "else:\n",
    "    print('Sample does not look Gaussian (reject H0)')"
   ]
  },
  {
   "cell_type": "code",
   "execution_count": 33,
   "id": "2188ce2a",
   "metadata": {},
   "outputs": [
    {
     "data": {
      "text/plain": [
       "MannwhitneyuResult(statistic=1131691.0, pvalue=1.515259439968013e-154)"
      ]
     },
     "execution_count": 33,
     "metadata": {},
     "output_type": "execute_result"
    }
   ],
   "source": [
    "# Carrying out the Wilcoxon–Mann–Whitney test\n",
    "results = mannwhitneyu(users['user_reviews_total'][users['label'] == 0],\n",
    "                users['user_reviews_total'][users['label'] == 1])\n",
    "results"
   ]
  },
  {
   "cell_type": "code",
   "execution_count": 34,
   "id": "cc5bcb82",
   "metadata": {},
   "outputs": [
    {
     "data": {
      "text/plain": [
       "Ttest_indResult(statistic=-29.28479909105381, pvalue=7.114583206267576e-180)"
      ]
     },
     "execution_count": 34,
     "metadata": {},
     "output_type": "execute_result"
    }
   ],
   "source": [
    "stats.ttest_ind(users['user_reviews_total'][users['label'] == 0],\n",
    "                users['user_reviews_total'][users['label'] == 1])"
   ]
  },
  {
   "cell_type": "markdown",
   "id": "1587981e",
   "metadata": {},
   "source": [
    "### **2.2.5 Users' vote counts: Fake vs. Real Users**"
   ]
  },
  {
   "cell_type": "code",
   "execution_count": 35,
   "id": "182c4fc5",
   "metadata": {},
   "outputs": [
    {
     "data": {
      "text/html": [
       "<div>\n",
       "<style scoped>\n",
       "    .dataframe tbody tr th:only-of-type {\n",
       "        vertical-align: middle;\n",
       "    }\n",
       "\n",
       "    .dataframe tbody tr th {\n",
       "        vertical-align: top;\n",
       "    }\n",
       "\n",
       "    .dataframe thead th {\n",
       "        text-align: right;\n",
       "    }\n",
       "</style>\n",
       "<table border=\"1\" class=\"dataframe\">\n",
       "  <thead>\n",
       "    <tr style=\"text-align: right;\">\n",
       "      <th></th>\n",
       "      <th>count</th>\n",
       "      <th>mean</th>\n",
       "      <th>std</th>\n",
       "      <th>min</th>\n",
       "      <th>25%</th>\n",
       "      <th>50%</th>\n",
       "      <th>75%</th>\n",
       "      <th>max</th>\n",
       "    </tr>\n",
       "    <tr>\n",
       "      <th>label</th>\n",
       "      <th></th>\n",
       "      <th></th>\n",
       "      <th></th>\n",
       "      <th></th>\n",
       "      <th></th>\n",
       "      <th></th>\n",
       "      <th></th>\n",
       "      <th></th>\n",
       "    </tr>\n",
       "  </thead>\n",
       "  <tbody>\n",
       "    <tr>\n",
       "      <th>0.0</th>\n",
       "      <td>7993.0</td>\n",
       "      <td>0.066308</td>\n",
       "      <td>1.088137</td>\n",
       "      <td>0.0</td>\n",
       "      <td>0.0</td>\n",
       "      <td>0.0</td>\n",
       "      <td>0.0</td>\n",
       "      <td>84.0</td>\n",
       "    </tr>\n",
       "    <tr>\n",
       "      <th>1.0</th>\n",
       "      <td>703.0</td>\n",
       "      <td>0.045519</td>\n",
       "      <td>0.520989</td>\n",
       "      <td>0.0</td>\n",
       "      <td>0.0</td>\n",
       "      <td>0.0</td>\n",
       "      <td>0.0</td>\n",
       "      <td>12.0</td>\n",
       "    </tr>\n",
       "  </tbody>\n",
       "</table>\n",
       "</div>"
      ],
      "text/plain": [
       "        count      mean       std  min  25%  50%  75%   max\n",
       "label                                                      \n",
       "0.0    7993.0  0.066308  1.088137  0.0  0.0  0.0  0.0  84.0\n",
       "1.0     703.0  0.045519  0.520989  0.0  0.0  0.0  0.0  12.0"
      ]
     },
     "execution_count": 35,
     "metadata": {},
     "output_type": "execute_result"
    }
   ],
   "source": [
    "users.groupby([\"label\"])[\"voteCount\"].describe()"
   ]
  },
  {
   "cell_type": "markdown",
   "id": "813a7987",
   "metadata": {},
   "source": [
    "***Is there a difference between real and fake users regarding vote counts?***"
   ]
  },
  {
   "cell_type": "code",
   "execution_count": 36,
   "id": "0bbf6dde",
   "metadata": {},
   "outputs": [
    {
     "data": {
      "image/png": "[encoded data removed]",
      "text/plain": [
       "<Figure size 432x288 with 1 Axes>"
      ]
     },
     "metadata": {
      "needs_background": "light"
     },
     "output_type": "display_data"
    }
   ],
   "source": [
    "# Check normality\n",
    "qqplot(users['voteCount'], line='s')\n",
    "plt.show()"
   ]
  },
  {
   "cell_type": "markdown",
   "id": "5e51003f",
   "metadata": {},
   "source": [
    "The plot indicates the sampling distribution is not normally distributed."
   ]
  },
  {
   "cell_type": "code",
   "execution_count": 37,
   "id": "c7a31a33",
   "metadata": {},
   "outputs": [
    {
     "name": "stdout",
     "output_type": "stream",
     "text": [
      "Statistics=0.031, p=0.000\n",
      "Sample does not look Gaussian (reject H0)\n"
     ]
    }
   ],
   "source": [
    "from scipy.stats import shapiro\n",
    "# normality test\n",
    "stat, p = shapiro(users['voteCount'])\n",
    "print('Statistics=%.3f, p=%.3f' % (stat, p))\n",
    "# interpret\n",
    "alpha = 0.05\n",
    "if p > alpha:\n",
    "\tprint('Sample looks Gaussian (fail to reject H0)')\n",
    "else:\n",
    "\tprint('Sample does not look Gaussian (reject H0)')"
   ]
  },
  {
   "cell_type": "code",
   "execution_count": 38,
   "id": "41cb8f83",
   "metadata": {},
   "outputs": [
    {
     "data": {
      "text/plain": [
       "MannwhitneyuResult(statistic=2825697.5, pvalue=0.3508767334756109)"
      ]
     },
     "execution_count": 38,
     "metadata": {},
     "output_type": "execute_result"
    }
   ],
   "source": [
    "# Carrying out the Wilcoxon–Mann–Whitney test\n",
    "results = mannwhitneyu(users['voteCount'][users['label'] == 0],\n",
    "                users['voteCount'][users['label'] == 1])\n",
    "results"
   ]
  },
  {
   "cell_type": "code",
   "execution_count": 39,
   "id": "5d3a5c04",
   "metadata": {},
   "outputs": [
    {
     "data": {
      "text/plain": [
       "Ttest_indResult(statistic=0.5015014866990243, pvalue=0.6160309300438593)"
      ]
     },
     "execution_count": 39,
     "metadata": {},
     "output_type": "execute_result"
    }
   ],
   "source": [
    "stats.ttest_ind(users['voteCount'][users['label'] == 0],\n",
    "                users['voteCount'][users['label'] == 1])"
   ]
  },
  {
   "cell_type": "markdown",
   "id": "d4ae7223",
   "metadata": {},
   "source": [
    "### **2.2.6 Users' account usage: Fake vs. Real Users**"
   ]
  },
  {
   "cell_type": "code",
   "execution_count": 40,
   "id": "13b55ec9",
   "metadata": {
    "scrolled": true
   },
   "outputs": [
    {
     "data": {
      "text/html": [
       "<div>\n",
       "<style scoped>\n",
       "    .dataframe tbody tr th:only-of-type {\n",
       "        vertical-align: middle;\n",
       "    }\n",
       "\n",
       "    .dataframe tbody tr th {\n",
       "        vertical-align: top;\n",
       "    }\n",
       "\n",
       "    .dataframe thead th {\n",
       "        text-align: right;\n",
       "    }\n",
       "</style>\n",
       "<table border=\"1\" class=\"dataframe\">\n",
       "  <thead>\n",
       "    <tr style=\"text-align: right;\">\n",
       "      <th></th>\n",
       "      <th>count</th>\n",
       "      <th>mean</th>\n",
       "      <th>std</th>\n",
       "      <th>min</th>\n",
       "      <th>25%</th>\n",
       "      <th>50%</th>\n",
       "      <th>75%</th>\n",
       "      <th>max</th>\n",
       "    </tr>\n",
       "    <tr>\n",
       "      <th>label</th>\n",
       "      <th></th>\n",
       "      <th></th>\n",
       "      <th></th>\n",
       "      <th></th>\n",
       "      <th></th>\n",
       "      <th></th>\n",
       "      <th></th>\n",
       "      <th></th>\n",
       "    </tr>\n",
       "  </thead>\n",
       "  <tbody>\n",
       "    <tr>\n",
       "      <th>0.0</th>\n",
       "      <td>7993.0</td>\n",
       "      <td>6.594189e+07</td>\n",
       "      <td>6.408793e+07</td>\n",
       "      <td>0.0</td>\n",
       "      <td>3418200.0</td>\n",
       "      <td>49017180.0</td>\n",
       "      <td>114672720.0</td>\n",
       "      <td>272820300.0</td>\n",
       "    </tr>\n",
       "    <tr>\n",
       "      <th>1.0</th>\n",
       "      <td>703.0</td>\n",
       "      <td>5.521763e+07</td>\n",
       "      <td>6.092646e+07</td>\n",
       "      <td>0.0</td>\n",
       "      <td>4865220.0</td>\n",
       "      <td>29575380.0</td>\n",
       "      <td>91190310.0</td>\n",
       "      <td>257020620.0</td>\n",
       "    </tr>\n",
       "  </tbody>\n",
       "</table>\n",
       "</div>"
      ],
      "text/plain": [
       "        count          mean           std  min        25%         50%  \\\n",
       "label                                                                   \n",
       "0.0    7993.0  6.594189e+07  6.408793e+07  0.0  3418200.0  49017180.0   \n",
       "1.0     703.0  5.521763e+07  6.092646e+07  0.0  4865220.0  29575380.0   \n",
       "\n",
       "               75%          max  \n",
       "label                            \n",
       "0.0    114672720.0  272820300.0  \n",
       "1.0     91190310.0  257020620.0  "
      ]
     },
     "execution_count": 40,
     "metadata": {},
     "output_type": "execute_result"
    }
   ],
   "source": [
    "users.groupby([\"label\"])[\"user_account_usage\"].describe()"
   ]
  },
  {
   "cell_type": "markdown",
   "id": "e5a40367",
   "metadata": {},
   "source": [
    "***Is there a difference between real and fake users regarding account usage?***"
   ]
  },
  {
   "cell_type": "code",
   "execution_count": 41,
   "id": "0f80c7a3",
   "metadata": {},
   "outputs": [
    {
     "data": {
      "image/png": "[encoded data removed]",
      "text/plain": [
       "<Figure size 432x288 with 1 Axes>"
      ]
     },
     "metadata": {
      "needs_background": "light"
     },
     "output_type": "display_data"
    }
   ],
   "source": [
    "from statsmodels.graphics.gofplots import qqplot\n",
    "\n",
    "qqplot(users['user_account_usage'], line='s')\n",
    "plt.show()"
   ]
  },
  {
   "cell_type": "markdown",
   "id": "6afeaf36",
   "metadata": {},
   "source": [
    "The plot indicates the sampling distribution is not normally distributed."
   ]
  },
  {
   "cell_type": "code",
   "execution_count": 42,
   "id": "abf69922",
   "metadata": {},
   "outputs": [
    {
     "name": "stdout",
     "output_type": "stream",
     "text": [
      "Statistics=0.887, p=0.000\n",
      "Sample does not look Gaussian (reject H0)\n"
     ]
    }
   ],
   "source": [
    "# normality test\n",
    "stat, p = shapiro(users['user_account_usage'])\n",
    "print('Statistics=%.3f, p=%.3f' % (stat, p))\n",
    "# interpret\n",
    "alpha = 0.05\n",
    "if p > alpha:\n",
    "\tprint('Sample looks Gaussian (fail to reject H0)')\n",
    "else:\n",
    "\tprint('Sample does not look Gaussian (reject H0)')"
   ]
  },
  {
   "cell_type": "code",
   "execution_count": 43,
   "id": "77e76ba3",
   "metadata": {},
   "outputs": [
    {
     "data": {
      "text/plain": [
       "MannwhitneyuResult(statistic=2938089.5, pvalue=0.04312967621864115)"
      ]
     },
     "execution_count": 43,
     "metadata": {},
     "output_type": "execute_result"
    }
   ],
   "source": [
    "# Carrying out the Wilcoxon–Mann–Whitney test\n",
    "results = mannwhitneyu(users['user_account_usage'][users['label'] == 0],\n",
    "                users['user_account_usage'][users['label'] == 1])\n",
    "results"
   ]
  },
  {
   "cell_type": "code",
   "execution_count": 44,
   "id": "0a77e601",
   "metadata": {},
   "outputs": [
    {
     "data": {
      "text/plain": [
       "Ttest_indResult(statistic=4.270296732523434, pvalue=1.9728870755966397e-05)"
      ]
     },
     "execution_count": 44,
     "metadata": {},
     "output_type": "execute_result"
    }
   ],
   "source": [
    "stats.ttest_ind(users['user_account_usage'][users['label'] == 0],\n",
    "                users['user_account_usage'][users['label'] == 1])"
   ]
  },
  {
   "cell_type": "markdown",
   "id": "cc5e8cf3",
   "metadata": {},
   "source": [
    "### **2.2.7 Average rating given by users: Fake vs. Real Users**"
   ]
  },
  {
   "cell_type": "code",
   "execution_count": 45,
   "id": "68b82461",
   "metadata": {
    "scrolled": false
   },
   "outputs": [
    {
     "data": {
      "text/html": [
       "<div>\n",
       "<style scoped>\n",
       "    .dataframe tbody tr th:only-of-type {\n",
       "        vertical-align: middle;\n",
       "    }\n",
       "\n",
       "    .dataframe tbody tr th {\n",
       "        vertical-align: top;\n",
       "    }\n",
       "\n",
       "    .dataframe thead th {\n",
       "        text-align: right;\n",
       "    }\n",
       "</style>\n",
       "<table border=\"1\" class=\"dataframe\">\n",
       "  <thead>\n",
       "    <tr style=\"text-align: right;\">\n",
       "      <th></th>\n",
       "      <th>count</th>\n",
       "      <th>mean</th>\n",
       "      <th>std</th>\n",
       "      <th>min</th>\n",
       "      <th>25%</th>\n",
       "      <th>50%</th>\n",
       "      <th>75%</th>\n",
       "      <th>max</th>\n",
       "    </tr>\n",
       "    <tr>\n",
       "      <th>label</th>\n",
       "      <th></th>\n",
       "      <th></th>\n",
       "      <th></th>\n",
       "      <th></th>\n",
       "      <th></th>\n",
       "      <th></th>\n",
       "      <th></th>\n",
       "      <th></th>\n",
       "    </tr>\n",
       "  </thead>\n",
       "  <tbody>\n",
       "    <tr>\n",
       "      <th>0.0</th>\n",
       "      <td>7993.0</td>\n",
       "      <td>4.197173</td>\n",
       "      <td>1.329563</td>\n",
       "      <td>1.0</td>\n",
       "      <td>4.000000</td>\n",
       "      <td>5.000000</td>\n",
       "      <td>5.0</td>\n",
       "      <td>5.0</td>\n",
       "    </tr>\n",
       "    <tr>\n",
       "      <th>1.0</th>\n",
       "      <td>703.0</td>\n",
       "      <td>4.603794</td>\n",
       "      <td>0.544046</td>\n",
       "      <td>1.0</td>\n",
       "      <td>4.320513</td>\n",
       "      <td>4.857143</td>\n",
       "      <td>5.0</td>\n",
       "      <td>5.0</td>\n",
       "    </tr>\n",
       "  </tbody>\n",
       "</table>\n",
       "</div>"
      ],
      "text/plain": [
       "        count      mean       std  min       25%       50%  75%  max\n",
       "label                                                               \n",
       "0.0    7993.0  4.197173  1.329563  1.0  4.000000  5.000000  5.0  5.0\n",
       "1.0     703.0  4.603794  0.544046  1.0  4.320513  4.857143  5.0  5.0"
      ]
     },
     "execution_count": 45,
     "metadata": {},
     "output_type": "execute_result"
    }
   ],
   "source": [
    "users.groupby([\"label\"])[\"ave_rating\"].describe()"
   ]
  },
  {
   "cell_type": "markdown",
   "id": "8f327aaa",
   "metadata": {},
   "source": [
    "***Is there a difference between real and fake users in terms of the average of the rating they give?***"
   ]
  },
  {
   "cell_type": "code",
   "execution_count": 46,
   "id": "993f04c5",
   "metadata": {},
   "outputs": [
    {
     "data": {
      "image/png": "[encoded data removed]",
      "text/plain": [
       "<Figure size 432x288 with 1 Axes>"
      ]
     },
     "metadata": {
      "needs_background": "light"
     },
     "output_type": "display_data"
    }
   ],
   "source": [
    "# plot for normality\n",
    "qqplot(users['ave_rating'], line='s')\n",
    "plt.show()"
   ]
  },
  {
   "cell_type": "markdown",
   "id": "b67288d6",
   "metadata": {},
   "source": [
    "The plot indicates the sampling distribution is not normally distributed."
   ]
  },
  {
   "cell_type": "code",
   "execution_count": 47,
   "id": "3ff637c7",
   "metadata": {},
   "outputs": [
    {
     "name": "stdout",
     "output_type": "stream",
     "text": [
      "Statistics=0.634, p=0.000\n",
      "Sample does not look Gaussian (reject H0)\n"
     ]
    }
   ],
   "source": [
    "# normality test\n",
    "stat, p = shapiro(users['ave_rating'])\n",
    "print('Statistics=%.3f, p=%.3f' % (stat, p))\n",
    "# interpret\n",
    "alpha = 0.05\n",
    "if p > alpha:\n",
    "\tprint('Sample looks Gaussian (fail to reject H0)')\n",
    "else:\n",
    "\tprint('Sample does not look Gaussian (reject H0)')"
   ]
  },
  {
   "cell_type": "code",
   "execution_count": 48,
   "id": "7e2eedeb",
   "metadata": {},
   "outputs": [
    {
     "data": {
      "text/plain": [
       "MannwhitneyuResult(statistic=2933236.5, pvalue=0.024844052221876804)"
      ]
     },
     "execution_count": 48,
     "metadata": {},
     "output_type": "execute_result"
    }
   ],
   "source": [
    "# Carrying out the Wilcoxon–Mann–Whitney test\n",
    "results = mannwhitneyu(users['ave_rating'][users['label'] == 0],\n",
    "                users['ave_rating'][users['label'] == 1])\n",
    "results"
   ]
  },
  {
   "cell_type": "code",
   "execution_count": 49,
   "id": "e2d984eb",
   "metadata": {},
   "outputs": [
    {
     "data": {
      "text/plain": [
       "Ttest_indResult(statistic=-8.049438560963647, pvalue=9.413732714561595e-16)"
      ]
     },
     "execution_count": 49,
     "metadata": {},
     "output_type": "execute_result"
    }
   ],
   "source": [
    "stats.ttest_ind(users['ave_rating'][users['label'] == 0],\n",
    "                users['ave_rating'][users['label'] == 1])"
   ]
  },
  {
   "cell_type": "markdown",
   "id": "6fea7417",
   "metadata": {},
   "source": [
    "### **2.2.8 Reviews' average lenght: Fake vs. Real Users**"
   ]
  },
  {
   "cell_type": "code",
   "execution_count": 50,
   "id": "88fcff4e",
   "metadata": {
    "scrolled": false
   },
   "outputs": [
    {
     "data": {
      "text/html": [
       "<div>\n",
       "<style scoped>\n",
       "    .dataframe tbody tr th:only-of-type {\n",
       "        vertical-align: middle;\n",
       "    }\n",
       "\n",
       "    .dataframe tbody tr th {\n",
       "        vertical-align: top;\n",
       "    }\n",
       "\n",
       "    .dataframe thead th {\n",
       "        text-align: right;\n",
       "    }\n",
       "</style>\n",
       "<table border=\"1\" class=\"dataframe\">\n",
       "  <thead>\n",
       "    <tr style=\"text-align: right;\">\n",
       "      <th></th>\n",
       "      <th>count</th>\n",
       "      <th>mean</th>\n",
       "      <th>std</th>\n",
       "      <th>min</th>\n",
       "      <th>25%</th>\n",
       "      <th>50%</th>\n",
       "      <th>75%</th>\n",
       "      <th>max</th>\n",
       "    </tr>\n",
       "    <tr>\n",
       "      <th>label</th>\n",
       "      <th></th>\n",
       "      <th></th>\n",
       "      <th></th>\n",
       "      <th></th>\n",
       "      <th></th>\n",
       "      <th></th>\n",
       "      <th></th>\n",
       "      <th></th>\n",
       "    </tr>\n",
       "  </thead>\n",
       "  <tbody>\n",
       "    <tr>\n",
       "      <th>0.0</th>\n",
       "      <td>7993.0</td>\n",
       "      <td>111.821656</td>\n",
       "      <td>149.785900</td>\n",
       "      <td>2.0</td>\n",
       "      <td>29.0</td>\n",
       "      <td>65.0</td>\n",
       "      <td>136.000000</td>\n",
       "      <td>4048.0</td>\n",
       "    </tr>\n",
       "    <tr>\n",
       "      <th>1.0</th>\n",
       "      <td>703.0</td>\n",
       "      <td>113.374550</td>\n",
       "      <td>57.505878</td>\n",
       "      <td>11.0</td>\n",
       "      <td>77.0</td>\n",
       "      <td>107.0</td>\n",
       "      <td>138.791667</td>\n",
       "      <td>474.0</td>\n",
       "    </tr>\n",
       "  </tbody>\n",
       "</table>\n",
       "</div>"
      ],
      "text/plain": [
       "        count        mean         std   min   25%    50%         75%     max\n",
       "label                                                                       \n",
       "0.0    7993.0  111.821656  149.785900   2.0  29.0   65.0  136.000000  4048.0\n",
       "1.0     703.0  113.374550   57.505878  11.0  77.0  107.0  138.791667   474.0"
      ]
     },
     "execution_count": 50,
     "metadata": {},
     "output_type": "execute_result"
    }
   ],
   "source": [
    "users.groupby([\"label\"])[\"ave_length\"].describe()"
   ]
  },
  {
   "cell_type": "markdown",
   "id": "c1f552ac",
   "metadata": {},
   "source": [
    "***Is there a difference between real and fake users in terms of the average length of their reviews?***"
   ]
  },
  {
   "cell_type": "code",
   "execution_count": 51,
   "id": "a0a3a7dc",
   "metadata": {},
   "outputs": [
    {
     "data": {
      "image/png": "[encoded data removed]",
      "text/plain": [
       "<Figure size 432x288 with 1 Axes>"
      ]
     },
     "metadata": {
      "needs_background": "light"
     },
     "output_type": "display_data"
    }
   ],
   "source": [
    "# plot for normality\n",
    "qqplot(users['ave_length'], line='s')\n",
    "plt.show()"
   ]
  },
  {
   "cell_type": "markdown",
   "id": "647384a7",
   "metadata": {},
   "source": [
    "The plot indicates the sampling distribution is not normally distributed."
   ]
  },
  {
   "cell_type": "code",
   "execution_count": 52,
   "id": "48b4f05a",
   "metadata": {},
   "outputs": [
    {
     "name": "stdout",
     "output_type": "stream",
     "text": [
      "Statistics=0.601, p=0.000\n",
      "Sample does not look Gaussian (reject H0)\n"
     ]
    }
   ],
   "source": [
    "# normality test\n",
    "stat, p = shapiro(users['ave_length'])\n",
    "print('Statistics=%.3f, p=%.3f' % (stat, p))\n",
    "# interpret\n",
    "alpha = 0.05\n",
    "if p > alpha:\n",
    "\tprint('Sample looks Gaussian (fail to reject H0)')\n",
    "else:\n",
    "\tprint('Sample does not look Gaussian (reject H0)')"
   ]
  },
  {
   "cell_type": "code",
   "execution_count": 53,
   "id": "8f22c994",
   "metadata": {},
   "outputs": [
    {
     "data": {
      "text/plain": [
       "MannwhitneyuResult(statistic=2035941.5, pvalue=8.012999638712782e-34)"
      ]
     },
     "execution_count": 53,
     "metadata": {},
     "output_type": "execute_result"
    }
   ],
   "source": [
    "# Carrying out the Wilcoxon–Mann–Whitney test\n",
    "results = mannwhitneyu(users['ave_length'][users['label'] == 0],\n",
    "                users['ave_length'][users['label'] == 1])\n",
    "results"
   ]
  },
  {
   "cell_type": "code",
   "execution_count": 54,
   "id": "b7ce33bd",
   "metadata": {},
   "outputs": [
    {
     "data": {
      "text/plain": [
       "Ttest_indResult(statistic=-0.2731066503809471, pvalue=0.784777721543255)"
      ]
     },
     "execution_count": 54,
     "metadata": {},
     "output_type": "execute_result"
    }
   ],
   "source": [
    "stats.ttest_ind(users['ave_length'][users['label'] == 0],\n",
    "                users['ave_length'][users['label'] == 1])"
   ]
  },
  {
   "cell_type": "markdown",
   "id": "6ce0af9e",
   "metadata": {},
   "source": [
    "### **2.2.9 Users' vote counts and vote sum**"
   ]
  },
  {
   "cell_type": "markdown",
   "id": "f004929b",
   "metadata": {},
   "source": [
    "***Is there relationship between users' vote counts and vote sum?***"
   ]
  },
  {
   "cell_type": "code",
   "execution_count": 55,
   "id": "8b695320",
   "metadata": {},
   "outputs": [
    {
     "data": {
      "text/plain": [
       "<matplotlib.legend.Legend at 0x11a2b7430>"
      ]
     },
     "execution_count": 55,
     "metadata": {},
     "output_type": "execute_result"
    },
    {
     "data": {
      "image/png": "[encoded data removed]",
      "text/plain": [
       "<Figure size 432x288 with 1 Axes>"
      ]
     },
     "metadata": {
      "needs_background": "light"
     },
     "output_type": "display_data"
    }
   ],
   "source": [
    "# Examine the correlation between vote counts and vote sums\n",
    "g = sns.scatterplot(data=users, x=\"voteCount\", y=\"voteSum\", hue='label', palette='GnBu', edgecolor = \"black\")\n",
    "g.legend(title = 'Review Label', fontsize = 15) "
   ]
  },
  {
   "cell_type": "code",
   "execution_count": 56,
   "id": "6d8ac640",
   "metadata": {},
   "outputs": [
    {
     "name": "stdout",
     "output_type": "stream",
     "text": [
      "Pearsons correlation: 0.971\n"
     ]
    }
   ],
   "source": [
    "corr, _ = pearsonr(users[\"voteSum\"], users[\"voteCount\"])\n",
    "print('Pearsons correlation: %.3f' % corr)"
   ]
  },
  {
   "cell_type": "markdown",
   "id": "752bfdaa",
   "metadata": {},
   "source": [
    "### **2.2.10 Average price paid for apps: Fake vs. Real Users**"
   ]
  },
  {
   "cell_type": "code",
   "execution_count": 57,
   "id": "fa0f1dbe",
   "metadata": {},
   "outputs": [
    {
     "data": {
      "text/html": [
       "<div>\n",
       "<style scoped>\n",
       "    .dataframe tbody tr th:only-of-type {\n",
       "        vertical-align: middle;\n",
       "    }\n",
       "\n",
       "    .dataframe tbody tr th {\n",
       "        vertical-align: top;\n",
       "    }\n",
       "\n",
       "    .dataframe thead th {\n",
       "        text-align: right;\n",
       "    }\n",
       "</style>\n",
       "<table border=\"1\" class=\"dataframe\">\n",
       "  <thead>\n",
       "    <tr style=\"text-align: right;\">\n",
       "      <th></th>\n",
       "      <th>count</th>\n",
       "      <th>mean</th>\n",
       "      <th>std</th>\n",
       "      <th>min</th>\n",
       "      <th>25%</th>\n",
       "      <th>50%</th>\n",
       "      <th>75%</th>\n",
       "      <th>max</th>\n",
       "    </tr>\n",
       "    <tr>\n",
       "      <th>label</th>\n",
       "      <th></th>\n",
       "      <th></th>\n",
       "      <th></th>\n",
       "      <th></th>\n",
       "      <th></th>\n",
       "      <th></th>\n",
       "      <th></th>\n",
       "      <th></th>\n",
       "    </tr>\n",
       "  </thead>\n",
       "  <tbody>\n",
       "    <tr>\n",
       "      <th>0.0</th>\n",
       "      <td>7895.0</td>\n",
       "      <td>0.697807</td>\n",
       "      <td>15.989274</td>\n",
       "      <td>0.0</td>\n",
       "      <td>0.0</td>\n",
       "      <td>0.0</td>\n",
       "      <td>0.000000</td>\n",
       "      <td>999.99</td>\n",
       "    </tr>\n",
       "    <tr>\n",
       "      <th>1.0</th>\n",
       "      <td>700.0</td>\n",
       "      <td>0.143541</td>\n",
       "      <td>0.658036</td>\n",
       "      <td>0.0</td>\n",
       "      <td>0.0</td>\n",
       "      <td>0.0</td>\n",
       "      <td>0.010189</td>\n",
       "      <td>9.99</td>\n",
       "    </tr>\n",
       "  </tbody>\n",
       "</table>\n",
       "</div>"
      ],
      "text/plain": [
       "        count      mean        std  min  25%  50%       75%     max\n",
       "label                                                              \n",
       "0.0    7895.0  0.697807  15.989274  0.0  0.0  0.0  0.000000  999.99\n",
       "1.0     700.0  0.143541   0.658036  0.0  0.0  0.0  0.010189    9.99"
      ]
     },
     "execution_count": 57,
     "metadata": {},
     "output_type": "execute_result"
    }
   ],
   "source": [
    "user_2 = users.dropna()\n",
    "user_2.groupby([\"label\"])[\"ave_price\"].describe()"
   ]
  },
  {
   "cell_type": "markdown",
   "id": "13c3fa2f",
   "metadata": {},
   "source": [
    "***Is there a difference between real and fake users regarding the average price they paid for applications?***"
   ]
  },
  {
   "cell_type": "code",
   "execution_count": 58,
   "id": "91d61847",
   "metadata": {},
   "outputs": [
    {
     "data": {
      "image/png": "[encoded data removed]",
      "text/plain": [
       "<Figure size 432x288 with 1 Axes>"
      ]
     },
     "metadata": {
      "needs_background": "light"
     },
     "output_type": "display_data"
    }
   ],
   "source": [
    "qqplot(user_2['ave_price'], line='s')\n",
    "plt.show()"
   ]
  },
  {
   "cell_type": "markdown",
   "id": "59b8877e",
   "metadata": {},
   "source": [
    "The plot indicates the sampling distribution is not normally distributed."
   ]
  },
  {
   "cell_type": "code",
   "execution_count": 59,
   "id": "ea6eff05",
   "metadata": {},
   "outputs": [
    {
     "name": "stdout",
     "output_type": "stream",
     "text": [
      "Statistics=0.013, p=0.000\n",
      "Sample does not look Gaussian (reject H0)\n"
     ]
    }
   ],
   "source": [
    "# normality test\n",
    "stat, p = shapiro(user_2['ave_price'])\n",
    "print('Statistics=%.3f, p=%.3f' % (stat, p))\n",
    "# interpret\n",
    "alpha = 0.05\n",
    "if p > alpha:\n",
    "\tprint('Sample looks Gaussian (fail to reject H0)')\n",
    "else:\n",
    "\tprint('Sample does not look Gaussian (reject H0)')"
   ]
  },
  {
   "cell_type": "code",
   "execution_count": 60,
   "id": "3a6a5248",
   "metadata": {},
   "outputs": [
    {
     "data": {
      "text/plain": [
       "MannwhitneyuResult(statistic=2526800.0, pvalue=9.74026187465572e-10)"
      ]
     },
     "execution_count": 60,
     "metadata": {},
     "output_type": "execute_result"
    }
   ],
   "source": [
    "# Carrying out the Wilcoxon–Mann–Whitney test\n",
    "results = mannwhitneyu(user_2['ave_price'][user_2['label'] == 0],\n",
    "                user_2['ave_price'][user_2['label'] == 1])\n",
    "results"
   ]
  },
  {
   "cell_type": "code",
   "execution_count": 61,
   "id": "da8bd5ca",
   "metadata": {},
   "outputs": [
    {
     "data": {
      "text/plain": [
       "Ttest_indResult(statistic=0.917029253764453, pvalue=0.3591530467770029)"
      ]
     },
     "execution_count": 61,
     "metadata": {},
     "output_type": "execute_result"
    }
   ],
   "source": [
    "stats.ttest_ind(user_2['ave_price'][user_2['label'] == 0],\n",
    "                user_2['ave_price'][user_2['label'] == 1])"
   ]
  },
  {
   "cell_type": "markdown",
   "id": "e696e227",
   "metadata": {},
   "source": [
    "## **2.3 Analysis of Reviews**"
   ]
  },
  {
   "cell_type": "code",
   "execution_count": 62,
   "id": "c84465ac",
   "metadata": {},
   "outputs": [
    {
     "data": {
      "text/plain": [
       "0    8000\n",
       "1    8000\n",
       "Name: label, dtype: int64"
      ]
     },
     "execution_count": 62,
     "metadata": {},
     "output_type": "execute_result"
    }
   ],
   "source": [
    "# remember the label of reviews column\n",
    "df['label'].value_counts()"
   ]
  },
  {
   "cell_type": "markdown",
   "id": "0c7d8f8f",
   "metadata": {},
   "source": [
    "### 2.3.1 **Review Time**"
   ]
  },
  {
   "cell_type": "code",
   "execution_count": 63,
   "id": "fd5c2ccb",
   "metadata": {
    "scrolled": false
   },
   "outputs": [
    {
     "data": {
      "text/html": [
       "<div>\n",
       "<style scoped>\n",
       "    .dataframe tbody tr th:only-of-type {\n",
       "        vertical-align: middle;\n",
       "    }\n",
       "\n",
       "    .dataframe tbody tr th {\n",
       "        vertical-align: top;\n",
       "    }\n",
       "\n",
       "    .dataframe thead th {\n",
       "        text-align: right;\n",
       "    }\n",
       "</style>\n",
       "<table border=\"1\" class=\"dataframe\">\n",
       "  <thead>\n",
       "    <tr style=\"text-align: right;\">\n",
       "      <th>review_year</th>\n",
       "      <th>2008</th>\n",
       "      <th>2009</th>\n",
       "      <th>2010</th>\n",
       "      <th>2011</th>\n",
       "      <th>2012</th>\n",
       "      <th>2013</th>\n",
       "      <th>2014</th>\n",
       "      <th>2015</th>\n",
       "      <th>2016</th>\n",
       "      <th>2017</th>\n",
       "      <th>All</th>\n",
       "    </tr>\n",
       "    <tr>\n",
       "      <th>label</th>\n",
       "      <th></th>\n",
       "      <th></th>\n",
       "      <th></th>\n",
       "      <th></th>\n",
       "      <th></th>\n",
       "      <th></th>\n",
       "      <th></th>\n",
       "      <th></th>\n",
       "      <th></th>\n",
       "      <th></th>\n",
       "      <th></th>\n",
       "    </tr>\n",
       "  </thead>\n",
       "  <tbody>\n",
       "    <tr>\n",
       "      <th>0</th>\n",
       "      <td>14</td>\n",
       "      <td>77</td>\n",
       "      <td>248</td>\n",
       "      <td>877</td>\n",
       "      <td>1504</td>\n",
       "      <td>1329</td>\n",
       "      <td>1107</td>\n",
       "      <td>1221</td>\n",
       "      <td>1280</td>\n",
       "      <td>343</td>\n",
       "      <td>8000</td>\n",
       "    </tr>\n",
       "    <tr>\n",
       "      <th>1</th>\n",
       "      <td>0</td>\n",
       "      <td>0</td>\n",
       "      <td>1</td>\n",
       "      <td>2</td>\n",
       "      <td>11</td>\n",
       "      <td>11</td>\n",
       "      <td>916</td>\n",
       "      <td>3485</td>\n",
       "      <td>2937</td>\n",
       "      <td>637</td>\n",
       "      <td>8000</td>\n",
       "    </tr>\n",
       "    <tr>\n",
       "      <th>All</th>\n",
       "      <td>14</td>\n",
       "      <td>77</td>\n",
       "      <td>249</td>\n",
       "      <td>879</td>\n",
       "      <td>1515</td>\n",
       "      <td>1340</td>\n",
       "      <td>2023</td>\n",
       "      <td>4706</td>\n",
       "      <td>4217</td>\n",
       "      <td>980</td>\n",
       "      <td>16000</td>\n",
       "    </tr>\n",
       "  </tbody>\n",
       "</table>\n",
       "</div>"
      ],
      "text/plain": [
       "review_year  2008  2009  2010  2011  2012  2013  2014  2015  2016  2017    All\n",
       "label                                                                         \n",
       "0              14    77   248   877  1504  1329  1107  1221  1280   343   8000\n",
       "1               0     0     1     2    11    11   916  3485  2937   637   8000\n",
       "All            14    77   249   879  1515  1340  2023  4706  4217   980  16000"
      ]
     },
     "execution_count": 63,
     "metadata": {},
     "output_type": "execute_result"
    }
   ],
   "source": [
    "pd.crosstab(df['review_year'], df['label'], margins=True).T"
   ]
  },
  {
   "cell_type": "code",
   "execution_count": 64,
   "id": "2ba20a33",
   "metadata": {},
   "outputs": [],
   "source": [
    "g = pd.crosstab(df['review_year'], df['label']\n",
    "           ).reset_index().melt(id_vars='review_year', value_vars=[0,1])"
   ]
  },
  {
   "cell_type": "code",
   "execution_count": 65,
   "id": "5eba9717",
   "metadata": {},
   "outputs": [
    {
     "data": {
      "text/plain": [
       "<matplotlib.legend.Legend at 0x11a020dc0>"
      ]
     },
     "execution_count": 65,
     "metadata": {},
     "output_type": "execute_result"
    },
    {
     "data": {
      "image/png": "[encoded data removed]",
      "text/plain": [
       "<Figure size 720x360 with 1 Axes>"
      ]
     },
     "metadata": {
      "needs_background": "light"
     },
     "output_type": "display_data"
    }
   ],
   "source": [
    "plt.figure(figsize=(10,5))\n",
    "ax= sns.barplot(x='review_year', y='value', hue='label', data=g, \n",
    "            palette='GnBu', edgecolor = \"black\")\n",
    "ax.set_title(\"Number of Reviews According to Years\")\n",
    "ax.set(xlabel=\"Years\", ylabel=\"Number of Reviews\")\n",
    "ax.legend(title='Labels', loc='upper left')"
   ]
  },
  {
   "cell_type": "markdown",
   "id": "35990752",
   "metadata": {},
   "source": [
    "***Is there a difference between fake and genuine reviews regarding reviews’ publishing years?***"
   ]
  },
  {
   "cell_type": "code",
   "execution_count": 66,
   "id": "1f69f9cc",
   "metadata": {},
   "outputs": [],
   "source": [
    "crosstab = pd.crosstab(df['review_year'], df['label']).T"
   ]
  },
  {
   "cell_type": "code",
   "execution_count": 67,
   "id": "11b236e5",
   "metadata": {},
   "outputs": [
    {
     "name": "stdout",
     "output_type": "stream",
     "text": [
      "chi2   : 5821.221808012111\n",
      "p.     : 0.0\n",
      "dof    : 9\n",
      "expected: [[   7.    38.5  124.5  439.5  757.5  670.  1011.5 2353.  2108.5  490. ]\n",
      " [   7.    38.5  124.5  439.5  757.5  670.  1011.5 2353.  2108.5  490. ]]\n"
     ]
    }
   ],
   "source": [
    "chi2, p, dof, exp = chi2_contingency([crosstab.iloc[0].values,crosstab.iloc[1].values])\n",
    "print('chi2   :', chi2)\n",
    "print('p.     :', p)\n",
    "print('dof    :', dof)\n",
    "print('expected:', exp)"
   ]
  },
  {
   "cell_type": "markdown",
   "id": "45802a12",
   "metadata": {},
   "source": [
    "**Note:** There has been a dramatic increase in the number of fake comments since 2014. Therefore, I decided to create a new column that shows the review's time whether after or before 2014."
   ]
  },
  {
   "cell_type": "code",
   "execution_count": 68,
   "id": "1ca0c877",
   "metadata": {},
   "outputs": [],
   "source": [
    "df['year_2014'] = np.where(df['review_year']>= 2014, 1, 0)"
   ]
  },
  {
   "cell_type": "code",
   "execution_count": 69,
   "id": "332ef10e",
   "metadata": {},
   "outputs": [
    {
     "data": {
      "text/html": [
       "<div>\n",
       "<style scoped>\n",
       "    .dataframe tbody tr th:only-of-type {\n",
       "        vertical-align: middle;\n",
       "    }\n",
       "\n",
       "    .dataframe tbody tr th {\n",
       "        vertical-align: top;\n",
       "    }\n",
       "\n",
       "    .dataframe thead th {\n",
       "        text-align: right;\n",
       "    }\n",
       "</style>\n",
       "<table border=\"1\" class=\"dataframe\">\n",
       "  <thead>\n",
       "    <tr style=\"text-align: right;\">\n",
       "      <th>label</th>\n",
       "      <th>0</th>\n",
       "      <th>1</th>\n",
       "    </tr>\n",
       "    <tr>\n",
       "      <th>year_2014</th>\n",
       "      <th></th>\n",
       "      <th></th>\n",
       "    </tr>\n",
       "  </thead>\n",
       "  <tbody>\n",
       "    <tr>\n",
       "      <th>0</th>\n",
       "      <td>4049</td>\n",
       "      <td>25</td>\n",
       "    </tr>\n",
       "    <tr>\n",
       "      <th>1</th>\n",
       "      <td>3951</td>\n",
       "      <td>7975</td>\n",
       "    </tr>\n",
       "  </tbody>\n",
       "</table>\n",
       "</div>"
      ],
      "text/plain": [
       "label         0     1\n",
       "year_2014            \n",
       "0          4049    25\n",
       "1          3951  7975"
      ]
     },
     "execution_count": 69,
     "metadata": {},
     "output_type": "execute_result"
    }
   ],
   "source": [
    "crosstab = pd.crosstab(df['year_2014'], df['label'])\n",
    "crosstab "
   ]
  },
  {
   "cell_type": "markdown",
   "id": "485f2cb5",
   "metadata": {},
   "source": [
    "**Is there a difference between fake and genuine reviews regarding publishing year is after or before 2014?**"
   ]
  },
  {
   "cell_type": "code",
   "execution_count": 70,
   "id": "d293d83c",
   "metadata": {},
   "outputs": [
    {
     "name": "stdout",
     "output_type": "stream",
     "text": [
      "chi2   : 5329.717845219798\n",
      "p.     : 0.0\n",
      "dof    : 1\n",
      "expected: [[2037. 2037.]\n",
      " [5963. 5963.]]\n"
     ]
    }
   ],
   "source": [
    "chi2, p, dof, exp = chi2_contingency([crosstab.iloc[0].values,crosstab.iloc[1].values])\n",
    "print('chi2   :', chi2)\n",
    "print('p.     :', p)\n",
    "print('dof    :', dof)\n",
    "print('expected:', exp)"
   ]
  },
  {
   "cell_type": "markdown",
   "id": "671a3ed3",
   "metadata": {},
   "source": [
    "### **2.3.2 Rating of Reviews**"
   ]
  },
  {
   "cell_type": "code",
   "execution_count": 71,
   "id": "db9ce317",
   "metadata": {},
   "outputs": [
    {
     "data": {
      "text/plain": [
       "<matplotlib.legend.Legend at 0x11a059790>"
      ]
     },
     "execution_count": 71,
     "metadata": {},
     "output_type": "execute_result"
    },
    {
     "data": {
      "image/png": "[encoded data removed]",
      "text/plain": [
       "<Figure size 720x360 with 1 Axes>"
      ]
     },
     "metadata": {
      "needs_background": "light"
     },
     "output_type": "display_data"
    }
   ],
   "source": [
    "plt.figure(figsize=(10,5))\n",
    "g = sns.countplot(data=df, x=\"rating\", hue='label', palette='GnBu', edgecolor = \"black\")\n",
    "g.set_title(\"Ratings of Reviews\", fontsize=16)\n",
    "g.set(xlabel=\"Rating of Reviews\",\n",
    "      ylabel=\"Number of Reviews\")\n",
    "g.legend(title='Labels', labels = ['Real', 'Fake'], fontsize=10)"
   ]
  },
  {
   "cell_type": "code",
   "execution_count": 72,
   "id": "166ba0b5",
   "metadata": {
    "scrolled": true
   },
   "outputs": [
    {
     "data": {
      "text/html": [
       "<div>\n",
       "<style scoped>\n",
       "    .dataframe tbody tr th:only-of-type {\n",
       "        vertical-align: middle;\n",
       "    }\n",
       "\n",
       "    .dataframe tbody tr th {\n",
       "        vertical-align: top;\n",
       "    }\n",
       "\n",
       "    .dataframe thead th {\n",
       "        text-align: right;\n",
       "    }\n",
       "</style>\n",
       "<table border=\"1\" class=\"dataframe\">\n",
       "  <thead>\n",
       "    <tr style=\"text-align: right;\">\n",
       "      <th>rating</th>\n",
       "      <th>1</th>\n",
       "      <th>2</th>\n",
       "      <th>3</th>\n",
       "      <th>4</th>\n",
       "      <th>5</th>\n",
       "      <th>All</th>\n",
       "    </tr>\n",
       "    <tr>\n",
       "      <th>label</th>\n",
       "      <th></th>\n",
       "      <th></th>\n",
       "      <th></th>\n",
       "      <th></th>\n",
       "      <th></th>\n",
       "      <th></th>\n",
       "    </tr>\n",
       "  </thead>\n",
       "  <tbody>\n",
       "    <tr>\n",
       "      <th>0</th>\n",
       "      <td>863</td>\n",
       "      <td>264</td>\n",
       "      <td>462</td>\n",
       "      <td>1251</td>\n",
       "      <td>5160</td>\n",
       "      <td>8000</td>\n",
       "    </tr>\n",
       "    <tr>\n",
       "      <th>1</th>\n",
       "      <td>48</td>\n",
       "      <td>77</td>\n",
       "      <td>402</td>\n",
       "      <td>1868</td>\n",
       "      <td>5605</td>\n",
       "      <td>8000</td>\n",
       "    </tr>\n",
       "    <tr>\n",
       "      <th>All</th>\n",
       "      <td>911</td>\n",
       "      <td>341</td>\n",
       "      <td>864</td>\n",
       "      <td>3119</td>\n",
       "      <td>10765</td>\n",
       "      <td>16000</td>\n",
       "    </tr>\n",
       "  </tbody>\n",
       "</table>\n",
       "</div>"
      ],
      "text/plain": [
       "rating    1    2    3     4      5    All\n",
       "label                                    \n",
       "0       863  264  462  1251   5160   8000\n",
       "1        48   77  402  1868   5605   8000\n",
       "All     911  341  864  3119  10765  16000"
      ]
     },
     "execution_count": 72,
     "metadata": {},
     "output_type": "execute_result"
    }
   ],
   "source": [
    "crosstab = pd.crosstab(df['label'], df['rating'],margins=True)\n",
    "crosstab"
   ]
  },
  {
   "cell_type": "code",
   "execution_count": 73,
   "id": "8fd3e35e",
   "metadata": {},
   "outputs": [
    {
     "data": {
      "text/plain": [
       "67.28125"
      ]
     },
     "execution_count": 73,
     "metadata": {},
     "output_type": "execute_result"
    }
   ],
   "source": [
    "# the percentage of 5 star reviews\n",
    "10765/16000*100"
   ]
  },
  {
   "cell_type": "code",
   "execution_count": 74,
   "id": "a6ece733",
   "metadata": {},
   "outputs": [
    {
     "data": {
      "text/plain": [
       "94.7310647639956"
      ]
     },
     "execution_count": 74,
     "metadata": {},
     "output_type": "execute_result"
    }
   ],
   "source": [
    "863/911*100"
   ]
  },
  {
   "cell_type": "markdown",
   "id": "d7dc213e",
   "metadata": {},
   "source": [
    "**Is there a difference between fake and genuine reviews regarding reviews’ ratings?**"
   ]
  },
  {
   "cell_type": "code",
   "execution_count": 75,
   "id": "643be852",
   "metadata": {},
   "outputs": [
    {
     "name": "stdout",
     "output_type": "stream",
     "text": [
      "chi2   : 976.281497105601\n",
      "p.     : 8.197506272221205e-209\n",
      "dof    : 5\n",
      "exp    : [[ 455.5  170.5  432.  1559.5 5382.5 8000. ]\n",
      " [ 455.5  170.5  432.  1559.5 5382.5 8000. ]]\n"
     ]
    }
   ],
   "source": [
    "chi2, p, dof, exp = chi2_contingency([crosstab.iloc[0].values,crosstab.iloc[1].values])\n",
    "print('chi2   :', chi2)\n",
    "print('p.     :', p)\n",
    "print('dof    :', dof)\n",
    "print('exp    :', exp)"
   ]
  },
  {
   "cell_type": "markdown",
   "id": "dfe93f03",
   "metadata": {},
   "source": [
    "**Is there a difference between fake and genuine reviews which have 1 star?**"
   ]
  },
  {
   "cell_type": "code",
   "execution_count": 76,
   "id": "1fb153a6",
   "metadata": {},
   "outputs": [
    {
     "data": {
      "text/plain": [
       "Power_divergenceResult(statistic=729.1163556531284, pvalue=1.3942577338078144e-160)"
      ]
     },
     "execution_count": 76,
     "metadata": {},
     "output_type": "execute_result"
    }
   ],
   "source": [
    "chisquare([863, 48])"
   ]
  },
  {
   "cell_type": "markdown",
   "id": "f40e50b0",
   "metadata": {},
   "source": [
    "**Is there a difference between fake and genuine reviews which have 5 star?**"
   ]
  },
  {
   "cell_type": "code",
   "execution_count": 77,
   "id": "8b6b6252",
   "metadata": {},
   "outputs": [
    {
     "data": {
      "text/plain": [
       "Power_divergenceResult(statistic=18.39526242452392, pvalue=1.7950373070876915e-05)"
      ]
     },
     "execution_count": 77,
     "metadata": {},
     "output_type": "execute_result"
    }
   ],
   "source": [
    "chisquare([5160, 5605])"
   ]
  },
  {
   "cell_type": "markdown",
   "id": "aaf52135",
   "metadata": {},
   "source": [
    "### **2.3.4 Length of Reviews**"
   ]
  },
  {
   "cell_type": "code",
   "execution_count": 78,
   "id": "1374962c",
   "metadata": {
    "scrolled": true
   },
   "outputs": [
    {
     "data": {
      "text/html": [
       "<div>\n",
       "<style scoped>\n",
       "    .dataframe tbody tr th:only-of-type {\n",
       "        vertical-align: middle;\n",
       "    }\n",
       "\n",
       "    .dataframe tbody tr th {\n",
       "        vertical-align: top;\n",
       "    }\n",
       "\n",
       "    .dataframe thead th {\n",
       "        text-align: right;\n",
       "    }\n",
       "</style>\n",
       "<table border=\"1\" class=\"dataframe\">\n",
       "  <thead>\n",
       "    <tr style=\"text-align: right;\">\n",
       "      <th></th>\n",
       "      <th>mean</th>\n",
       "      <th>max</th>\n",
       "      <th>min</th>\n",
       "      <th>std</th>\n",
       "    </tr>\n",
       "    <tr>\n",
       "      <th>label</th>\n",
       "      <th></th>\n",
       "      <th></th>\n",
       "      <th></th>\n",
       "      <th></th>\n",
       "    </tr>\n",
       "  </thead>\n",
       "  <tbody>\n",
       "    <tr>\n",
       "      <th>0</th>\n",
       "      <td>111.839625</td>\n",
       "      <td>4048</td>\n",
       "      <td>2</td>\n",
       "      <td>149.73363</td>\n",
       "    </tr>\n",
       "    <tr>\n",
       "      <th>1</th>\n",
       "      <td>121.178875</td>\n",
       "      <td>628</td>\n",
       "      <td>11</td>\n",
       "      <td>58.82655</td>\n",
       "    </tr>\n",
       "  </tbody>\n",
       "</table>\n",
       "</div>"
      ],
      "text/plain": [
       "             mean   max  min        std\n",
       "label                                  \n",
       "0      111.839625  4048    2  149.73363\n",
       "1      121.178875   628   11   58.82655"
      ]
     },
     "execution_count": 78,
     "metadata": {},
     "output_type": "execute_result"
    }
   ],
   "source": [
    "df.groupby([\"label\"])[\"length\"].agg(['mean', 'max', 'min', 'std'])"
   ]
  },
  {
   "cell_type": "code",
   "execution_count": 79,
   "id": "504b3714",
   "metadata": {},
   "outputs": [
    {
     "data": {
      "image/png": "[encoded data removed]",
      "text/plain": [
       "<Figure size 720x360 with 2 Axes>"
      ]
     },
     "metadata": {
      "needs_background": "light"
     },
     "output_type": "display_data"
    }
   ],
   "source": [
    "# Histogram of total reviews\n",
    "fig, (ax0, ax1) = plt.subplots(nrows=1, ncols=2, sharey=True, figsize=(10,5))\n",
    "\n",
    "sns.histplot(df[df['label']==0]['length'], ax=ax0, bins=30, palette='GnBu')\n",
    "sns.histplot(df[df['label']==1]['length'], ax=ax1, bins=30, palette='GnBu')\n",
    "ax0.set(xlabel='Real Reviews')\n",
    "ax1.set(xlabel='Fake Reviews')\n",
    "ax0.set(ylabel='Frequency')\n",
    "plt.show()"
   ]
  },
  {
   "cell_type": "code",
   "execution_count": 80,
   "id": "6b93a6d3",
   "metadata": {},
   "outputs": [
    {
     "data": {
      "text/plain": [
       "ShapiroResult(statistic=0.7324556112289429, pvalue=0.0)"
      ]
     },
     "execution_count": 80,
     "metadata": {},
     "output_type": "execute_result"
    }
   ],
   "source": [
    "sampling_difference = df['length'][df['label'] == 0].values - \\\n",
    "                      df['length'][df['label'] == 1].values\n",
    "\n",
    "stats.shapiro(sampling_difference)"
   ]
  },
  {
   "cell_type": "markdown",
   "id": "34c65901",
   "metadata": {},
   "source": [
    "***Is there a difference between fake and genuine reviews regarding the length of review text?***"
   ]
  },
  {
   "cell_type": "code",
   "execution_count": 81,
   "id": "bde077c5",
   "metadata": {},
   "outputs": [
    {
     "data": {
      "image/png": "[encoded data removed]",
      "text/plain": [
       "<Figure size 432x288 with 1 Axes>"
      ]
     },
     "metadata": {
      "needs_background": "light"
     },
     "output_type": "display_data"
    }
   ],
   "source": [
    "qqplot(df['length'], line='s')\n",
    "plt.show()"
   ]
  },
  {
   "cell_type": "code",
   "execution_count": 82,
   "id": "4075f05a",
   "metadata": {},
   "outputs": [
    {
     "name": "stdout",
     "output_type": "stream",
     "text": [
      "Statistics=0.013, p=0.000\n",
      "Sample does not look Gaussian (reject H0)\n"
     ]
    }
   ],
   "source": [
    "# normality test\n",
    "stat, p = shapiro(user_2['ave_price'])\n",
    "print('Statistics=%.3f, p=%.3f' % (stat, p))\n",
    "# interpret\n",
    "alpha = 0.05\n",
    "if p > alpha:\n",
    "\tprint('Sample looks Gaussian (fail to reject H0)')\n",
    "else:\n",
    "\tprint('Sample does not look Gaussian (reject H0)')"
   ]
  },
  {
   "cell_type": "code",
   "execution_count": 83,
   "id": "0dd32fe8",
   "metadata": {},
   "outputs": [
    {
     "data": {
      "text/plain": [
       "MannwhitneyuResult(statistic=21452398.5, pvalue=1.7902438015555947e-285)"
      ]
     },
     "execution_count": 83,
     "metadata": {},
     "output_type": "execute_result"
    }
   ],
   "source": [
    "# Carrying out the Wilcoxon–Mann–Whitney test\n",
    "results = mannwhitneyu(df['length'][df['label'] == 0],\n",
    "                df['length'][df['label'] == 1])\n",
    "results"
   ]
  },
  {
   "cell_type": "code",
   "execution_count": 84,
   "id": "aeda9726",
   "metadata": {},
   "outputs": [
    {
     "data": {
      "text/plain": [
       "Ttest_indResult(statistic=-5.1924077965632645, pvalue=2.1013486054987057e-07)"
      ]
     },
     "execution_count": 84,
     "metadata": {},
     "output_type": "execute_result"
    }
   ],
   "source": [
    "stats.ttest_ind(df['length'][df['label'] == 0],\n",
    "                df['length'][df['label'] == 1])"
   ]
  },
  {
   "cell_type": "markdown",
   "id": "1c98ecf2",
   "metadata": {},
   "source": [
    "## **2.4 Analysis of Apps** "
   ]
  },
  {
   "cell_type": "code",
   "execution_count": 85,
   "id": "396450dd",
   "metadata": {},
   "outputs": [
    {
     "data": {
      "text/plain": [
       "5624"
      ]
     },
     "execution_count": 85,
     "metadata": {},
     "output_type": "execute_result"
    }
   ],
   "source": [
    "df['appId'].nunique()"
   ]
  },
  {
   "cell_type": "markdown",
   "id": "f6cf53f7",
   "metadata": {},
   "source": [
    "### ***For All Apps  -  A total of 5624***"
   ]
  },
  {
   "cell_type": "code",
   "execution_count": 86,
   "id": "ac14594c",
   "metadata": {},
   "outputs": [],
   "source": [
    "# number of fake reviews\n",
    "df_fk1 = df.groupby(by='appId')['label'].sum()\n",
    "\n",
    "# Number of total reviews\n",
    "df_fk2 = df.groupby(by='appId')['label'].count()\n",
    "\n",
    "# Percentage of fake reviews\n",
    "df_fk3= round(df.groupby(by='appId')['label'].sum()/df.groupby(by='appId')['label'].count()*100,2)"
   ]
  },
  {
   "cell_type": "code",
   "execution_count": 87,
   "id": "bdf78062",
   "metadata": {
    "scrolled": true
   },
   "outputs": [
    {
     "data": {
      "text/html": [
       "<div>\n",
       "<style scoped>\n",
       "    .dataframe tbody tr th:only-of-type {\n",
       "        vertical-align: middle;\n",
       "    }\n",
       "\n",
       "    .dataframe tbody tr th {\n",
       "        vertical-align: top;\n",
       "    }\n",
       "\n",
       "    .dataframe thead th {\n",
       "        text-align: right;\n",
       "    }\n",
       "</style>\n",
       "<table border=\"1\" class=\"dataframe\">\n",
       "  <thead>\n",
       "    <tr style=\"text-align: right;\">\n",
       "      <th></th>\n",
       "      <th>appId</th>\n",
       "      <th>totalFakeReview</th>\n",
       "      <th>TotalReview</th>\n",
       "      <th>AppFakePerc</th>\n",
       "    </tr>\n",
       "  </thead>\n",
       "  <tbody>\n",
       "    <tr>\n",
       "      <th>0</th>\n",
       "      <td>281656475</td>\n",
       "      <td>0</td>\n",
       "      <td>1</td>\n",
       "      <td>0.0</td>\n",
       "    </tr>\n",
       "    <tr>\n",
       "      <th>1</th>\n",
       "      <td>281704574</td>\n",
       "      <td>0</td>\n",
       "      <td>2</td>\n",
       "      <td>0.0</td>\n",
       "    </tr>\n",
       "    <tr>\n",
       "      <th>2</th>\n",
       "      <td>281796108</td>\n",
       "      <td>0</td>\n",
       "      <td>8</td>\n",
       "      <td>0.0</td>\n",
       "    </tr>\n",
       "    <tr>\n",
       "      <th>3</th>\n",
       "      <td>281940292</td>\n",
       "      <td>0</td>\n",
       "      <td>4</td>\n",
       "      <td>0.0</td>\n",
       "    </tr>\n",
       "    <tr>\n",
       "      <th>4</th>\n",
       "      <td>281941097</td>\n",
       "      <td>0</td>\n",
       "      <td>1</td>\n",
       "      <td>0.0</td>\n",
       "    </tr>\n",
       "  </tbody>\n",
       "</table>\n",
       "</div>"
      ],
      "text/plain": [
       "       appId  totalFakeReview  TotalReview  AppFakePerc\n",
       "0  281656475                0            1          0.0\n",
       "1  281704574                0            2          0.0\n",
       "2  281796108                0            8          0.0\n",
       "3  281940292                0            4          0.0\n",
       "4  281941097                0            1          0.0"
      ]
     },
     "execution_count": 87,
     "metadata": {},
     "output_type": "execute_result"
    }
   ],
   "source": [
    "# Merge three dataframes\n",
    "df_fk = pd.concat([pd.concat([df_fk1, df_fk2], axis=1), df_fk3], axis=1)\n",
    "df_fk.set_axis(['totalFakeReview', 'TotalReview', 'AppFakePerc'], axis=1, inplace=True)\n",
    "df_fk.reset_index(inplace=True)\n",
    "df_fk.head()"
   ]
  },
  {
   "cell_type": "code",
   "execution_count": 88,
   "id": "fc7fa3d8",
   "metadata": {},
   "outputs": [],
   "source": [
    "# Get apps unique attributes\n",
    "df_fk1 = df[['appId', 'app_reviews_total', 'app_reviews_5',\n",
    "       'app_reviews_4', 'app_reviews_3', 'app_reviews_2', 'app_reviews_1']]\n",
    "\n",
    "df_fk1 = df_fk1.groupby(by='appId').mean().reset_index()"
   ]
  },
  {
   "cell_type": "code",
   "execution_count": 89,
   "id": "10ca8c21",
   "metadata": {},
   "outputs": [
    {
     "data": {
      "text/html": [
       "<div>\n",
       "<style scoped>\n",
       "    .dataframe tbody tr th:only-of-type {\n",
       "        vertical-align: middle;\n",
       "    }\n",
       "\n",
       "    .dataframe tbody tr th {\n",
       "        vertical-align: top;\n",
       "    }\n",
       "\n",
       "    .dataframe thead th {\n",
       "        text-align: right;\n",
       "    }\n",
       "</style>\n",
       "<table border=\"1\" class=\"dataframe\">\n",
       "  <thead>\n",
       "    <tr style=\"text-align: right;\">\n",
       "      <th></th>\n",
       "      <th>appId</th>\n",
       "      <th>app_reviews_total</th>\n",
       "      <th>app_reviews_5</th>\n",
       "      <th>app_reviews_4</th>\n",
       "      <th>app_reviews_3</th>\n",
       "      <th>app_reviews_2</th>\n",
       "      <th>app_reviews_1</th>\n",
       "      <th>totalFakeReview</th>\n",
       "      <th>TotalReview</th>\n",
       "      <th>AppFakePerc</th>\n",
       "    </tr>\n",
       "  </thead>\n",
       "  <tbody>\n",
       "    <tr>\n",
       "      <th>0</th>\n",
       "      <td>281656475</td>\n",
       "      <td>5043.0</td>\n",
       "      <td>58.913345</td>\n",
       "      <td>16.319651</td>\n",
       "      <td>7.614515</td>\n",
       "      <td>5.135832</td>\n",
       "      <td>12.016657</td>\n",
       "      <td>0</td>\n",
       "      <td>1</td>\n",
       "      <td>0.0</td>\n",
       "    </tr>\n",
       "    <tr>\n",
       "      <th>1</th>\n",
       "      <td>281704574</td>\n",
       "      <td>21562.0</td>\n",
       "      <td>18.078100</td>\n",
       "      <td>14.590483</td>\n",
       "      <td>12.832761</td>\n",
       "      <td>10.073277</td>\n",
       "      <td>44.425378</td>\n",
       "      <td>0</td>\n",
       "      <td>2</td>\n",
       "      <td>0.0</td>\n",
       "    </tr>\n",
       "    <tr>\n",
       "      <th>2</th>\n",
       "      <td>281796108</td>\n",
       "      <td>60655.0</td>\n",
       "      <td>64.946006</td>\n",
       "      <td>16.536147</td>\n",
       "      <td>4.209051</td>\n",
       "      <td>3.683126</td>\n",
       "      <td>10.625670</td>\n",
       "      <td>0</td>\n",
       "      <td>8</td>\n",
       "      <td>0.0</td>\n",
       "    </tr>\n",
       "    <tr>\n",
       "      <th>3</th>\n",
       "      <td>281940292</td>\n",
       "      <td>25798.0</td>\n",
       "      <td>68.350260</td>\n",
       "      <td>13.020389</td>\n",
       "      <td>4.333669</td>\n",
       "      <td>4.353051</td>\n",
       "      <td>9.942631</td>\n",
       "      <td>0</td>\n",
       "      <td>4</td>\n",
       "      <td>0.0</td>\n",
       "    </tr>\n",
       "    <tr>\n",
       "      <th>4</th>\n",
       "      <td>281941097</td>\n",
       "      <td>6022.0</td>\n",
       "      <td>37.462637</td>\n",
       "      <td>12.338094</td>\n",
       "      <td>5.430090</td>\n",
       "      <td>5.596147</td>\n",
       "      <td>39.173032</td>\n",
       "      <td>0</td>\n",
       "      <td>1</td>\n",
       "      <td>0.0</td>\n",
       "    </tr>\n",
       "  </tbody>\n",
       "</table>\n",
       "</div>"
      ],
      "text/plain": [
       "       appId  app_reviews_total  app_reviews_5  app_reviews_4  app_reviews_3  \\\n",
       "0  281656475             5043.0      58.913345      16.319651       7.614515   \n",
       "1  281704574            21562.0      18.078100      14.590483      12.832761   \n",
       "2  281796108            60655.0      64.946006      16.536147       4.209051   \n",
       "3  281940292            25798.0      68.350260      13.020389       4.333669   \n",
       "4  281941097             6022.0      37.462637      12.338094       5.430090   \n",
       "\n",
       "   app_reviews_2  app_reviews_1  totalFakeReview  TotalReview  AppFakePerc  \n",
       "0       5.135832      12.016657                0            1          0.0  \n",
       "1      10.073277      44.425378                0            2          0.0  \n",
       "2       3.683126      10.625670                0            8          0.0  \n",
       "3       4.353051       9.942631                0            4          0.0  \n",
       "4       5.596147      39.173032                0            1          0.0  "
      ]
     },
     "execution_count": 89,
     "metadata": {},
     "output_type": "execute_result"
    }
   ],
   "source": [
    "df_apps = pd.merge(df_fk1, df_fk, how='inner', on='appId')\n",
    "df_apps.head()"
   ]
  },
  {
   "cell_type": "code",
   "execution_count": 90,
   "id": "5ec260ac",
   "metadata": {},
   "outputs": [],
   "source": [
    "# Create a new column for Application Label\n",
    "df_apps['app_label'] = np.where(df_apps['AppFakePerc']>0.00, 1, 0)"
   ]
  },
  {
   "cell_type": "code",
   "execution_count": 91,
   "id": "46209e28",
   "metadata": {},
   "outputs": [
    {
     "data": {
      "text/plain": [
       "0    0.66394\n",
       "1    0.33606\n",
       "Name: app_label, dtype: float64"
      ]
     },
     "execution_count": 91,
     "metadata": {},
     "output_type": "execute_result"
    }
   ],
   "source": [
    "df_apps['app_label'].value_counts(normalize=True)"
   ]
  },
  {
   "cell_type": "code",
   "execution_count": 138,
   "id": "cdb98283",
   "metadata": {},
   "outputs": [],
   "source": [
    "# Append app_label to main dataframe\n",
    "df_merge = df_apps[['appId', 'app_label']]\n",
    "\n",
    "df = df.merge(df_merge, how='left', on='appId')"
   ]
  },
  {
   "cell_type": "code",
   "execution_count": 19,
   "id": "beb8f386",
   "metadata": {},
   "outputs": [],
   "source": [
    "# Rename for further statistics\n",
    "users.rename(columns={'user_label':'label'}, inplace=True)"
   ]
  },
  {
   "cell_type": "markdown",
   "id": "c9d35d68",
   "metadata": {},
   "source": [
    "### **2.4.1 Ratings of Apps: Fake vs. Real Apps**"
   ]
  },
  {
   "cell_type": "code",
   "execution_count": 92,
   "id": "923ebde5",
   "metadata": {},
   "outputs": [
    {
     "data": {
      "text/html": [
       "<div>\n",
       "<style scoped>\n",
       "    .dataframe tbody tr th:only-of-type {\n",
       "        vertical-align: middle;\n",
       "    }\n",
       "\n",
       "    .dataframe tbody tr th {\n",
       "        vertical-align: top;\n",
       "    }\n",
       "\n",
       "    .dataframe thead th {\n",
       "        text-align: right;\n",
       "    }\n",
       "</style>\n",
       "<table border=\"1\" class=\"dataframe\">\n",
       "  <thead>\n",
       "    <tr style=\"text-align: right;\">\n",
       "      <th></th>\n",
       "      <th>app_reviews_1</th>\n",
       "      <th>app_reviews_2</th>\n",
       "      <th>app_reviews_3</th>\n",
       "      <th>app_reviews_4</th>\n",
       "      <th>app_reviews_5</th>\n",
       "    </tr>\n",
       "    <tr>\n",
       "      <th>app_label</th>\n",
       "      <th></th>\n",
       "      <th></th>\n",
       "      <th></th>\n",
       "      <th></th>\n",
       "      <th></th>\n",
       "    </tr>\n",
       "  </thead>\n",
       "  <tbody>\n",
       "    <tr>\n",
       "      <th>0</th>\n",
       "      <td>12.553000</td>\n",
       "      <td>4.097542</td>\n",
       "      <td>6.648648</td>\n",
       "      <td>15.388726</td>\n",
       "      <td>61.312084</td>\n",
       "    </tr>\n",
       "    <tr>\n",
       "      <th>1</th>\n",
       "      <td>6.357472</td>\n",
       "      <td>2.399107</td>\n",
       "      <td>5.998135</td>\n",
       "      <td>18.509115</td>\n",
       "      <td>66.736171</td>\n",
       "    </tr>\n",
       "  </tbody>\n",
       "</table>\n",
       "</div>"
      ],
      "text/plain": [
       "           app_reviews_1  app_reviews_2  app_reviews_3  app_reviews_4  \\\n",
       "app_label                                                               \n",
       "0              12.553000       4.097542       6.648648      15.388726   \n",
       "1               6.357472       2.399107       5.998135      18.509115   \n",
       "\n",
       "           app_reviews_5  \n",
       "app_label                 \n",
       "0              61.312084  \n",
       "1              66.736171  "
      ]
     },
     "execution_count": 92,
     "metadata": {},
     "output_type": "execute_result"
    }
   ],
   "source": [
    "g = df_apps.groupby('app_label')['app_reviews_1','app_reviews_2','app_reviews_3','app_reviews_4','app_reviews_5'].mean()\n",
    "g"
   ]
  },
  {
   "cell_type": "code",
   "execution_count": 93,
   "id": "46e93fdf",
   "metadata": {},
   "outputs": [
    {
     "data": {
      "text/plain": [
       "<Figure size 2160x576 with 0 Axes>"
      ]
     },
     "metadata": {},
     "output_type": "display_data"
    },
    {
     "data": {
      "image/png": "[encoded data removed]",
      "text/plain": [
       "<Figure size 432x288 with 1 Axes>"
      ]
     },
     "metadata": {
      "needs_background": "light"
     },
     "output_type": "display_data"
    }
   ],
   "source": [
    "plt.figure(figsize=(30,8))\n",
    "g=g.reset_index()\n",
    "g.plot(x='app_label', y=['app_reviews_1','app_reviews_2','app_reviews_3','app_reviews_4','app_reviews_5'],\n",
    "       kind=\"bar\",  colormap='GnBu',edgecolor = \"black\")\n",
    "plt.legend(bbox_to_anchor=(1.05, 1), loc=2)\n",
    "plt.title('The Average Percentage of Ratings')\n",
    "plt.xticks([0, 1], ['Real Apps', 'Fake Apps'], rotation=0)\n",
    "plt.legend(['1 star', '2 stars', '3 stars', '4 star', '5 stars'], bbox_to_anchor=(1, 0.7))\n",
    "plt.xlabel('Label of Apps')\n",
    "plt.ylabel('Percentages')\n",
    "plt.show()"
   ]
  },
  {
   "cell_type": "markdown",
   "id": "b089df7f",
   "metadata": {},
   "source": [
    "### **2.4.2 Apps total reviews: Fake vs. Real Apps**"
   ]
  },
  {
   "cell_type": "code",
   "execution_count": 94,
   "id": "93bd0552",
   "metadata": {
    "scrolled": true
   },
   "outputs": [
    {
     "data": {
      "text/html": [
       "<div>\n",
       "<style scoped>\n",
       "    .dataframe tbody tr th:only-of-type {\n",
       "        vertical-align: middle;\n",
       "    }\n",
       "\n",
       "    .dataframe tbody tr th {\n",
       "        vertical-align: top;\n",
       "    }\n",
       "\n",
       "    .dataframe thead th {\n",
       "        text-align: right;\n",
       "    }\n",
       "</style>\n",
       "<table border=\"1\" class=\"dataframe\">\n",
       "  <thead>\n",
       "    <tr style=\"text-align: right;\">\n",
       "      <th></th>\n",
       "      <th>count</th>\n",
       "      <th>mean</th>\n",
       "      <th>std</th>\n",
       "      <th>min</th>\n",
       "      <th>25%</th>\n",
       "      <th>50%</th>\n",
       "      <th>75%</th>\n",
       "      <th>max</th>\n",
       "    </tr>\n",
       "    <tr>\n",
       "      <th>app_label</th>\n",
       "      <th></th>\n",
       "      <th></th>\n",
       "      <th></th>\n",
       "      <th></th>\n",
       "      <th></th>\n",
       "      <th></th>\n",
       "      <th></th>\n",
       "      <th></th>\n",
       "    </tr>\n",
       "  </thead>\n",
       "  <tbody>\n",
       "    <tr>\n",
       "      <th>0</th>\n",
       "      <td>3734.0</td>\n",
       "      <td>10519.956079</td>\n",
       "      <td>23785.999966</td>\n",
       "      <td>1.0</td>\n",
       "      <td>504.25</td>\n",
       "      <td>2872.0</td>\n",
       "      <td>9568.75</td>\n",
       "      <td>331024.0</td>\n",
       "    </tr>\n",
       "    <tr>\n",
       "      <th>1</th>\n",
       "      <td>1890.0</td>\n",
       "      <td>1418.085185</td>\n",
       "      <td>11702.696866</td>\n",
       "      <td>1.0</td>\n",
       "      <td>5.00</td>\n",
       "      <td>12.0</td>\n",
       "      <td>41.00</td>\n",
       "      <td>246898.0</td>\n",
       "    </tr>\n",
       "  </tbody>\n",
       "</table>\n",
       "</div>"
      ],
      "text/plain": [
       "            count          mean           std  min     25%     50%      75%  \\\n",
       "app_label                                                                     \n",
       "0          3734.0  10519.956079  23785.999966  1.0  504.25  2872.0  9568.75   \n",
       "1          1890.0   1418.085185  11702.696866  1.0    5.00    12.0    41.00   \n",
       "\n",
       "                max  \n",
       "app_label            \n",
       "0          331024.0  \n",
       "1          246898.0  "
      ]
     },
     "execution_count": 94,
     "metadata": {},
     "output_type": "execute_result"
    }
   ],
   "source": [
    "# Descriptive statistics of total reviews.\n",
    "df_apps.groupby([\"app_label\"])[\"app_reviews_total\"].describe()"
   ]
  },
  {
   "cell_type": "code",
   "execution_count": 95,
   "id": "ae6e6f15",
   "metadata": {},
   "outputs": [
    {
     "data": {
      "text/plain": [
       "[Text(0, 0.5, 'Frequency')]"
      ]
     },
     "execution_count": 95,
     "metadata": {},
     "output_type": "execute_result"
    },
    {
     "data": {
      "image/png": "[encoded data removed]",
      "text/plain": [
       "<Figure size 1080x216 with 2 Axes>"
      ]
     },
     "metadata": {
      "needs_background": "light"
     },
     "output_type": "display_data"
    }
   ],
   "source": [
    "# Histogram of total reviews\n",
    "fig, (ax0, ax1) = plt.subplots(nrows=1, ncols=2, sharey=True, figsize=(15,3))\n",
    "\n",
    "sns.histplot(df_apps[df_apps['app_label']==0]['app_reviews_total'], ax=ax0, bins=30)\n",
    "sns.histplot(df_apps[df_apps['app_label']==1]['app_reviews_total'], ax=ax1, bins=30)\n",
    "ax0.set(xlabel='Real Apps')\n",
    "ax1.set(xlabel='Fake Apps')\n",
    "ax0.set(ylabel='Frequency')"
   ]
  },
  {
   "cell_type": "markdown",
   "id": "58496768",
   "metadata": {},
   "source": [
    "***Is there a difference between real and fake applications regarding total reviews?***"
   ]
  },
  {
   "cell_type": "code",
   "execution_count": 96,
   "id": "9c606135",
   "metadata": {},
   "outputs": [
    {
     "data": {
      "image/png": "[encoded data removed]",
      "text/plain": [
       "<Figure size 432x288 with 1 Axes>"
      ]
     },
     "metadata": {
      "needs_background": "light"
     },
     "output_type": "display_data"
    }
   ],
   "source": [
    "# Check normality\n",
    "qqplot(df_apps['app_reviews_total'], line='s')\n",
    "plt.show()"
   ]
  },
  {
   "cell_type": "markdown",
   "id": "0b677a0d",
   "metadata": {},
   "source": [
    "The plot indicates the sampling distribution is not normally distributed."
   ]
  },
  {
   "cell_type": "code",
   "execution_count": 97,
   "id": "f7482854",
   "metadata": {},
   "outputs": [
    {
     "name": "stdout",
     "output_type": "stream",
     "text": [
      "Statistics=0.372, p=0.000\n",
      "Sample does not look Gaussian (reject H0)\n"
     ]
    }
   ],
   "source": [
    "# normality test\n",
    "stat, p = shapiro(df_apps['app_reviews_total'])\n",
    "print('Statistics=%.3f, p=%.3f' % (stat, p))\n",
    "# interpret\n",
    "alpha = 0.05\n",
    "if p > alpha:\n",
    "    print('Sample looks Gaussian (fail to reject H0)')\n",
    "else:\n",
    "    print('Sample does not look Gaussian (reject H0)')"
   ]
  },
  {
   "cell_type": "code",
   "execution_count": 98,
   "id": "3ab4dbc0",
   "metadata": {},
   "outputs": [
    {
     "data": {
      "text/plain": [
       "MannwhitneyuResult(statistic=6450318.5, pvalue=0.0)"
      ]
     },
     "execution_count": 98,
     "metadata": {},
     "output_type": "execute_result"
    }
   ],
   "source": [
    "# Carrying out the Wilcoxon–Mann–Whitney test\n",
    "results = mannwhitneyu(df_apps['app_reviews_total'][df_apps['app_label'] == 0],\n",
    "                df_apps['app_reviews_total'][df_apps['app_label'] == 1])\n",
    "results"
   ]
  },
  {
   "cell_type": "code",
   "execution_count": 99,
   "id": "4fc2245f",
   "metadata": {},
   "outputs": [
    {
     "data": {
      "text/plain": [
       "Ttest_indResult(statistic=15.701086758889346, pvalue=2.098937234214872e-54)"
      ]
     },
     "execution_count": 99,
     "metadata": {},
     "output_type": "execute_result"
    }
   ],
   "source": [
    "stats.ttest_ind(df_apps['app_reviews_total'][df_apps['app_label'] == 0],\n",
    "                df_apps['app_reviews_total'][df_apps['app_label'] == 1])"
   ]
  },
  {
   "cell_type": "markdown",
   "id": "308ae700",
   "metadata": {},
   "source": [
    "### ***For Apps in Apps Dataset  -  A total of 5563***"
   ]
  },
  {
   "cell_type": "markdown",
   "id": "dc0f64f0",
   "metadata": {},
   "source": [
    "**Note:** I have 5624 apps that comes from features dataframe and 5563 apps from app dataframe. Some apps' information is missing. 148 reviews of 61 applications are missing in dataframe."
   ]
  },
  {
   "cell_type": "code",
   "execution_count": 100,
   "id": "c5cd31b7",
   "metadata": {},
   "outputs": [],
   "source": [
    "# Get app related columns \n",
    "\n",
    "df_appr = df[['appId', 'price', 'paid','allRatingAverge','allRatingCount', \n",
    "   'curentRatingAverage','currentRatingCount', 'diff_init_curr_2', \n",
    "   'version_major', 'primaryGenre']]"
   ]
  },
  {
   "cell_type": "code",
   "execution_count": 101,
   "id": "8e5ca676",
   "metadata": {},
   "outputs": [
    {
     "data": {
      "text/plain": [
       "appId                    0\n",
       "price                  148\n",
       "paid                   148\n",
       "allRatingAverge        148\n",
       "allRatingCount         148\n",
       "curentRatingAverage    148\n",
       "currentRatingCount     148\n",
       "diff_init_curr_2       148\n",
       "version_major          148\n",
       "primaryGenre           148\n",
       "dtype: int64"
      ]
     },
     "execution_count": 101,
     "metadata": {},
     "output_type": "execute_result"
    }
   ],
   "source": [
    "df_appr.isna().sum()"
   ]
  },
  {
   "cell_type": "code",
   "execution_count": 102,
   "id": "0b767d2c",
   "metadata": {},
   "outputs": [],
   "source": [
    "df_appr = df_appr.drop_duplicates(subset=['appId'])"
   ]
  },
  {
   "cell_type": "code",
   "execution_count": 103,
   "id": "0f148206",
   "metadata": {},
   "outputs": [
    {
     "data": {
      "text/plain": [
       "appId                   0\n",
       "price                  61\n",
       "paid                   61\n",
       "allRatingAverge        61\n",
       "allRatingCount         61\n",
       "curentRatingAverage    61\n",
       "currentRatingCount     61\n",
       "diff_init_curr_2       61\n",
       "version_major          61\n",
       "primaryGenre           61\n",
       "dtype: int64"
      ]
     },
     "execution_count": 103,
     "metadata": {},
     "output_type": "execute_result"
    }
   ],
   "source": [
    "# 61 apps info is missing\n",
    "df_appr.isna().sum()"
   ]
  },
  {
   "cell_type": "code",
   "execution_count": 104,
   "id": "1c8bacdd",
   "metadata": {},
   "outputs": [],
   "source": [
    "# Merge df_apps and other info of apps\n",
    "df_apps = pd.merge(df_apps, df_appr, how='inner', on='appId')"
   ]
  },
  {
   "cell_type": "code",
   "execution_count": 105,
   "id": "d4a10004",
   "metadata": {},
   "outputs": [],
   "source": [
    "# drop 61 apps whose data is missing\n",
    "df_apps.dropna(axis=0, inplace=True)"
   ]
  },
  {
   "cell_type": "code",
   "execution_count": 106,
   "id": "0fa45f7e",
   "metadata": {},
   "outputs": [
    {
     "data": {
      "text/plain": [
       "5563"
      ]
     },
     "execution_count": 106,
     "metadata": {},
     "output_type": "execute_result"
    }
   ],
   "source": [
    "df_apps['appId'].nunique()"
   ]
  },
  {
   "cell_type": "markdown",
   "id": "1b52aa93",
   "metadata": {},
   "source": [
    "### **2.4.3 Apps price: Fake vs. Real Apps**"
   ]
  },
  {
   "cell_type": "code",
   "execution_count": 107,
   "id": "faa65b56",
   "metadata": {},
   "outputs": [],
   "source": [
    "df_apps['price'] = round(df_apps['price'],2)"
   ]
  },
  {
   "cell_type": "code",
   "execution_count": 108,
   "id": "46df02a0",
   "metadata": {},
   "outputs": [
    {
     "data": {
      "text/html": [
       "<div>\n",
       "<style scoped>\n",
       "    .dataframe tbody tr th:only-of-type {\n",
       "        vertical-align: middle;\n",
       "    }\n",
       "\n",
       "    .dataframe tbody tr th {\n",
       "        vertical-align: top;\n",
       "    }\n",
       "\n",
       "    .dataframe thead th {\n",
       "        text-align: right;\n",
       "    }\n",
       "</style>\n",
       "<table border=\"1\" class=\"dataframe\">\n",
       "  <thead>\n",
       "    <tr style=\"text-align: right;\">\n",
       "      <th></th>\n",
       "      <th>count</th>\n",
       "      <th>mean</th>\n",
       "      <th>std</th>\n",
       "      <th>min</th>\n",
       "      <th>25%</th>\n",
       "      <th>50%</th>\n",
       "      <th>75%</th>\n",
       "      <th>max</th>\n",
       "    </tr>\n",
       "    <tr>\n",
       "      <th>app_label</th>\n",
       "      <th></th>\n",
       "      <th></th>\n",
       "      <th></th>\n",
       "      <th></th>\n",
       "      <th></th>\n",
       "      <th></th>\n",
       "      <th></th>\n",
       "      <th></th>\n",
       "    </tr>\n",
       "  </thead>\n",
       "  <tbody>\n",
       "    <tr>\n",
       "      <th>0</th>\n",
       "      <td>3693.0</td>\n",
       "      <td>0.879012</td>\n",
       "      <td>16.555748</td>\n",
       "      <td>0.0</td>\n",
       "      <td>0.0</td>\n",
       "      <td>0.0</td>\n",
       "      <td>0.0</td>\n",
       "      <td>999.99</td>\n",
       "    </tr>\n",
       "    <tr>\n",
       "      <th>1</th>\n",
       "      <td>1870.0</td>\n",
       "      <td>0.144791</td>\n",
       "      <td>0.856589</td>\n",
       "      <td>0.0</td>\n",
       "      <td>0.0</td>\n",
       "      <td>0.0</td>\n",
       "      <td>0.0</td>\n",
       "      <td>24.99</td>\n",
       "    </tr>\n",
       "  </tbody>\n",
       "</table>\n",
       "</div>"
      ],
      "text/plain": [
       "            count      mean        std  min  25%  50%  75%     max\n",
       "app_label                                                         \n",
       "0          3693.0  0.879012  16.555748  0.0  0.0  0.0  0.0  999.99\n",
       "1          1870.0  0.144791   0.856589  0.0  0.0  0.0  0.0   24.99"
      ]
     },
     "execution_count": 108,
     "metadata": {},
     "output_type": "execute_result"
    }
   ],
   "source": [
    "# Descriptive statistics of total reviews.\n",
    "df_apps.groupby([\"app_label\"])[\"price\"].describe()"
   ]
  },
  {
   "cell_type": "code",
   "execution_count": 109,
   "id": "37c15713",
   "metadata": {},
   "outputs": [
    {
     "data": {
      "image/png": "[encoded data removed]",
      "text/plain": [
       "<Figure size 1080x360 with 1 Axes>"
      ]
     },
     "metadata": {
      "needs_background": "light"
     },
     "output_type": "display_data"
    }
   ],
   "source": [
    "plt.figure(figsize=(15,5))\n",
    "g = sns.countplot(data=df_apps, x=\"price\", hue='app_label', palette='GnBu', edgecolor = \"black\")\n",
    "g.set_title(\"Price of Applications\")\n",
    "g.set(xlabel=\"Price\",\n",
    "      ylabel=\"Frequency\")\n",
    "plt.xticks(rotation=90)\n",
    "g.legend(title='Labels', labels = ['Real', 'Fake'], loc='upper right')\n",
    "plt.show()"
   ]
  },
  {
   "cell_type": "code",
   "execution_count": 110,
   "id": "f4c5862e",
   "metadata": {},
   "outputs": [
    {
     "data": {
      "text/plain": [
       "[Text(0, 0.5, 'Frequency')]"
      ]
     },
     "execution_count": 110,
     "metadata": {},
     "output_type": "execute_result"
    },
    {
     "data": {
      "image/png": "[encoded data removed]",
      "text/plain": [
       "<Figure size 1080x216 with 2 Axes>"
      ]
     },
     "metadata": {
      "needs_background": "light"
     },
     "output_type": "display_data"
    }
   ],
   "source": [
    "# Histogram of prices\n",
    "fig, (ax0, ax1) = plt.subplots(nrows=1, ncols=2, sharey=True, figsize=(15,3))\n",
    "\n",
    "sns.histplot(df_apps[df_apps['app_label']==0]['price'], ax=ax0, bins=30)\n",
    "sns.histplot(df_apps[df_apps['app_label']==1]['price'], ax=ax1, bins=30)\n",
    "ax0.set(xlabel='Real Apps')\n",
    "ax1.set(xlabel='Fake Apps')\n",
    "ax0.set(ylabel='Frequency')"
   ]
  },
  {
   "cell_type": "markdown",
   "id": "3a293914",
   "metadata": {},
   "source": [
    "***Is there a difference between real and fake applications regarding apps' price?***"
   ]
  },
  {
   "cell_type": "code",
   "execution_count": 111,
   "id": "68cc6789",
   "metadata": {},
   "outputs": [
    {
     "data": {
      "image/png": "[encoded data removed]",
      "text/plain": [
       "<Figure size 432x288 with 1 Axes>"
      ]
     },
     "metadata": {
      "needs_background": "light"
     },
     "output_type": "display_data"
    }
   ],
   "source": [
    "# Check normality\n",
    "qqplot(df_apps['price'], line='s')\n",
    "plt.show()"
   ]
  },
  {
   "cell_type": "code",
   "execution_count": 112,
   "id": "c531699d",
   "metadata": {},
   "outputs": [
    {
     "name": "stdout",
     "output_type": "stream",
     "text": [
      "Statistics=0.014, p=0.000\n",
      "Sample does not look Gaussian (reject H0)\n"
     ]
    }
   ],
   "source": [
    "# normality test\n",
    "stat, p = shapiro(df_apps['price'])\n",
    "print('Statistics=%.3f, p=%.3f' % (stat, p))\n",
    "# interpret\n",
    "alpha = 0.05\n",
    "if p > alpha:\n",
    "    print('Sample looks Gaussian (fail to reject H0)')\n",
    "else:\n",
    "    print('Sample does not look Gaussian (reject H0)')"
   ]
  },
  {
   "cell_type": "code",
   "execution_count": 113,
   "id": "1daa62bf",
   "metadata": {},
   "outputs": [
    {
     "data": {
      "text/plain": [
       "MannwhitneyuResult(statistic=3873103.5, pvalue=6.621848309173135e-34)"
      ]
     },
     "execution_count": 113,
     "metadata": {},
     "output_type": "execute_result"
    }
   ],
   "source": [
    "# Carrying out the Wilcoxon–Mann–Whitney test\n",
    "results = mannwhitneyu(df_apps['price'][df_apps['app_label'] == 0],\n",
    "                df_apps['price'][df_apps['app_label'] == 1])\n",
    "results"
   ]
  },
  {
   "cell_type": "code",
   "execution_count": 114,
   "id": "d3b1061e",
   "metadata": {},
   "outputs": [
    {
     "data": {
      "text/plain": [
       "Ttest_indResult(statistic=1.9163947867086504, pvalue=0.055366067736684385)"
      ]
     },
     "execution_count": 114,
     "metadata": {},
     "output_type": "execute_result"
    }
   ],
   "source": [
    "stats.ttest_ind(df_apps['price'][df_apps['app_label'] == 0],\n",
    "                df_apps['price'][df_apps['app_label'] == 1])"
   ]
  },
  {
   "cell_type": "markdown",
   "id": "d9a691d2",
   "metadata": {},
   "source": [
    "### **2.4.4 Paid or Free: Fake vs. Real Apps**"
   ]
  },
  {
   "cell_type": "code",
   "execution_count": 115,
   "id": "f5272d72",
   "metadata": {},
   "outputs": [
    {
     "data": {
      "text/html": [
       "<div>\n",
       "<style scoped>\n",
       "    .dataframe tbody tr th:only-of-type {\n",
       "        vertical-align: middle;\n",
       "    }\n",
       "\n",
       "    .dataframe tbody tr th {\n",
       "        vertical-align: top;\n",
       "    }\n",
       "\n",
       "    .dataframe thead th {\n",
       "        text-align: right;\n",
       "    }\n",
       "</style>\n",
       "<table border=\"1\" class=\"dataframe\">\n",
       "  <thead>\n",
       "    <tr style=\"text-align: right;\">\n",
       "      <th>paid</th>\n",
       "      <th>0.0</th>\n",
       "      <th>1.0</th>\n",
       "    </tr>\n",
       "    <tr>\n",
       "      <th>app_label</th>\n",
       "      <th></th>\n",
       "      <th></th>\n",
       "    </tr>\n",
       "  </thead>\n",
       "  <tbody>\n",
       "    <tr>\n",
       "      <th>0</th>\n",
       "      <td>3012</td>\n",
       "      <td>681</td>\n",
       "    </tr>\n",
       "    <tr>\n",
       "      <th>1</th>\n",
       "      <td>1746</td>\n",
       "      <td>124</td>\n",
       "    </tr>\n",
       "  </tbody>\n",
       "</table>\n",
       "</div>"
      ],
      "text/plain": [
       "paid        0.0  1.0\n",
       "app_label           \n",
       "0          3012  681\n",
       "1          1746  124"
      ]
     },
     "execution_count": 115,
     "metadata": {},
     "output_type": "execute_result"
    }
   ],
   "source": [
    "crosstab = pd.crosstab(df_apps['app_label'],df_apps['paid'])\n",
    "crosstab"
   ]
  },
  {
   "cell_type": "code",
   "execution_count": 116,
   "id": "791a73c9",
   "metadata": {},
   "outputs": [
    {
     "data": {
      "image/png": "[encoded data removed]",
      "text/plain": [
       "<Figure size 720x360 with 1 Axes>"
      ]
     },
     "metadata": {
      "needs_background": "light"
     },
     "output_type": "display_data"
    }
   ],
   "source": [
    "plt.figure(figsize=(10,5))\n",
    "ax = sns.countplot(data=df_apps, x=\"paid\", hue='app_label',palette='GnBu', edgecolor = \"black\")\n",
    "ax.set_title(\"Price of Applications\")\n",
    "ax.set(xlabel=\"Price\", ylabel=\"Number of Reviews\")\n",
    "ax.set_xticklabels(['Free','Paid'])\n",
    "ax.legend(title='Labels', labels = ['Real', 'Fake'], loc='upper right')\n",
    "\n",
    "for p in ax.patches:\n",
    "    percentage = '{:.1f}%'.format(100 * p.get_height()/8000)\n",
    "    x = p.get_x() + p.get_width()\n",
    "    y = p.get_height()\n",
    "    ax.annotate(percentage,(x, y), ha='right')\n",
    "plt.show()"
   ]
  },
  {
   "cell_type": "markdown",
   "id": "40c2db4f",
   "metadata": {},
   "source": [
    "***Is there a difference between real and fake applications regarding they are paid or free?***"
   ]
  },
  {
   "cell_type": "code",
   "execution_count": 117,
   "id": "828965d1",
   "metadata": {},
   "outputs": [
    {
     "name": "stdout",
     "output_type": "stream",
     "text": [
      "chi2   : 138.92766311683576\n",
      "p.     : 4.5678860667932964e-32\n",
      "dof    : 1\n",
      "expected : [[3158.60039547  534.39960453]\n",
      " [1599.39960453  270.60039547]]\n"
     ]
    }
   ],
   "source": [
    "chi2, p, dof, exp = chi2_contingency([crosstab.iloc[0].values,crosstab.iloc[1].values])\n",
    "print('chi2   :', chi2)\n",
    "print('p.     :', p)\n",
    "print('dof    :', dof)\n",
    "print('expected :', exp)"
   ]
  },
  {
   "cell_type": "markdown",
   "id": "cce8ce4a",
   "metadata": {},
   "source": [
    "### **2.4.5 Apps' primary genre: Fake vs. Real Apps**"
   ]
  },
  {
   "cell_type": "code",
   "execution_count": 118,
   "id": "00fe2a8c",
   "metadata": {},
   "outputs": [
    {
     "data": {
      "image/png": "[encoded data removed]",
      "text/plain": [
       "<Figure size 1080x360 with 1 Axes>"
      ]
     },
     "metadata": {
      "needs_background": "light"
     },
     "output_type": "display_data"
    }
   ],
   "source": [
    "plt.figure(figsize=(15,5))\n",
    "g = sns.countplot(data=df_apps, x=\"primaryGenre\", hue='app_label',palette='GnBu', edgecolor = \"black\")\n",
    "g.set_title(\"Primary Genre of Applications\")\n",
    "g.set(xlabel=\"Primary Genre\",\n",
    "      ylabel=\"Number of Reviews\")\n",
    "g.legend(title='Labels', labels = ['Real', 'Fake'], loc='upper right' )\n",
    "plt.xticks(rotation=90)\n",
    "plt.show()"
   ]
  },
  {
   "cell_type": "markdown",
   "id": "531da4f7",
   "metadata": {},
   "source": [
    "**Is there a difference between real and fake applications regarding primary genres?**"
   ]
  },
  {
   "cell_type": "code",
   "execution_count": 119,
   "id": "8ce5a70c",
   "metadata": {},
   "outputs": [
    {
     "data": {
      "text/html": [
       "<div>\n",
       "<style scoped>\n",
       "    .dataframe tbody tr th:only-of-type {\n",
       "        vertical-align: middle;\n",
       "    }\n",
       "\n",
       "    .dataframe tbody tr th {\n",
       "        vertical-align: top;\n",
       "    }\n",
       "\n",
       "    .dataframe thead th {\n",
       "        text-align: right;\n",
       "    }\n",
       "</style>\n",
       "<table border=\"1\" class=\"dataframe\">\n",
       "  <thead>\n",
       "    <tr style=\"text-align: right;\">\n",
       "      <th>app_label</th>\n",
       "      <th>0</th>\n",
       "      <th>1</th>\n",
       "      <th>All</th>\n",
       "    </tr>\n",
       "    <tr>\n",
       "      <th>primaryGenre</th>\n",
       "      <th></th>\n",
       "      <th></th>\n",
       "      <th></th>\n",
       "    </tr>\n",
       "  </thead>\n",
       "  <tbody>\n",
       "    <tr>\n",
       "      <th>Book</th>\n",
       "      <td>30</td>\n",
       "      <td>4</td>\n",
       "      <td>34</td>\n",
       "    </tr>\n",
       "    <tr>\n",
       "      <th>Business</th>\n",
       "      <td>77</td>\n",
       "      <td>32</td>\n",
       "      <td>109</td>\n",
       "    </tr>\n",
       "    <tr>\n",
       "      <th>Catalogs</th>\n",
       "      <td>21</td>\n",
       "      <td>3</td>\n",
       "      <td>24</td>\n",
       "    </tr>\n",
       "    <tr>\n",
       "      <th>Education</th>\n",
       "      <td>89</td>\n",
       "      <td>91</td>\n",
       "      <td>180</td>\n",
       "    </tr>\n",
       "    <tr>\n",
       "      <th>Entertainment</th>\n",
       "      <td>268</td>\n",
       "      <td>86</td>\n",
       "      <td>354</td>\n",
       "    </tr>\n",
       "    <tr>\n",
       "      <th>Finance</th>\n",
       "      <td>74</td>\n",
       "      <td>16</td>\n",
       "      <td>90</td>\n",
       "    </tr>\n",
       "    <tr>\n",
       "      <th>Food &amp; Drink</th>\n",
       "      <td>29</td>\n",
       "      <td>19</td>\n",
       "      <td>48</td>\n",
       "    </tr>\n",
       "    <tr>\n",
       "      <th>Games</th>\n",
       "      <td>1588</td>\n",
       "      <td>988</td>\n",
       "      <td>2576</td>\n",
       "    </tr>\n",
       "    <tr>\n",
       "      <th>Health &amp; Fitness</th>\n",
       "      <td>143</td>\n",
       "      <td>80</td>\n",
       "      <td>223</td>\n",
       "    </tr>\n",
       "    <tr>\n",
       "      <th>Lifestyle</th>\n",
       "      <td>127</td>\n",
       "      <td>65</td>\n",
       "      <td>192</td>\n",
       "    </tr>\n",
       "    <tr>\n",
       "      <th>Magazines &amp; Newspapers</th>\n",
       "      <td>0</td>\n",
       "      <td>3</td>\n",
       "      <td>3</td>\n",
       "    </tr>\n",
       "    <tr>\n",
       "      <th>Medical</th>\n",
       "      <td>42</td>\n",
       "      <td>12</td>\n",
       "      <td>54</td>\n",
       "    </tr>\n",
       "    <tr>\n",
       "      <th>Music</th>\n",
       "      <td>96</td>\n",
       "      <td>36</td>\n",
       "      <td>132</td>\n",
       "    </tr>\n",
       "    <tr>\n",
       "      <th>Navigation</th>\n",
       "      <td>17</td>\n",
       "      <td>13</td>\n",
       "      <td>30</td>\n",
       "    </tr>\n",
       "    <tr>\n",
       "      <th>News</th>\n",
       "      <td>59</td>\n",
       "      <td>2</td>\n",
       "      <td>61</td>\n",
       "    </tr>\n",
       "    <tr>\n",
       "      <th>Photo &amp; Video</th>\n",
       "      <td>241</td>\n",
       "      <td>109</td>\n",
       "      <td>350</td>\n",
       "    </tr>\n",
       "    <tr>\n",
       "      <th>Productivity</th>\n",
       "      <td>171</td>\n",
       "      <td>41</td>\n",
       "      <td>212</td>\n",
       "    </tr>\n",
       "    <tr>\n",
       "      <th>Reference</th>\n",
       "      <td>62</td>\n",
       "      <td>14</td>\n",
       "      <td>76</td>\n",
       "    </tr>\n",
       "    <tr>\n",
       "      <th>Shopping</th>\n",
       "      <td>86</td>\n",
       "      <td>25</td>\n",
       "      <td>111</td>\n",
       "    </tr>\n",
       "    <tr>\n",
       "      <th>Social Networking</th>\n",
       "      <td>154</td>\n",
       "      <td>79</td>\n",
       "      <td>233</td>\n",
       "    </tr>\n",
       "    <tr>\n",
       "      <th>Sports</th>\n",
       "      <td>48</td>\n",
       "      <td>43</td>\n",
       "      <td>91</td>\n",
       "    </tr>\n",
       "    <tr>\n",
       "      <th>Stickers</th>\n",
       "      <td>1</td>\n",
       "      <td>1</td>\n",
       "      <td>2</td>\n",
       "    </tr>\n",
       "    <tr>\n",
       "      <th>Travel</th>\n",
       "      <td>46</td>\n",
       "      <td>22</td>\n",
       "      <td>68</td>\n",
       "    </tr>\n",
       "    <tr>\n",
       "      <th>Utilities</th>\n",
       "      <td>187</td>\n",
       "      <td>69</td>\n",
       "      <td>256</td>\n",
       "    </tr>\n",
       "    <tr>\n",
       "      <th>Weather</th>\n",
       "      <td>37</td>\n",
       "      <td>17</td>\n",
       "      <td>54</td>\n",
       "    </tr>\n",
       "    <tr>\n",
       "      <th>All</th>\n",
       "      <td>3693</td>\n",
       "      <td>1870</td>\n",
       "      <td>5563</td>\n",
       "    </tr>\n",
       "  </tbody>\n",
       "</table>\n",
       "</div>"
      ],
      "text/plain": [
       "app_label                  0     1   All\n",
       "primaryGenre                            \n",
       "Book                      30     4    34\n",
       "Business                  77    32   109\n",
       "Catalogs                  21     3    24\n",
       "Education                 89    91   180\n",
       "Entertainment            268    86   354\n",
       "Finance                   74    16    90\n",
       "Food & Drink              29    19    48\n",
       "Games                   1588   988  2576\n",
       "Health & Fitness         143    80   223\n",
       "Lifestyle                127    65   192\n",
       "Magazines & Newspapers     0     3     3\n",
       "Medical                   42    12    54\n",
       "Music                     96    36   132\n",
       "Navigation                17    13    30\n",
       "News                      59     2    61\n",
       "Photo & Video            241   109   350\n",
       "Productivity             171    41   212\n",
       "Reference                 62    14    76\n",
       "Shopping                  86    25   111\n",
       "Social Networking        154    79   233\n",
       "Sports                    48    43    91\n",
       "Stickers                   1     1     2\n",
       "Travel                    46    22    68\n",
       "Utilities                187    69   256\n",
       "Weather                   37    17    54\n",
       "All                     3693  1870  5563"
      ]
     },
     "execution_count": 119,
     "metadata": {},
     "output_type": "execute_result"
    }
   ],
   "source": [
    "crosstab = pd.crosstab(df_apps['primaryGenre'], df_apps['app_label'], margins=True)\n",
    "crosstab"
   ]
  },
  {
   "cell_type": "markdown",
   "id": "841ea106",
   "metadata": {},
   "source": [
    "**Is there a difference between real and fake applications whose genre is game?**"
   ]
  },
  {
   "cell_type": "code",
   "execution_count": 120,
   "id": "e513f604",
   "metadata": {},
   "outputs": [
    {
     "data": {
      "text/plain": [
       "Power_divergenceResult(statistic=139.75155279503105, pvalue=3.016780677381206e-32)"
      ]
     },
     "execution_count": 120,
     "metadata": {},
     "output_type": "execute_result"
    }
   ],
   "source": [
    "chisquare([1588,988])"
   ]
  },
  {
   "cell_type": "markdown",
   "id": "6cbb73ab",
   "metadata": {},
   "source": [
    "**Is there a difference between real and fake applications whose genre is entertainment?**"
   ]
  },
  {
   "cell_type": "code",
   "execution_count": 121,
   "id": "784255a5",
   "metadata": {},
   "outputs": [
    {
     "data": {
      "text/plain": [
       "Power_divergenceResult(statistic=93.57062146892656, pvalue=3.9196256208391787e-22)"
      ]
     },
     "execution_count": 121,
     "metadata": {},
     "output_type": "execute_result"
    }
   ],
   "source": [
    "chisquare([268,86])"
   ]
  },
  {
   "cell_type": "markdown",
   "id": "2cb7ba7a",
   "metadata": {},
   "source": [
    "**Is there a difference between real and fake applications whose genre is education?**"
   ]
  },
  {
   "cell_type": "code",
   "execution_count": 122,
   "id": "8a852681",
   "metadata": {},
   "outputs": [
    {
     "data": {
      "text/plain": [
       "Power_divergenceResult(statistic=0.022222222222222223, pvalue=0.8814974521910135)"
      ]
     },
     "execution_count": 122,
     "metadata": {},
     "output_type": "execute_result"
    }
   ],
   "source": [
    "chisquare([89,91])"
   ]
  },
  {
   "cell_type": "markdown",
   "id": "9c30977c",
   "metadata": {},
   "source": [
    "### **2.4.6 Apps all rating average: Fake vs. Real Apps**"
   ]
  },
  {
   "cell_type": "code",
   "execution_count": 123,
   "id": "3509d48f",
   "metadata": {},
   "outputs": [
    {
     "data": {
      "image/png": "[encoded data removed]",
      "text/plain": [
       "<Figure size 576x360 with 1 Axes>"
      ]
     },
     "metadata": {
      "needs_background": "light"
     },
     "output_type": "display_data"
    }
   ],
   "source": [
    "plt.figure(figsize=(8,5))\n",
    "sns.countplot(data=df_apps, x ='allRatingAverge', hue='app_label',palette='GnBu', edgecolor = \"black\")\n",
    "g.set_title(\"All Average Rating of Applications\")\n",
    "g.set(xlabel=\"Average Ratings\",\n",
    "      ylabel=\"Number of Reviews\")\n",
    "g.legend(title='Labels', labels = ['Real', 'Fake'], loc='upper left')\n",
    "plt.show()"
   ]
  },
  {
   "cell_type": "markdown",
   "id": "53f2c616",
   "metadata": {},
   "source": [
    "### **2.4.7 App version: Fake vs. Real Apps**"
   ]
  },
  {
   "cell_type": "code",
   "execution_count": 124,
   "id": "60ab4359",
   "metadata": {},
   "outputs": [
    {
     "data": {
      "image/png": "[encoded data removed]",
      "text/plain": [
       "<Figure size 1080x360 with 1 Axes>"
      ]
     },
     "metadata": {
      "needs_background": "light"
     },
     "output_type": "display_data"
    }
   ],
   "source": [
    "plt.figure(figsize=(15,5))\n",
    "g = sns.countplot(data=df_apps, x=\"version_major\", hue='app_label', palette='GnBu', edgecolor = \"black\")\n",
    "g.set_title(\"Ratings of Reviews\", fontsize=16)\n",
    "g.set(xlabel=\"Rating of Reviews\",\n",
    "      ylabel=\"Number of Reviews\")\n",
    "g.legend(title='Labels', labels = ['Real', 'Fake'], fontsize=14, loc='upper right')\n",
    "plt.xticks(rotation=90)\n",
    "plt.show()"
   ]
  },
  {
   "cell_type": "markdown",
   "id": "5ab1cbc3",
   "metadata": {},
   "source": [
    "### **2.4.8 Time difference initial and current release: Fake vs. Real Apps**"
   ]
  },
  {
   "cell_type": "code",
   "execution_count": 125,
   "id": "dfa12fcd",
   "metadata": {},
   "outputs": [],
   "source": [
    "df_apps[\"diff_init_curr_2\"]=(df_apps[\"diff_init_curr_2\"] / np.timedelta64(1, 'D')).astype(int)"
   ]
  },
  {
   "cell_type": "code",
   "execution_count": 126,
   "id": "e0e248b1",
   "metadata": {},
   "outputs": [
    {
     "data": {
      "text/html": [
       "<div>\n",
       "<style scoped>\n",
       "    .dataframe tbody tr th:only-of-type {\n",
       "        vertical-align: middle;\n",
       "    }\n",
       "\n",
       "    .dataframe tbody tr th {\n",
       "        vertical-align: top;\n",
       "    }\n",
       "\n",
       "    .dataframe thead th {\n",
       "        text-align: right;\n",
       "    }\n",
       "</style>\n",
       "<table border=\"1\" class=\"dataframe\">\n",
       "  <thead>\n",
       "    <tr style=\"text-align: right;\">\n",
       "      <th></th>\n",
       "      <th>count</th>\n",
       "      <th>mean</th>\n",
       "      <th>std</th>\n",
       "      <th>min</th>\n",
       "      <th>25%</th>\n",
       "      <th>50%</th>\n",
       "      <th>75%</th>\n",
       "      <th>max</th>\n",
       "    </tr>\n",
       "    <tr>\n",
       "      <th>app_label</th>\n",
       "      <th></th>\n",
       "      <th></th>\n",
       "      <th></th>\n",
       "      <th></th>\n",
       "      <th></th>\n",
       "      <th></th>\n",
       "      <th></th>\n",
       "      <th></th>\n",
       "    </tr>\n",
       "  </thead>\n",
       "  <tbody>\n",
       "    <tr>\n",
       "      <th>0</th>\n",
       "      <td>3693.0</td>\n",
       "      <td>1213.952613</td>\n",
       "      <td>826.701849</td>\n",
       "      <td>0.0</td>\n",
       "      <td>507.0</td>\n",
       "      <td>1167.0</td>\n",
       "      <td>1844.00</td>\n",
       "      <td>3167.0</td>\n",
       "    </tr>\n",
       "    <tr>\n",
       "      <th>1</th>\n",
       "      <td>1870.0</td>\n",
       "      <td>354.428877</td>\n",
       "      <td>479.060551</td>\n",
       "      <td>0.0</td>\n",
       "      <td>7.0</td>\n",
       "      <td>157.0</td>\n",
       "      <td>530.75</td>\n",
       "      <td>3147.0</td>\n",
       "    </tr>\n",
       "  </tbody>\n",
       "</table>\n",
       "</div>"
      ],
      "text/plain": [
       "            count         mean         std  min    25%     50%      75%  \\\n",
       "app_label                                                                 \n",
       "0          3693.0  1213.952613  826.701849  0.0  507.0  1167.0  1844.00   \n",
       "1          1870.0   354.428877  479.060551  0.0    7.0   157.0   530.75   \n",
       "\n",
       "              max  \n",
       "app_label          \n",
       "0          3167.0  \n",
       "1          3147.0  "
      ]
     },
     "execution_count": 126,
     "metadata": {},
     "output_type": "execute_result"
    }
   ],
   "source": [
    "# Descriptive statistics of total reviews.\n",
    "df_apps.groupby([\"app_label\"])[\"diff_init_curr_2\"].describe()"
   ]
  },
  {
   "cell_type": "code",
   "execution_count": 127,
   "id": "95aaa9c0",
   "metadata": {},
   "outputs": [
    {
     "data": {
      "text/plain": [
       "[Text(0, 0.5, 'Frequency')]"
      ]
     },
     "execution_count": 127,
     "metadata": {},
     "output_type": "execute_result"
    },
    {
     "data": {
      "image/png": "[encoded data removed]",
      "text/plain": [
       "<Figure size 1080x216 with 2 Axes>"
      ]
     },
     "metadata": {
      "needs_background": "light"
     },
     "output_type": "display_data"
    }
   ],
   "source": [
    "# Histogram of prices\n",
    "fig, (ax0, ax1) = plt.subplots(nrows=1, ncols=2, sharey=True, figsize=(15,3))\n",
    "\n",
    "sns.histplot(df_apps[df_apps['diff_init_curr_2']==0]['price'], ax=ax0, bins=30)\n",
    "sns.histplot(df_apps[df_apps['diff_init_curr_2']==1]['price'], ax=ax1, bins=30)\n",
    "ax0.set(xlabel='Real Apps')\n",
    "ax1.set(xlabel='Fake Apps')\n",
    "ax0.set(ylabel='Frequency')"
   ]
  },
  {
   "cell_type": "markdown",
   "id": "439a1afa",
   "metadata": {},
   "source": [
    "***Is there a difference between real and fake applications regarding apps' price?***"
   ]
  },
  {
   "cell_type": "code",
   "execution_count": 128,
   "id": "f8cbf50d",
   "metadata": {},
   "outputs": [
    {
     "data": {
      "image/png": "[encoded data removed]",
      "text/plain": [
       "<Figure size 432x288 with 1 Axes>"
      ]
     },
     "metadata": {
      "needs_background": "light"
     },
     "output_type": "display_data"
    }
   ],
   "source": [
    "# Check normality\n",
    "qqplot(df_apps['diff_init_curr_2'], line='s')\n",
    "plt.show()"
   ]
  },
  {
   "cell_type": "code",
   "execution_count": 129,
   "id": "473ab255",
   "metadata": {},
   "outputs": [
    {
     "name": "stdout",
     "output_type": "stream",
     "text": [
      "Statistics=0.907, p=0.000\n",
      "Sample does not look Gaussian (reject H0)\n"
     ]
    }
   ],
   "source": [
    "# normality test\n",
    "stat, p = shapiro(df_apps['diff_init_curr_2'])\n",
    "print('Statistics=%.3f, p=%.3f' % (stat, p))\n",
    "# interpret\n",
    "alpha = 0.05\n",
    "if p > alpha:\n",
    "    print('Sample looks Gaussian (fail to reject H0)')\n",
    "else:\n",
    "    print('Sample does not look Gaussian (reject H0)')"
   ]
  },
  {
   "cell_type": "code",
   "execution_count": 130,
   "id": "e6be12e4",
   "metadata": {},
   "outputs": [
    {
     "data": {
      "text/plain": [
       "MannwhitneyuResult(statistic=5663707.0, pvalue=0.0)"
      ]
     },
     "execution_count": 130,
     "metadata": {},
     "output_type": "execute_result"
    }
   ],
   "source": [
    "# Carrying out the Wilcoxon–Mann–Whitney test\n",
    "results = mannwhitneyu(df_apps['diff_init_curr_2'][df_apps['app_label'] == 0],\n",
    "                df_apps['diff_init_curr_2'][df_apps['app_label'] == 1])\n",
    "results"
   ]
  },
  {
   "cell_type": "code",
   "execution_count": 131,
   "id": "dbebeeb6",
   "metadata": {},
   "outputs": [
    {
     "data": {
      "text/plain": [
       "Ttest_indResult(statistic=41.56414902949182, pvalue=0.0)"
      ]
     },
     "execution_count": 131,
     "metadata": {},
     "output_type": "execute_result"
    }
   ],
   "source": [
    "stats.ttest_ind(df_apps['diff_init_curr_2'][df_apps['app_label'] == 0],\n",
    "                df_apps['diff_init_curr_2'][df_apps['app_label'] == 1])"
   ]
  },
  {
   "cell_type": "markdown",
   "id": "8945d0d8",
   "metadata": {},
   "source": [
    "# Download dataframe for pre-processing"
   ]
  },
  {
   "cell_type": "code",
   "execution_count": 139,
   "id": "f6dfa3a6",
   "metadata": {},
   "outputs": [
    {
     "data": {
      "text/plain": [
       "(16000, 188)"
      ]
     },
     "execution_count": 139,
     "metadata": {},
     "output_type": "execute_result"
    }
   ],
   "source": [
    "df.shape"
   ]
  },
  {
   "cell_type": "code",
   "execution_count": 144,
   "id": "64527e4b",
   "metadata": {},
   "outputs": [],
   "source": [
    "# download the dataframe as .csv to use in EDA\n",
    "from IPython.display import FileLink, FileLinks\n",
    "\n",
    "df.to_csv('/Users/handedede/Desktop/data/data_preprocess.csv', index=False)"
   ]
  }
 ],
 "metadata": {
  "kernelspec": {
   "display_name": "Python 3 (ipykernel)",
   "language": "python",
   "name": "python3"
  },
  "language_info": {
   "codemirror_mode": {
    "name": "ipython",
    "version": 3
   },
   "file_extension": ".py",
   "mimetype": "text/x-python",
   "name": "python",
   "nbconvert_exporter": "python",
   "pygments_lexer": "ipython3",
   "version": "3.9.7"
  }
 },
 "nbformat": 4,
 "nbformat_minor": 5
}
