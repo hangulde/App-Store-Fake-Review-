{
 "cells": [
  {
   "cell_type": "markdown",
   "id": "JLZfNYzPqQfE",
   "metadata": {
    "id": "JLZfNYzPqQfE"
   },
   "source": [
    "## **Pips**"
   ]
  },
  {
   "cell_type": "code",
   "execution_count": 73,
   "id": "_3SJSsp9qPPq",
   "metadata": {
    "id": "_3SJSsp9qPPq"
   },
   "outputs": [
    {
     "name": "stdout",
     "output_type": "stream",
     "text": [
      "Requirement already satisfied: lightgbm in /Users/handedede/opt/anaconda3/lib/python3.9/site-packages (3.3.2)\n",
      "Requirement already satisfied: wheel in /Users/handedede/opt/anaconda3/lib/python3.9/site-packages (from lightgbm) (0.37.0)\n",
      "Requirement already satisfied: scipy in /Users/handedede/opt/anaconda3/lib/python3.9/site-packages (from lightgbm) (1.7.1)\n",
      "Requirement already satisfied: scikit-learn!=0.22.0 in /Users/handedede/opt/anaconda3/lib/python3.9/site-packages (from lightgbm) (1.1.2)\n",
      "Requirement already satisfied: numpy in /Users/handedede/opt/anaconda3/lib/python3.9/site-packages (from lightgbm) (1.20.3)\n",
      "Requirement already satisfied: threadpoolctl>=2.0.0 in /Users/handedede/opt/anaconda3/lib/python3.9/site-packages (from scikit-learn!=0.22.0->lightgbm) (2.2.0)\n",
      "Requirement already satisfied: joblib>=1.0.0 in /Users/handedede/opt/anaconda3/lib/python3.9/site-packages (from scikit-learn!=0.22.0->lightgbm) (1.1.0)\n"
     ]
    }
   ],
   "source": [
    "#!pip install --upgrade category_encoders\n"
   ]
  },
  {
   "cell_type": "markdown",
   "id": "46977550",
   "metadata": {
    "id": "46977550"
   },
   "source": [
    "## Imports"
   ]
  },
  {
   "cell_type": "code",
   "execution_count": 83,
   "id": "ec44f4c1",
   "metadata": {
    "id": "ec44f4c1"
   },
   "outputs": [],
   "source": [
    "import pandas as pd\n",
    "import numpy as np\n",
    "import warnings\n",
    "warnings.filterwarnings('ignore')\n",
    "import seaborn as sns \n",
    "import matplotlib.pyplot as plt\n",
    "\n",
    "from category_encoders import TargetEncoder\n",
    "\n",
    "# Scikit learn packages\n",
    "from sklearn.model_selection import train_test_split\n",
    "from sklearn.linear_model import LogisticRegression\n",
    "from sklearn.ensemble import RandomForestClassifier \n",
    "from sklearn.naive_bayes import GaussianNB\n",
    "from sklearn.naive_bayes import MultinomialNB\n",
    "from sklearn.tree import DecisionTreeClassifier\n",
    "from sklearn.ensemble import GradientBoostingClassifier, AdaBoostClassifier\n",
    "from sklearn.neighbors import KNeighborsClassifier\n",
    "from sklearn.discriminant_analysis import LinearDiscriminantAnalysis\n",
    "import xgboost as xgb\n",
    "from sklearn.preprocessing import MinMaxScaler # Scale between 0 and 1\n",
    "from sklearn.preprocessing import StandardScaler # \n",
    "\n",
    "# For time differences\n",
    "import time\n",
    "from datetime import datetime\n",
    "\n",
    "\n",
    "#import metrics functions\n",
    "from sklearn import metrics\n",
    "from sklearn.metrics import multilabel_confusion_matrix\n",
    "from sklearn.metrics import accuracy_score\n",
    "from sklearn.metrics import f1_score\n",
    "from sklearn.metrics import recall_score\n",
    "from sklearn.metrics import precision_score\n",
    "from sklearn.metrics import make_scorer\n",
    "from sklearn.metrics import roc_auc_score\n",
    "from sklearn.metrics import confusion_matrix\n",
    "\n",
    "# Hypermeter tuning packages\n",
    "from sklearn.model_selection import StratifiedKFold\n",
    "from sklearn.model_selection import GridSearchCV\n",
    "from sklearn.model_selection import RepeatedStratifiedKFold\n",
    "from sklearn.model_selection import RandomizedSearchCV"
   ]
  },
  {
   "cell_type": "markdown",
   "id": "e500599d",
   "metadata": {
    "id": "e500599d"
   },
   "source": [
    "## Load Data"
   ]
  },
  {
   "cell_type": "code",
   "execution_count": 3,
   "id": "2080c402",
   "metadata": {
    "id": "2080c402"
   },
   "outputs": [
    {
     "data": {
      "text/plain": [
       "'# Necessary for google.colab\\n\\nfrom google.colab import files\\nuploaded = files.upload()\\n'"
      ]
     },
     "execution_count": 3,
     "metadata": {},
     "output_type": "execute_result"
    }
   ],
   "source": [
    "'''# Necessary for google.colab\n",
    "\n",
    "from google.colab import files\n",
    "uploaded = files.upload()\n",
    "'''"
   ]
  },
  {
   "cell_type": "markdown",
   "id": "6758c368",
   "metadata": {
    "id": "6758c368"
   },
   "source": [
    "***Load sentence vectors***"
   ]
  },
  {
   "cell_type": "code",
   "execution_count": 4,
   "id": "8c4d8462",
   "metadata": {
    "id": "8c4d8462"
   },
   "outputs": [],
   "source": [
    "# Review text - Sentence to Vectors - Bert Embedding\n",
    "df_text_bert =pd.read_csv('df_text_bert.csv', index_col=0)\n",
    "# Review text - Words to Vectors - Glove Embedding\n",
    "df_text_glove =pd.read_csv('df_text_glove.csv', index_col=0)\n",
    "# App description\n",
    "df_desc_bert =pd.read_csv('df_desc_bert.csv', index_col=0)"
   ]
  },
  {
   "cell_type": "code",
   "execution_count": 5,
   "id": "ae1f08ad",
   "metadata": {
    "id": "ae1f08ad"
   },
   "outputs": [
    {
     "name": "stdout",
     "output_type": "stream",
     "text": [
      "Shape: (16000, 768)\n"
     ]
    },
    {
     "data": {
      "text/html": [
       "<div>\n",
       "<style scoped>\n",
       "    .dataframe tbody tr th:only-of-type {\n",
       "        vertical-align: middle;\n",
       "    }\n",
       "\n",
       "    .dataframe tbody tr th {\n",
       "        vertical-align: top;\n",
       "    }\n",
       "\n",
       "    .dataframe thead th {\n",
       "        text-align: right;\n",
       "    }\n",
       "</style>\n",
       "<table border=\"1\" class=\"dataframe\">\n",
       "  <thead>\n",
       "    <tr style=\"text-align: right;\">\n",
       "      <th></th>\n",
       "      <th>0</th>\n",
       "      <th>1</th>\n",
       "      <th>2</th>\n",
       "      <th>3</th>\n",
       "      <th>4</th>\n",
       "      <th>5</th>\n",
       "      <th>6</th>\n",
       "      <th>7</th>\n",
       "      <th>8</th>\n",
       "      <th>9</th>\n",
       "      <th>...</th>\n",
       "      <th>758</th>\n",
       "      <th>759</th>\n",
       "      <th>760</th>\n",
       "      <th>761</th>\n",
       "      <th>762</th>\n",
       "      <th>763</th>\n",
       "      <th>764</th>\n",
       "      <th>765</th>\n",
       "      <th>766</th>\n",
       "      <th>767</th>\n",
       "    </tr>\n",
       "  </thead>\n",
       "  <tbody>\n",
       "    <tr>\n",
       "      <th>0</th>\n",
       "      <td>-0.035029</td>\n",
       "      <td>-0.006903</td>\n",
       "      <td>1.337657</td>\n",
       "      <td>0.174699</td>\n",
       "      <td>0.093555</td>\n",
       "      <td>-1.726317</td>\n",
       "      <td>-0.373252</td>\n",
       "      <td>0.171986</td>\n",
       "      <td>0.359217</td>\n",
       "      <td>-0.287797</td>\n",
       "      <td>...</td>\n",
       "      <td>-0.267687</td>\n",
       "      <td>-0.705633</td>\n",
       "      <td>-0.950520</td>\n",
       "      <td>-0.803018</td>\n",
       "      <td>-0.351577</td>\n",
       "      <td>-0.408948</td>\n",
       "      <td>-0.148333</td>\n",
       "      <td>0.348156</td>\n",
       "      <td>-0.183150</td>\n",
       "      <td>0.393285</td>\n",
       "    </tr>\n",
       "    <tr>\n",
       "      <th>1</th>\n",
       "      <td>-0.357072</td>\n",
       "      <td>-0.226746</td>\n",
       "      <td>0.961590</td>\n",
       "      <td>0.251037</td>\n",
       "      <td>-0.743991</td>\n",
       "      <td>-1.129992</td>\n",
       "      <td>-0.431224</td>\n",
       "      <td>-0.146512</td>\n",
       "      <td>0.944198</td>\n",
       "      <td>-0.159195</td>\n",
       "      <td>...</td>\n",
       "      <td>-0.778291</td>\n",
       "      <td>-0.771172</td>\n",
       "      <td>-0.093147</td>\n",
       "      <td>-2.219298</td>\n",
       "      <td>-0.354459</td>\n",
       "      <td>-0.869687</td>\n",
       "      <td>0.058129</td>\n",
       "      <td>0.229607</td>\n",
       "      <td>-0.149266</td>\n",
       "      <td>0.377311</td>\n",
       "    </tr>\n",
       "    <tr>\n",
       "      <th>2</th>\n",
       "      <td>-0.234745</td>\n",
       "      <td>0.114082</td>\n",
       "      <td>1.664341</td>\n",
       "      <td>0.732730</td>\n",
       "      <td>0.186684</td>\n",
       "      <td>-1.380211</td>\n",
       "      <td>-0.278143</td>\n",
       "      <td>-0.261810</td>\n",
       "      <td>1.287586</td>\n",
       "      <td>-0.308171</td>\n",
       "      <td>...</td>\n",
       "      <td>-0.402438</td>\n",
       "      <td>-1.427730</td>\n",
       "      <td>-0.010735</td>\n",
       "      <td>-1.611847</td>\n",
       "      <td>-0.650448</td>\n",
       "      <td>-0.239737</td>\n",
       "      <td>-0.233384</td>\n",
       "      <td>0.065031</td>\n",
       "      <td>-0.211206</td>\n",
       "      <td>-0.078605</td>\n",
       "    </tr>\n",
       "    <tr>\n",
       "      <th>3</th>\n",
       "      <td>-0.094500</td>\n",
       "      <td>0.761218</td>\n",
       "      <td>0.592445</td>\n",
       "      <td>0.442082</td>\n",
       "      <td>-0.608362</td>\n",
       "      <td>-0.738993</td>\n",
       "      <td>0.741615</td>\n",
       "      <td>0.358003</td>\n",
       "      <td>-0.010582</td>\n",
       "      <td>0.094172</td>\n",
       "      <td>...</td>\n",
       "      <td>-0.140897</td>\n",
       "      <td>-0.182956</td>\n",
       "      <td>-0.399212</td>\n",
       "      <td>-2.179318</td>\n",
       "      <td>-0.034678</td>\n",
       "      <td>-0.309055</td>\n",
       "      <td>-0.056216</td>\n",
       "      <td>0.260642</td>\n",
       "      <td>0.137184</td>\n",
       "      <td>0.295071</td>\n",
       "    </tr>\n",
       "    <tr>\n",
       "      <th>4</th>\n",
       "      <td>-0.203245</td>\n",
       "      <td>-0.219366</td>\n",
       "      <td>1.343241</td>\n",
       "      <td>0.382345</td>\n",
       "      <td>-0.661124</td>\n",
       "      <td>-1.196098</td>\n",
       "      <td>-0.424366</td>\n",
       "      <td>-0.646019</td>\n",
       "      <td>0.972297</td>\n",
       "      <td>-0.310478</td>\n",
       "      <td>...</td>\n",
       "      <td>-0.482683</td>\n",
       "      <td>-0.510881</td>\n",
       "      <td>-0.224320</td>\n",
       "      <td>-2.557781</td>\n",
       "      <td>-0.671659</td>\n",
       "      <td>-0.484763</td>\n",
       "      <td>-0.510251</td>\n",
       "      <td>-0.280929</td>\n",
       "      <td>-0.535569</td>\n",
       "      <td>0.638781</td>\n",
       "    </tr>\n",
       "  </tbody>\n",
       "</table>\n",
       "<p>5 rows × 768 columns</p>\n",
       "</div>"
      ],
      "text/plain": [
       "          0         1         2         3         4         5         6  \\\n",
       "0 -0.035029 -0.006903  1.337657  0.174699  0.093555 -1.726317 -0.373252   \n",
       "1 -0.357072 -0.226746  0.961590  0.251037 -0.743991 -1.129992 -0.431224   \n",
       "2 -0.234745  0.114082  1.664341  0.732730  0.186684 -1.380211 -0.278143   \n",
       "3 -0.094500  0.761218  0.592445  0.442082 -0.608362 -0.738993  0.741615   \n",
       "4 -0.203245 -0.219366  1.343241  0.382345 -0.661124 -1.196098 -0.424366   \n",
       "\n",
       "          7         8         9  ...       758       759       760       761  \\\n",
       "0  0.171986  0.359217 -0.287797  ... -0.267687 -0.705633 -0.950520 -0.803018   \n",
       "1 -0.146512  0.944198 -0.159195  ... -0.778291 -0.771172 -0.093147 -2.219298   \n",
       "2 -0.261810  1.287586 -0.308171  ... -0.402438 -1.427730 -0.010735 -1.611847   \n",
       "3  0.358003 -0.010582  0.094172  ... -0.140897 -0.182956 -0.399212 -2.179318   \n",
       "4 -0.646019  0.972297 -0.310478  ... -0.482683 -0.510881 -0.224320 -2.557781   \n",
       "\n",
       "        762       763       764       765       766       767  \n",
       "0 -0.351577 -0.408948 -0.148333  0.348156 -0.183150  0.393285  \n",
       "1 -0.354459 -0.869687  0.058129  0.229607 -0.149266  0.377311  \n",
       "2 -0.650448 -0.239737 -0.233384  0.065031 -0.211206 -0.078605  \n",
       "3 -0.034678 -0.309055 -0.056216  0.260642  0.137184  0.295071  \n",
       "4 -0.671659 -0.484763 -0.510251 -0.280929 -0.535569  0.638781  \n",
       "\n",
       "[5 rows x 768 columns]"
      ]
     },
     "execution_count": 5,
     "metadata": {},
     "output_type": "execute_result"
    }
   ],
   "source": [
    "print('Shape:', df_text_bert.shape)\n",
    "df_text_bert.head()"
   ]
  },
  {
   "cell_type": "code",
   "execution_count": 6,
   "id": "5qXXGCGT0GYM",
   "metadata": {
    "id": "5qXXGCGT0GYM"
   },
   "outputs": [
    {
     "name": "stdout",
     "output_type": "stream",
     "text": [
      "Shape: (16000, 25)\n"
     ]
    },
    {
     "data": {
      "text/html": [
       "<div>\n",
       "<style scoped>\n",
       "    .dataframe tbody tr th:only-of-type {\n",
       "        vertical-align: middle;\n",
       "    }\n",
       "\n",
       "    .dataframe tbody tr th {\n",
       "        vertical-align: top;\n",
       "    }\n",
       "\n",
       "    .dataframe thead th {\n",
       "        text-align: right;\n",
       "    }\n",
       "</style>\n",
       "<table border=\"1\" class=\"dataframe\">\n",
       "  <thead>\n",
       "    <tr style=\"text-align: right;\">\n",
       "      <th></th>\n",
       "      <th>0</th>\n",
       "      <th>1</th>\n",
       "      <th>2</th>\n",
       "      <th>3</th>\n",
       "      <th>4</th>\n",
       "      <th>5</th>\n",
       "      <th>6</th>\n",
       "      <th>7</th>\n",
       "      <th>8</th>\n",
       "      <th>9</th>\n",
       "      <th>...</th>\n",
       "      <th>15</th>\n",
       "      <th>16</th>\n",
       "      <th>17</th>\n",
       "      <th>18</th>\n",
       "      <th>19</th>\n",
       "      <th>20</th>\n",
       "      <th>21</th>\n",
       "      <th>22</th>\n",
       "      <th>23</th>\n",
       "      <th>24</th>\n",
       "    </tr>\n",
       "  </thead>\n",
       "  <tbody>\n",
       "    <tr>\n",
       "      <th>0</th>\n",
       "      <td>-0.095481</td>\n",
       "      <td>0.465363</td>\n",
       "      <td>0.020231</td>\n",
       "      <td>-0.357653</td>\n",
       "      <td>0.204755</td>\n",
       "      <td>0.008619</td>\n",
       "      <td>0.984975</td>\n",
       "      <td>-0.454963</td>\n",
       "      <td>0.114148</td>\n",
       "      <td>-0.205000</td>\n",
       "      <td>...</td>\n",
       "      <td>0.005369</td>\n",
       "      <td>0.104194</td>\n",
       "      <td>-0.343836</td>\n",
       "      <td>-0.039284</td>\n",
       "      <td>-0.154966</td>\n",
       "      <td>-0.524109</td>\n",
       "      <td>-0.473623</td>\n",
       "      <td>0.059042</td>\n",
       "      <td>0.365918</td>\n",
       "      <td>-0.363540</td>\n",
       "    </tr>\n",
       "    <tr>\n",
       "      <th>1</th>\n",
       "      <td>0.083955</td>\n",
       "      <td>0.114951</td>\n",
       "      <td>0.310043</td>\n",
       "      <td>-0.517333</td>\n",
       "      <td>-0.040672</td>\n",
       "      <td>0.431149</td>\n",
       "      <td>1.541831</td>\n",
       "      <td>-0.278181</td>\n",
       "      <td>-0.306568</td>\n",
       "      <td>-0.450887</td>\n",
       "      <td>...</td>\n",
       "      <td>0.434653</td>\n",
       "      <td>0.257523</td>\n",
       "      <td>-0.467399</td>\n",
       "      <td>-0.065934</td>\n",
       "      <td>-0.122967</td>\n",
       "      <td>-0.242351</td>\n",
       "      <td>0.264582</td>\n",
       "      <td>-0.264704</td>\n",
       "      <td>0.078452</td>\n",
       "      <td>-0.186285</td>\n",
       "    </tr>\n",
       "    <tr>\n",
       "      <th>2</th>\n",
       "      <td>0.197539</td>\n",
       "      <td>0.450679</td>\n",
       "      <td>0.174684</td>\n",
       "      <td>-0.621057</td>\n",
       "      <td>-0.108525</td>\n",
       "      <td>0.105656</td>\n",
       "      <td>1.290158</td>\n",
       "      <td>-0.017287</td>\n",
       "      <td>-0.021323</td>\n",
       "      <td>-0.237234</td>\n",
       "      <td>...</td>\n",
       "      <td>0.097987</td>\n",
       "      <td>0.208567</td>\n",
       "      <td>-0.791368</td>\n",
       "      <td>-0.157282</td>\n",
       "      <td>0.083074</td>\n",
       "      <td>-0.358440</td>\n",
       "      <td>-0.037480</td>\n",
       "      <td>0.132211</td>\n",
       "      <td>0.069473</td>\n",
       "      <td>-0.160459</td>\n",
       "    </tr>\n",
       "    <tr>\n",
       "      <th>3</th>\n",
       "      <td>-0.012691</td>\n",
       "      <td>0.395010</td>\n",
       "      <td>0.266414</td>\n",
       "      <td>-0.345809</td>\n",
       "      <td>-0.133150</td>\n",
       "      <td>0.147163</td>\n",
       "      <td>1.144651</td>\n",
       "      <td>-0.603839</td>\n",
       "      <td>-0.394740</td>\n",
       "      <td>-0.137749</td>\n",
       "      <td>...</td>\n",
       "      <td>0.363722</td>\n",
       "      <td>0.414809</td>\n",
       "      <td>-0.407349</td>\n",
       "      <td>0.013449</td>\n",
       "      <td>-0.358427</td>\n",
       "      <td>-0.044724</td>\n",
       "      <td>0.206266</td>\n",
       "      <td>0.254634</td>\n",
       "      <td>0.114628</td>\n",
       "      <td>-0.025033</td>\n",
       "    </tr>\n",
       "    <tr>\n",
       "      <th>4</th>\n",
       "      <td>0.056657</td>\n",
       "      <td>0.199712</td>\n",
       "      <td>0.100817</td>\n",
       "      <td>-0.457898</td>\n",
       "      <td>0.065930</td>\n",
       "      <td>0.451828</td>\n",
       "      <td>1.336158</td>\n",
       "      <td>-0.204669</td>\n",
       "      <td>0.089158</td>\n",
       "      <td>-0.236635</td>\n",
       "      <td>...</td>\n",
       "      <td>0.537089</td>\n",
       "      <td>0.290729</td>\n",
       "      <td>-0.650828</td>\n",
       "      <td>-0.249178</td>\n",
       "      <td>-0.128173</td>\n",
       "      <td>-0.434663</td>\n",
       "      <td>0.143912</td>\n",
       "      <td>0.138359</td>\n",
       "      <td>0.181426</td>\n",
       "      <td>-0.047157</td>\n",
       "    </tr>\n",
       "  </tbody>\n",
       "</table>\n",
       "<p>5 rows × 25 columns</p>\n",
       "</div>"
      ],
      "text/plain": [
       "          0         1         2         3         4         5         6  \\\n",
       "0 -0.095481  0.465363  0.020231 -0.357653  0.204755  0.008619  0.984975   \n",
       "1  0.083955  0.114951  0.310043 -0.517333 -0.040672  0.431149  1.541831   \n",
       "2  0.197539  0.450679  0.174684 -0.621057 -0.108525  0.105656  1.290158   \n",
       "3 -0.012691  0.395010  0.266414 -0.345809 -0.133150  0.147163  1.144651   \n",
       "4  0.056657  0.199712  0.100817 -0.457898  0.065930  0.451828  1.336158   \n",
       "\n",
       "          7         8         9  ...        15        16        17        18  \\\n",
       "0 -0.454963  0.114148 -0.205000  ...  0.005369  0.104194 -0.343836 -0.039284   \n",
       "1 -0.278181 -0.306568 -0.450887  ...  0.434653  0.257523 -0.467399 -0.065934   \n",
       "2 -0.017287 -0.021323 -0.237234  ...  0.097987  0.208567 -0.791368 -0.157282   \n",
       "3 -0.603839 -0.394740 -0.137749  ...  0.363722  0.414809 -0.407349  0.013449   \n",
       "4 -0.204669  0.089158 -0.236635  ...  0.537089  0.290729 -0.650828 -0.249178   \n",
       "\n",
       "         19        20        21        22        23        24  \n",
       "0 -0.154966 -0.524109 -0.473623  0.059042  0.365918 -0.363540  \n",
       "1 -0.122967 -0.242351  0.264582 -0.264704  0.078452 -0.186285  \n",
       "2  0.083074 -0.358440 -0.037480  0.132211  0.069473 -0.160459  \n",
       "3 -0.358427 -0.044724  0.206266  0.254634  0.114628 -0.025033  \n",
       "4 -0.128173 -0.434663  0.143912  0.138359  0.181426 -0.047157  \n",
       "\n",
       "[5 rows x 25 columns]"
      ]
     },
     "execution_count": 6,
     "metadata": {},
     "output_type": "execute_result"
    }
   ],
   "source": [
    "print('Shape:', df_text_glove.shape)\n",
    "df_text_glove.head()"
   ]
  },
  {
   "cell_type": "code",
   "execution_count": 7,
   "id": "c43ce92e",
   "metadata": {
    "id": "c43ce92e"
   },
   "outputs": [
    {
     "name": "stdout",
     "output_type": "stream",
     "text": [
      "Shape: (16000, 768)\n"
     ]
    },
    {
     "data": {
      "text/html": [
       "<div>\n",
       "<style scoped>\n",
       "    .dataframe tbody tr th:only-of-type {\n",
       "        vertical-align: middle;\n",
       "    }\n",
       "\n",
       "    .dataframe tbody tr th {\n",
       "        vertical-align: top;\n",
       "    }\n",
       "\n",
       "    .dataframe thead th {\n",
       "        text-align: right;\n",
       "    }\n",
       "</style>\n",
       "<table border=\"1\" class=\"dataframe\">\n",
       "  <thead>\n",
       "    <tr style=\"text-align: right;\">\n",
       "      <th></th>\n",
       "      <th>0</th>\n",
       "      <th>1</th>\n",
       "      <th>2</th>\n",
       "      <th>3</th>\n",
       "      <th>4</th>\n",
       "      <th>5</th>\n",
       "      <th>6</th>\n",
       "      <th>7</th>\n",
       "      <th>8</th>\n",
       "      <th>9</th>\n",
       "      <th>...</th>\n",
       "      <th>758</th>\n",
       "      <th>759</th>\n",
       "      <th>760</th>\n",
       "      <th>761</th>\n",
       "      <th>762</th>\n",
       "      <th>763</th>\n",
       "      <th>764</th>\n",
       "      <th>765</th>\n",
       "      <th>766</th>\n",
       "      <th>767</th>\n",
       "    </tr>\n",
       "  </thead>\n",
       "  <tbody>\n",
       "    <tr>\n",
       "      <th>0</th>\n",
       "      <td>-0.414649</td>\n",
       "      <td>0.646612</td>\n",
       "      <td>0.525119</td>\n",
       "      <td>0.299547</td>\n",
       "      <td>0.355141</td>\n",
       "      <td>-1.096444</td>\n",
       "      <td>0.668979</td>\n",
       "      <td>-0.405251</td>\n",
       "      <td>0.272689</td>\n",
       "      <td>0.280042</td>\n",
       "      <td>...</td>\n",
       "      <td>-0.514183</td>\n",
       "      <td>-0.569816</td>\n",
       "      <td>-1.133771</td>\n",
       "      <td>-1.215530</td>\n",
       "      <td>-0.102096</td>\n",
       "      <td>-0.741071</td>\n",
       "      <td>0.615052</td>\n",
       "      <td>-0.231066</td>\n",
       "      <td>-0.363090</td>\n",
       "      <td>0.434954</td>\n",
       "    </tr>\n",
       "    <tr>\n",
       "      <th>1</th>\n",
       "      <td>-0.585347</td>\n",
       "      <td>0.611014</td>\n",
       "      <td>0.083937</td>\n",
       "      <td>-0.010009</td>\n",
       "      <td>0.084229</td>\n",
       "      <td>-1.203657</td>\n",
       "      <td>-0.675911</td>\n",
       "      <td>-0.364808</td>\n",
       "      <td>0.357000</td>\n",
       "      <td>-0.475526</td>\n",
       "      <td>...</td>\n",
       "      <td>-0.980201</td>\n",
       "      <td>-0.739966</td>\n",
       "      <td>-1.277325</td>\n",
       "      <td>-1.128996</td>\n",
       "      <td>0.210917</td>\n",
       "      <td>-0.700117</td>\n",
       "      <td>-0.013002</td>\n",
       "      <td>0.359813</td>\n",
       "      <td>0.194929</td>\n",
       "      <td>0.118562</td>\n",
       "    </tr>\n",
       "    <tr>\n",
       "      <th>2</th>\n",
       "      <td>-0.491153</td>\n",
       "      <td>0.321148</td>\n",
       "      <td>1.055571</td>\n",
       "      <td>0.525944</td>\n",
       "      <td>-0.128246</td>\n",
       "      <td>-1.179997</td>\n",
       "      <td>0.455277</td>\n",
       "      <td>-0.378289</td>\n",
       "      <td>0.745330</td>\n",
       "      <td>-0.116994</td>\n",
       "      <td>...</td>\n",
       "      <td>-0.414543</td>\n",
       "      <td>-0.473002</td>\n",
       "      <td>-1.092927</td>\n",
       "      <td>-1.670246</td>\n",
       "      <td>-0.129302</td>\n",
       "      <td>-0.941038</td>\n",
       "      <td>-0.139715</td>\n",
       "      <td>-0.394252</td>\n",
       "      <td>-0.333249</td>\n",
       "      <td>0.279534</td>\n",
       "    </tr>\n",
       "    <tr>\n",
       "      <th>3</th>\n",
       "      <td>-0.706174</td>\n",
       "      <td>0.713799</td>\n",
       "      <td>-0.287841</td>\n",
       "      <td>0.187931</td>\n",
       "      <td>0.025173</td>\n",
       "      <td>-1.383425</td>\n",
       "      <td>0.186983</td>\n",
       "      <td>0.241153</td>\n",
       "      <td>0.237699</td>\n",
       "      <td>-0.189615</td>\n",
       "      <td>...</td>\n",
       "      <td>-0.686614</td>\n",
       "      <td>-0.683201</td>\n",
       "      <td>-1.373564</td>\n",
       "      <td>-0.920556</td>\n",
       "      <td>-0.034600</td>\n",
       "      <td>-0.608570</td>\n",
       "      <td>0.054306</td>\n",
       "      <td>-0.210162</td>\n",
       "      <td>0.198317</td>\n",
       "      <td>0.389658</td>\n",
       "    </tr>\n",
       "    <tr>\n",
       "      <th>4</th>\n",
       "      <td>-0.706174</td>\n",
       "      <td>0.713799</td>\n",
       "      <td>-0.287841</td>\n",
       "      <td>0.187931</td>\n",
       "      <td>0.025173</td>\n",
       "      <td>-1.383425</td>\n",
       "      <td>0.186983</td>\n",
       "      <td>0.241153</td>\n",
       "      <td>0.237699</td>\n",
       "      <td>-0.189615</td>\n",
       "      <td>...</td>\n",
       "      <td>-0.686614</td>\n",
       "      <td>-0.683201</td>\n",
       "      <td>-1.373564</td>\n",
       "      <td>-0.920556</td>\n",
       "      <td>-0.034600</td>\n",
       "      <td>-0.608570</td>\n",
       "      <td>0.054306</td>\n",
       "      <td>-0.210162</td>\n",
       "      <td>0.198317</td>\n",
       "      <td>0.389658</td>\n",
       "    </tr>\n",
       "  </tbody>\n",
       "</table>\n",
       "<p>5 rows × 768 columns</p>\n",
       "</div>"
      ],
      "text/plain": [
       "          0         1         2         3         4         5         6  \\\n",
       "0 -0.414649  0.646612  0.525119  0.299547  0.355141 -1.096444  0.668979   \n",
       "1 -0.585347  0.611014  0.083937 -0.010009  0.084229 -1.203657 -0.675911   \n",
       "2 -0.491153  0.321148  1.055571  0.525944 -0.128246 -1.179997  0.455277   \n",
       "3 -0.706174  0.713799 -0.287841  0.187931  0.025173 -1.383425  0.186983   \n",
       "4 -0.706174  0.713799 -0.287841  0.187931  0.025173 -1.383425  0.186983   \n",
       "\n",
       "          7         8         9  ...       758       759       760       761  \\\n",
       "0 -0.405251  0.272689  0.280042  ... -0.514183 -0.569816 -1.133771 -1.215530   \n",
       "1 -0.364808  0.357000 -0.475526  ... -0.980201 -0.739966 -1.277325 -1.128996   \n",
       "2 -0.378289  0.745330 -0.116994  ... -0.414543 -0.473002 -1.092927 -1.670246   \n",
       "3  0.241153  0.237699 -0.189615  ... -0.686614 -0.683201 -1.373564 -0.920556   \n",
       "4  0.241153  0.237699 -0.189615  ... -0.686614 -0.683201 -1.373564 -0.920556   \n",
       "\n",
       "        762       763       764       765       766       767  \n",
       "0 -0.102096 -0.741071  0.615052 -0.231066 -0.363090  0.434954  \n",
       "1  0.210917 -0.700117 -0.013002  0.359813  0.194929  0.118562  \n",
       "2 -0.129302 -0.941038 -0.139715 -0.394252 -0.333249  0.279534  \n",
       "3 -0.034600 -0.608570  0.054306 -0.210162  0.198317  0.389658  \n",
       "4 -0.034600 -0.608570  0.054306 -0.210162  0.198317  0.389658  \n",
       "\n",
       "[5 rows x 768 columns]"
      ]
     },
     "execution_count": 7,
     "metadata": {},
     "output_type": "execute_result"
    }
   ],
   "source": [
    "print('Shape:', df_desc_bert.shape)\n",
    "df_desc_bert.head()"
   ]
  },
  {
   "cell_type": "markdown",
   "id": "c93d8246",
   "metadata": {
    "id": "c93d8246"
   },
   "source": [
    "***Load data related to reviews***"
   ]
  },
  {
   "cell_type": "code",
   "execution_count": 8,
   "id": "03dda1b6",
   "metadata": {
    "id": "03dda1b6"
   },
   "outputs": [],
   "source": [
    "df = pd.read_csv('df_models.csv', index_col=0)"
   ]
  },
  {
   "cell_type": "code",
   "execution_count": 9,
   "id": "48e4f4cb",
   "metadata": {
    "id": "48e4f4cb"
   },
   "outputs": [
    {
     "name": "stdout",
     "output_type": "stream",
     "text": [
      "Shape: (16000, 142)\n"
     ]
    },
    {
     "data": {
      "text/html": [
       "<div>\n",
       "<style scoped>\n",
       "    .dataframe tbody tr th:only-of-type {\n",
       "        vertical-align: middle;\n",
       "    }\n",
       "\n",
       "    .dataframe tbody tr th {\n",
       "        vertical-align: top;\n",
       "    }\n",
       "\n",
       "    .dataframe thead th {\n",
       "        text-align: right;\n",
       "    }\n",
       "</style>\n",
       "<table border=\"1\" class=\"dataframe\">\n",
       "  <thead>\n",
       "    <tr style=\"text-align: right;\">\n",
       "      <th></th>\n",
       "      <th>review_id</th>\n",
       "      <th>title</th>\n",
       "      <th>body</th>\n",
       "      <th>rating</th>\n",
       "      <th>date</th>\n",
       "      <th>voteCount</th>\n",
       "      <th>voteSum</th>\n",
       "      <th>review_date_ymd</th>\n",
       "      <th>review_year</th>\n",
       "      <th>review_month</th>\n",
       "      <th>...</th>\n",
       "      <th>orig_description</th>\n",
       "      <th>text_clean</th>\n",
       "      <th>description_clean</th>\n",
       "      <th>remove_rate</th>\n",
       "      <th>text_trans</th>\n",
       "      <th>desc_trans</th>\n",
       "      <th>text_trans_token</th>\n",
       "      <th>desc_trans_token</th>\n",
       "      <th>similarity</th>\n",
       "      <th>user_account_usage_days</th>\n",
       "    </tr>\n",
       "  </thead>\n",
       "  <tbody>\n",
       "    <tr>\n",
       "      <th>0</th>\n",
       "      <td>465664332</td>\n",
       "      <td>Simplicity is key..</td>\n",
       "      <td>Finally an app that goes back to the basics, a...</td>\n",
       "      <td>5</td>\n",
       "      <td>2011-09-26 00:11:00-05:00</td>\n",
       "      <td>0</td>\n",
       "      <td>0</td>\n",
       "      <td>2011-09-26</td>\n",
       "      <td>2011</td>\n",
       "      <td>9</td>\n",
       "      <td>...</td>\n",
       "      <td>\"\"\"In pretty much every treasure hunting adven...</td>\n",
       "      <td>simplicity is key finally an app that goes bac...</td>\n",
       "      <td>in pretty much every treasure hunting adventur...</td>\n",
       "      <td>1.6</td>\n",
       "      <td>simplicity key finally app goes back basics go...</td>\n",
       "      <td>pretty much every treasure hunting adventure m...</td>\n",
       "      <td>['simplic', 'key', 'final', 'app', 'goe', 'bac...</td>\n",
       "      <td>['pretti', 'much', 'everi', 'treasur', 'hunt',...</td>\n",
       "      <td>0.101088</td>\n",
       "      <td>0</td>\n",
       "    </tr>\n",
       "  </tbody>\n",
       "</table>\n",
       "<p>1 rows × 142 columns</p>\n",
       "</div>"
      ],
      "text/plain": [
       "   review_id                title  \\\n",
       "0  465664332  Simplicity is key..   \n",
       "\n",
       "                                                body  rating  \\\n",
       "0  Finally an app that goes back to the basics, a...       5   \n",
       "\n",
       "                        date  voteCount  voteSum review_date_ymd  review_year  \\\n",
       "0  2011-09-26 00:11:00-05:00          0        0      2011-09-26         2011   \n",
       "\n",
       "   review_month  ...                                   orig_description  \\\n",
       "0             9  ...  \"\"\"In pretty much every treasure hunting adven...   \n",
       "\n",
       "                                          text_clean  \\\n",
       "0  simplicity is key finally an app that goes bac...   \n",
       "\n",
       "                                   description_clean remove_rate  \\\n",
       "0  in pretty much every treasure hunting adventur...         1.6   \n",
       "\n",
       "                                          text_trans  \\\n",
       "0  simplicity key finally app goes back basics go...   \n",
       "\n",
       "                                          desc_trans  \\\n",
       "0  pretty much every treasure hunting adventure m...   \n",
       "\n",
       "                                    text_trans_token  \\\n",
       "0  ['simplic', 'key', 'final', 'app', 'goe', 'bac...   \n",
       "\n",
       "                                    desc_trans_token  similarity  \\\n",
       "0  ['pretti', 'much', 'everi', 'treasur', 'hunt',...    0.101088   \n",
       "\n",
       "   user_account_usage_days  \n",
       "0                        0  \n",
       "\n",
       "[1 rows x 142 columns]"
      ]
     },
     "execution_count": 9,
     "metadata": {},
     "output_type": "execute_result"
    }
   ],
   "source": [
    "print('Shape:', df.shape)\n",
    "df.head(1)"
   ]
  },
  {
   "cell_type": "markdown",
   "id": "c2484721",
   "metadata": {
    "id": "c2484721"
   },
   "source": [
    "***Select columns that will be used in ML models***"
   ]
  },
  {
   "cell_type": "markdown",
   "id": "1d470373",
   "metadata": {
    "id": "1d470373"
   },
   "source": [
    "**Note:** This [document](https://docs.google.com/document/d/17Xe9_NeUw4Xr1bXgHiDy1-zQT4eQ-BwDaPqQkAKby-4/edit?usp=sharing) shows the last version of features in dataframe. "
   ]
  },
  {
   "cell_type": "code",
   "execution_count": 10,
   "id": "7436dea3",
   "metadata": {
    "id": "7436dea3"
   },
   "outputs": [
    {
     "name": "stdout",
     "output_type": "stream",
     "text": [
      "Total number of features: 142\n"
     ]
    },
    {
     "data": {
      "text/plain": [
       "Index(['Social Networking', 'Art', 'Word', 'Adventure', 'Dice',\n",
       "       'Arts & Photography', 'Photo & Video', 'Music', 'user_label',\n",
       "       'ave_length', 'ave_rating', 'ave_price', '1_review', 'app_label',\n",
       "       'text', 'num_hashtags_text', 'num_hashtags_desc', 'num_ment_text',\n",
       "       'num_ment_desc', 'num_word_text', 'num_word_desc', 'num_s_word_text',\n",
       "       'num_s_word_desc', 'num_url_text', 'num_url_desc', 'ave_word_text',\n",
       "       'ave_word_desc', 'num_punc_text', 'num_punc_desc', 'lang_text',\n",
       "       'english', 'lang_desc', 'orig_description', 'text_clean',\n",
       "       'description_clean', 'remove_rate', 'text_trans', 'desc_trans',\n",
       "       'text_trans_token', 'desc_trans_token', 'similarity',\n",
       "       'user_account_usage_days'],\n",
       "      dtype='object')"
      ]
     },
     "execution_count": 10,
     "metadata": {},
     "output_type": "execute_result"
    }
   ],
   "source": [
    "print(f'Total number of features: {len(df.columns)}')\n",
    "# Let's see the column names\n",
    "df.columns[100:]"
   ]
  },
  {
   "cell_type": "markdown",
   "id": "f343f3b2",
   "metadata": {
    "id": "f343f3b2"
   },
   "source": [
    "**Note:** Classification algorithms excepts float or integer inputs. Therefore other types of features will be dropped or encoded. "
   ]
  },
  {
   "cell_type": "code",
   "execution_count": 11,
   "id": "69eea3a3",
   "metadata": {
    "id": "69eea3a3"
   },
   "outputs": [
    {
     "name": "stdout",
     "output_type": "stream",
     "text": [
      "There are 27 columns will not be used in ML models.\n"
     ]
    }
   ],
   "source": [
    "# Irrelevant features\n",
    "irr_columns = ['review_id', 'date', \n",
    "               'review_date_ymd', 'review_month', 'review_quarter',\n",
    "               'appId', 'username_y', 'appName','sellerName', \n",
    "               'initialReleaseData', 'currentReleaseDate',\n",
    "               'initialReleaseData_2', 'currentReleaseDate_2',\n",
    "               'diff_init_curr', \n",
    "               # Labels generated from review label\n",
    "               'user_label', 'app_label',\n",
    "               # textual data\n",
    "               'title', 'body',  'description',\n",
    "               'text', 'orig_description', 'text_clean',\n",
    "               'description_clean',\n",
    "               'text_trans', 'desc_trans',\n",
    "               'text_trans_token', 'desc_trans_token']\n",
    "print(f'There are {len(irr_columns)} columns will not be used in ML models.')"
   ]
  },
  {
   "cell_type": "code",
   "execution_count": 12,
   "id": "3ef058b0",
   "metadata": {
    "id": "3ef058b0"
   },
   "outputs": [
    {
     "data": {
      "text/plain": [
       "(16000, 115)"
      ]
     },
     "execution_count": 12,
     "metadata": {},
     "output_type": "execute_result"
    }
   ],
   "source": [
    "# Drop these irrelevant columns and create a new df\n",
    "df_models = df.drop(columns = irr_columns)\n",
    "# My new df to use in building models: DF_MODELS\n",
    "df_models.shape"
   ]
  },
  {
   "cell_type": "markdown",
   "id": "58950e6c",
   "metadata": {
    "id": "58950e6c"
   },
   "source": [
    "## Train-Test Split"
   ]
  },
  {
   "cell_type": "markdown",
   "id": "c54f44e9",
   "metadata": {
    "id": "c54f44e9"
   },
   "source": [
    "There are four dataframes that will be used in models.\n",
    "* df_text_bert : Review text vectors (Sentence to vectors with Bert)\n",
    "* df_text_glove : Review text vectors (Words to vectors with Glove)\n",
    "* df_desc_bert : App description vectors   \n",
    "(Sentence to vectors with Bert) \n",
    "* df_models    : Features related to reviews\n",
    "\n",
    "I will split these dfs with using same seed."
   ]
  },
  {
   "cell_type": "markdown",
   "id": "93e85e3f",
   "metadata": {
    "id": "93e85e3f"
   },
   "source": [
    "***Data***"
   ]
  },
  {
   "cell_type": "code",
   "execution_count": 13,
   "id": "3b839bd6",
   "metadata": {
    "id": "3b839bd6"
   },
   "outputs": [
    {
     "name": "stdout",
     "output_type": "stream",
     "text": [
      "Int64Index([9326, 14631, 11303, 3392, 11042], dtype='int64')\n",
      "Int64Index([9326, 14631, 11303, 3392, 11042], dtype='int64')\n",
      "Int64Index([9326, 14631, 11303, 3392, 11042], dtype='int64')\n",
      "Int64Index([9326, 14631, 11303, 3392, 11042], dtype='int64')\n"
     ]
    }
   ],
   "source": [
    "# Define X as model input data and y as review labels.\n",
    "\n",
    "y = df_models['label'] # Target\n",
    "\n",
    "# df_models\n",
    "X = df_models # Keep review label for target encoding. Drop after. \n",
    "X_train, X_test, y_train, y_test = train_test_split(X, y,test_size=0.20,random_state=53)\n",
    "print(X_train.head().index)\n",
    "\n",
    "# df_text_bert -- reviews -- \n",
    "X = df_text_bert\n",
    "Xr_train, Xr_test, y_train, y_test = train_test_split(X, y,test_size=0.20,random_state=53)\n",
    "print(Xr_train.head().index)\n",
    "\n",
    "# df_text_bert -- reviews -- \n",
    "X = df_text_glove\n",
    "Xg_train, Xg_test, y_train, y_test = train_test_split(X, y,test_size=0.20,random_state=53)\n",
    "print(Xg_train.head().index)\n",
    "\n",
    "# df_desc_bert --descriptions -- \n",
    "X = df_desc_bert \n",
    "Xd_train, Xd_test, y_train, y_test = train_test_split(X, y,test_size=0.20,random_state=53)\n",
    "print(Xd_train.head().index)\n",
    "\n",
    "# To see all splits are in same index look at X_train.head()"
   ]
  },
  {
   "cell_type": "code",
   "execution_count": 14,
   "id": "6efdc4a9",
   "metadata": {
    "id": "6efdc4a9"
   },
   "outputs": [
    {
     "name": "stdout",
     "output_type": "stream",
     "text": [
      "X_train: (12800, 115)\n",
      "X_test: (3200, 115)\n",
      "y_train: (12800,)\n",
      "y_test: (3200,)\n"
     ]
    }
   ],
   "source": [
    "# Check the shapes\n",
    "print('X_train:', X_train.shape)\n",
    "print('X_test:', X_test.shape)\n",
    "print('y_train:', y_train.shape)\n",
    "print('y_test:', y_test.shape)"
   ]
  },
  {
   "cell_type": "markdown",
   "id": "72a2cfc4",
   "metadata": {
    "id": "72a2cfc4"
   },
   "source": [
    "## Encoding"
   ]
  },
  {
   "cell_type": "markdown",
   "id": "7b54bc73",
   "metadata": {
    "id": "7b54bc73"
   },
   "source": [
    "There are some categorical variables which are needed to be encoded. Get_dummies and target encoding will be used."
   ]
  },
  {
   "cell_type": "markdown",
   "id": "e2e412e9",
   "metadata": {
    "id": "e2e412e9"
   },
   "source": [
    "***Get dummies for categorical data***"
   ]
  },
  {
   "cell_type": "code",
   "execution_count": 15,
   "id": "268ad565",
   "metadata": {
    "id": "268ad565"
   },
   "outputs": [],
   "source": [
    "# Rating feature is a discrete variable. \n",
    "\n",
    "# Get dummies for 'rating column' - TRAIN \n",
    "rating_dummies = pd.get_dummies(X_train['rating'], prefix='rating')\n",
    "X_train = pd.concat([X_train, rating_dummies], axis=1)\n",
    "\n",
    "# Get dummies for 'rating column' - TEST\n",
    "rating_dummies = pd.get_dummies(X_test['rating'], prefix='rating')\n",
    "X_test = pd.concat([X_test, rating_dummies], axis=1)\n",
    "\n",
    "# Drop orijinal rating column\n",
    "X_train.drop(columns='rating', inplace=True)\n",
    "X_test.drop(columns='rating', inplace=True)"
   ]
  },
  {
   "cell_type": "code",
   "execution_count": 16,
   "id": "670181a2",
   "metadata": {
    "id": "670181a2"
   },
   "outputs": [
    {
     "data": {
      "text/plain": [
       "(12800, 119)"
      ]
     },
     "execution_count": 16,
     "metadata": {},
     "output_type": "execute_result"
    }
   ],
   "source": [
    "# Check\n",
    "X_train.shape\n",
    "# 5 added and 1 dropped"
   ]
  },
  {
   "cell_type": "markdown",
   "id": "0a71124e",
   "metadata": {
    "id": "0a71124e"
   },
   "source": [
    "***Target encoding for discrete features***"
   ]
  },
  {
   "cell_type": "markdown",
   "id": "92ea554b",
   "metadata": {
    "id": "92ea554b"
   },
   "source": [
    "**Note:** The following columns are categorical. They are needed to encode.\n",
    "\n",
    "* review_year\n",
    "* version_major\n",
    "* primaryGenre\n",
    "* lang_text\n",
    "* lang_desc\n",
    "* trackContentRating\n",
    "* minimumOsVersion"
   ]
  },
  {
   "cell_type": "code",
   "execution_count": 17,
   "id": "0573b5bb",
   "metadata": {
    "id": "0573b5bb"
   },
   "outputs": [],
   "source": [
    "# Define target encoder\n",
    "encoder = TargetEncoder()"
   ]
  },
  {
   "cell_type": "code",
   "execution_count": 18,
   "id": "ac772fd9",
   "metadata": {
    "id": "ac772fd9"
   },
   "outputs": [],
   "source": [
    "columns_need_encoding = ['trackContentRating', 'minimumOsVersion','review_year'\n",
    "                      , 'version_major','lang_text','lang_desc', 'primaryGenre']\n",
    "# create a loop for taget encoding\n",
    "for col in columns_need_encoding:\n",
    "    X_train[col] = X_train[col].astype('category') # convert to category\n",
    "    X_train[col] = encoder.fit_transform(X_train[col], X_train['label']) # encode\n",
    "    X_test[col] = X_test[col].astype('category') # convert to category\n",
    "    X_test[col] = encoder.fit_transform(X_test[col], X_test['label']) # encode"
   ]
  },
  {
   "cell_type": "code",
   "execution_count": 19,
   "id": "49587b70",
   "metadata": {
    "id": "49587b70"
   },
   "outputs": [
    {
     "data": {
      "text/html": [
       "<div>\n",
       "<style scoped>\n",
       "    .dataframe tbody tr th:only-of-type {\n",
       "        vertical-align: middle;\n",
       "    }\n",
       "\n",
       "    .dataframe tbody tr th {\n",
       "        vertical-align: top;\n",
       "    }\n",
       "\n",
       "    .dataframe thead th {\n",
       "        text-align: right;\n",
       "    }\n",
       "</style>\n",
       "<table border=\"1\" class=\"dataframe\">\n",
       "  <thead>\n",
       "    <tr style=\"text-align: right;\">\n",
       "      <th></th>\n",
       "      <th>trackContentRating</th>\n",
       "      <th>minimumOsVersion</th>\n",
       "      <th>review_year</th>\n",
       "      <th>version_major</th>\n",
       "      <th>lang_text</th>\n",
       "      <th>lang_desc</th>\n",
       "      <th>primaryGenre</th>\n",
       "    </tr>\n",
       "  </thead>\n",
       "  <tbody>\n",
       "    <tr>\n",
       "      <th>9326</th>\n",
       "      <td>0.536907</td>\n",
       "      <td>0.494949</td>\n",
       "      <td>0.700444</td>\n",
       "      <td>0.660744</td>\n",
       "      <td>0.529236</td>\n",
       "      <td>0.502019</td>\n",
       "      <td>0.557032</td>\n",
       "    </tr>\n",
       "    <tr>\n",
       "      <th>14631</th>\n",
       "      <td>0.400579</td>\n",
       "      <td>0.240793</td>\n",
       "      <td>0.002766</td>\n",
       "      <td>0.123967</td>\n",
       "      <td>0.529236</td>\n",
       "      <td>0.502019</td>\n",
       "      <td>0.545272</td>\n",
       "    </tr>\n",
       "    <tr>\n",
       "      <th>11303</th>\n",
       "      <td>0.536907</td>\n",
       "      <td>0.477576</td>\n",
       "      <td>0.742850</td>\n",
       "      <td>0.660744</td>\n",
       "      <td>0.529236</td>\n",
       "      <td>0.502019</td>\n",
       "      <td>0.393241</td>\n",
       "    </tr>\n",
       "    <tr>\n",
       "      <th>3392</th>\n",
       "      <td>0.536907</td>\n",
       "      <td>0.477576</td>\n",
       "      <td>0.742850</td>\n",
       "      <td>0.660744</td>\n",
       "      <td>0.529236</td>\n",
       "      <td>0.502019</td>\n",
       "      <td>0.338710</td>\n",
       "    </tr>\n",
       "    <tr>\n",
       "      <th>11042</th>\n",
       "      <td>0.536907</td>\n",
       "      <td>0.431429</td>\n",
       "      <td>0.742850</td>\n",
       "      <td>0.660744</td>\n",
       "      <td>0.529236</td>\n",
       "      <td>0.502019</td>\n",
       "      <td>0.497160</td>\n",
       "    </tr>\n",
       "  </tbody>\n",
       "</table>\n",
       "</div>"
      ],
      "text/plain": [
       "       trackContentRating  minimumOsVersion  review_year  version_major  \\\n",
       "9326             0.536907          0.494949     0.700444       0.660744   \n",
       "14631            0.400579          0.240793     0.002766       0.123967   \n",
       "11303            0.536907          0.477576     0.742850       0.660744   \n",
       "3392             0.536907          0.477576     0.742850       0.660744   \n",
       "11042            0.536907          0.431429     0.742850       0.660744   \n",
       "\n",
       "       lang_text  lang_desc  primaryGenre  \n",
       "9326    0.529236   0.502019      0.557032  \n",
       "14631   0.529236   0.502019      0.545272  \n",
       "11303   0.529236   0.502019      0.393241  \n",
       "3392    0.529236   0.502019      0.338710  \n",
       "11042   0.529236   0.502019      0.497160  "
      ]
     },
     "execution_count": 19,
     "metadata": {},
     "output_type": "execute_result"
    }
   ],
   "source": [
    "# Let's see \n",
    "X_train[columns_need_encoding].head()"
   ]
  },
  {
   "cell_type": "code",
   "execution_count": 20,
   "id": "7fc2341e",
   "metadata": {
    "id": "7fc2341e"
   },
   "outputs": [],
   "source": [
    "# Drop label column -target- from X_train and X_test\n",
    "X_train.drop(columns='label', inplace = True)\n",
    "X_test.drop(columns='label', inplace = True)"
   ]
  },
  {
   "cell_type": "markdown",
   "id": "1098d708",
   "metadata": {
    "id": "1098d708"
   },
   "source": [
    "## Impute NaNs"
   ]
  },
  {
   "cell_type": "markdown",
   "id": "aa08a23d",
   "metadata": {
    "id": "aa08a23d"
   },
   "source": [
    "As mentioned in the EDA notebook, some NaNs exist in application-related features. The maximum number of NANs in a feature is 149 which is less than 1% of all data. Not all classification algorithms accept NaN therefore I have to impute them. Impute with mean or most frequent will be used."
   ]
  },
  {
   "cell_type": "code",
   "execution_count": 21,
   "id": "e52075fc",
   "metadata": {
    "id": "e52075fc"
   },
   "outputs": [
    {
     "data": {
      "text/plain": [
       "149"
      ]
     },
     "execution_count": 21,
     "metadata": {},
     "output_type": "execute_result"
    }
   ],
   "source": [
    "# Max number of NaNs in a feature\n",
    "max(df.isna().sum())"
   ]
  },
  {
   "cell_type": "markdown",
   "id": "936679dc",
   "metadata": {
    "id": "936679dc"
   },
   "source": [
    "**Note:** In raw data, besides the primary genre feature, there was a feature that shows all genres related to applications. In the data wrangling notebook, new columns were generated for all genres. There are 148 NaNs in these columns. These NaNs are imputed with 0 because there is no information about app genres."
   ]
  },
  {
   "cell_type": "code",
   "execution_count": 22,
   "id": "v-6rdXXIh968",
   "metadata": {
    "id": "v-6rdXXIh968"
   },
   "outputs": [],
   "source": [
    "# Keep the copy of X_train and X_test with NaNs. XGBoost algorithm accepts the nulls. \n",
    "X_train_with_nan = X_train.copy()\n",
    "X_test_with_nan = X_test.copy()"
   ]
  },
  {
   "cell_type": "code",
   "execution_count": 23,
   "id": "6bdae31a",
   "metadata": {
    "id": "6bdae31a"
   },
   "outputs": [],
   "source": [
    "X_train.iloc[:, 32:89] = X_train.iloc[:, 32:89].replace(np.nan, 0)\n",
    "X_test.iloc[:, 32:89] = X_test.iloc[:, 32:89].replace(np.nan, 0)"
   ]
  },
  {
   "cell_type": "code",
   "execution_count": 24,
   "id": "fd90a8c9",
   "metadata": {
    "id": "fd90a8c9"
   },
   "outputs": [
    {
     "data": {
      "text/plain": [
       "0"
      ]
     },
     "execution_count": 24,
     "metadata": {},
     "output_type": "execute_result"
    }
   ],
   "source": [
    "# Check whether any NaNs\n",
    "X_test.iloc[:, 32:89].isna().sum().sum()"
   ]
  },
  {
   "cell_type": "markdown",
   "id": "c6189cc7",
   "metadata": {
    "id": "c6189cc7"
   },
   "source": [
    "***Impute by mean***"
   ]
  },
  {
   "cell_type": "code",
   "execution_count": 25,
   "id": "1737d783",
   "metadata": {
    "id": "1737d783"
   },
   "outputs": [],
   "source": [
    "# Price\n",
    "X_train['price'].fillna(X_train['price'].mean(), inplace=True)\n",
    "X_test['price'].fillna(X_test['price'].mean(), inplace=True)\n",
    "# Number of Language\n",
    "X_train['number_lang'].fillna(round(X_train['number_lang'].mean(), 0), inplace=True)\n",
    "X_test['number_lang'].fillna(round(X_test['number_lang'].mean(), 0), inplace=True)\n",
    "# numberOfDevices \n",
    "X_train['numberOfDevices'].fillna(round(X_train['numberOfDevices'].mean(), 0), inplace=True)\n",
    "X_test['numberOfDevices'].fillna(round(X_test['numberOfDevices'].mean(), 0), inplace=True)\n",
    "# diff_init_curr_2\n",
    "X_train['diff_init_curr_2'].fillna(round(X_train['diff_init_curr_2'].mean(), 0), inplace=True)\n",
    "X_test['diff_init_curr_2'].fillna(round(X_test['diff_init_curr_2'].mean(), 0), inplace=True)\n",
    "# ave_price of a user\n",
    "X_train['ave_price'].fillna(X_train['ave_price'].mean(), inplace=True)\n",
    "X_test['ave_price'].fillna(X_test['ave_price'].mean(), inplace=True)\n",
    "# allRatingCount\n",
    "X_train['allRatingCount'].fillna(round(X_train['allRatingCount'].mean(), 0), inplace=True)\n",
    "X_test['allRatingCount'].fillna(round(X_test['allRatingCount'].mean(),0), inplace=True)\n",
    "# currentRatingCount\n",
    "X_train['currentRatingCount'].fillna(round(X_train['currentRatingCount'].mean(),0), inplace=True)\n",
    "X_test['currentRatingCount'].fillna(round(X_test['currentRatingCount'].mean(),0), inplace=True)"
   ]
  },
  {
   "cell_type": "markdown",
   "id": "91e748a5",
   "metadata": {
    "id": "91e748a5"
   },
   "source": [
    "***Impute with most frequent value***"
   ]
  },
  {
   "cell_type": "code",
   "execution_count": 26,
   "id": "f8d05a29",
   "metadata": {
    "id": "f8d05a29"
   },
   "outputs": [],
   "source": [
    "# allRatingAverage\n",
    "X_train['allRatingAverge'].fillna(int(X_train['allRatingAverge'].mode()), inplace=True)\n",
    "X_test['allRatingAverge'].fillna(int(X_test['allRatingAverge'].mode()), inplace=True)\n",
    "# curentRatingAverage\n",
    "X_train['curentRatingAverage'].fillna(int(X_train['curentRatingAverage'].mode()), inplace=True)\n",
    "X_test['curentRatingAverage'].fillna(int(X_test['curentRatingAverage'].mode()), inplace=True)\n",
    "# vppDeviceBasedLicensingEnabled\n",
    "X_train['vppDeviceBasedLicensingEnabled'].fillna(int(X_train['vppDeviceBasedLicensingEnabled'].mode()), inplace=True)\n",
    "X_test['vppDeviceBasedLicensingEnabled'].fillna(int(X_test['vppDeviceBasedLicensingEnabled'].mode()), inplace=True)\n",
    "# paid\n",
    "X_train['paid'].fillna(int(X_train['paid'].mode()), inplace=True)\n",
    "X_test['paid'].fillna(int(X_test['paid'].mode()), inplace=True)"
   ]
  },
  {
   "cell_type": "code",
   "execution_count": 27,
   "id": "666837f8",
   "metadata": {
    "id": "666837f8"
   },
   "outputs": [
    {
     "name": "stdout",
     "output_type": "stream",
     "text": [
      "0\n",
      "0\n"
     ]
    }
   ],
   "source": [
    "print(X_train.isna().sum().sum())\n",
    "print(X_test.isna().sum().sum())"
   ]
  },
  {
   "cell_type": "markdown",
   "id": "f9840495",
   "metadata": {
    "id": "f9840495"
   },
   "source": [
    "## Classification Models "
   ]
  },
  {
   "cell_type": "markdown",
   "id": "jh_ifn4g3EdL",
   "metadata": {
    "id": "jh_ifn4g3EdL"
   },
   "source": [
    "As mentioned before, we have four different data.\n",
    "\n",
    "*   Review text\n",
    "  * Bert \n",
    "  * Glove\n",
    "*   Description text\n",
    "*   All features (reviews, users, apps)\n",
    "\n",
    "We will build models with three different inputs: \n",
    "1.   **Merge three dataframes:** Review text (Bert) + Description text (Bert) + All features \n",
    "2.   **Review text - Bert** \n",
    "3.   **Review text - Glove** \n",
    "\n",
    "This is because we may not always have other features related to users, apps. We want to see the model results with just review text. In this part, we use various classification algorithms with default parameters. "
   ]
  },
  {
   "cell_type": "markdown",
   "id": "e8d9e0f8",
   "metadata": {
    "id": "e8d9e0f8"
   },
   "source": [
    "***Merge these three X_trains & X_tests to use in models***\n",
    "\n",
    "**Trains**: X_train, Xr_train and Xd_train \n",
    "\n",
    "**Tests:** X_test, Xr_test and Xd_test"
   ]
  },
  {
   "cell_type": "code",
   "execution_count": 28,
   "id": "428c27c5",
   "metadata": {
    "id": "428c27c5"
   },
   "outputs": [],
   "source": [
    "X_train = pd.concat([X_train, Xr_train, Xd_train], axis=1) # !!! Use Bert vectors\n",
    "X_test = pd.concat([X_test, Xr_test, Xd_test], axis=1) # !!! Use Bert vectors"
   ]
  },
  {
   "cell_type": "code",
   "execution_count": 29,
   "id": "d32f7dfc",
   "metadata": {
    "id": "d32f7dfc"
   },
   "outputs": [
    {
     "name": "stdout",
     "output_type": "stream",
     "text": [
      "X_train: (12800, 1654)\n",
      "X_test: (3200, 1654)\n",
      "y_train: (12800,)\n",
      "y_test: (3200,)\n"
     ]
    }
   ],
   "source": [
    "# Check the shapes of all features\n",
    "print('X_train:', X_train.shape)\n",
    "print('X_test:', X_test.shape)\n",
    "print('y_train:', y_train.shape)\n",
    "print('y_test:', y_test.shape)"
   ]
  },
  {
   "cell_type": "code",
   "execution_count": 30,
   "id": "u4hoNwGfZIQD",
   "metadata": {
    "id": "u4hoNwGfZIQD"
   },
   "outputs": [
    {
     "name": "stdout",
     "output_type": "stream",
     "text": [
      "X_train: (12800, 768)\n",
      "X_test: (3200, 768)\n",
      "y_train: (12800,)\n",
      "y_test: (3200,)\n"
     ]
    }
   ],
   "source": [
    "# Check the shapes of review text \n",
    "print('X_train:', Xr_train.shape)\n",
    "print('X_test:', Xr_test.shape)\n",
    "print('y_train:', y_train.shape)\n",
    "print('y_test:', y_test.shape)"
   ]
  },
  {
   "cell_type": "markdown",
   "id": "2D7C3b0wWTw-",
   "metadata": {
    "id": "2D7C3b0wWTw-"
   },
   "source": [
    "**Note:** All model evaluation metrics will append the ***results*** dataframe. After finding top 3 best model, we tune the hypermeters."
   ]
  },
  {
   "cell_type": "code",
   "execution_count": 31,
   "id": "7YNwz5Y6tHwb",
   "metadata": {
    "id": "7YNwz5Y6tHwb"
   },
   "outputs": [],
   "source": [
    "#initialize a results DataFrame to hold measures for comparison between models\n",
    "results = pd.DataFrame(columns=['Model', 'Input', 'AUC', 'Accuracy','F1','Precision','Recall','Training Time (s)', 'Prediction Time (s)'])"
   ]
  },
  {
   "cell_type": "markdown",
   "id": "e89f44f2",
   "metadata": {
    "id": "e89f44f2"
   },
   "source": [
    "### Logistic Regression"
   ]
  },
  {
   "cell_type": "code",
   "execution_count": 32,
   "id": "b8870076",
   "metadata": {
    "id": "b8870076"
   },
   "outputs": [],
   "source": [
    "#instantiate logistic regression\n",
    "model_lr = LogisticRegression(random_state=42)\n",
    "# Loop for two different inputs\n",
    "for train, test, name in [[X_train, X_test, 'all_features'], [Xr_train, Xr_test, 'review_Bert'], [Xg_train, Xg_test, 'review_Glove']]:\n",
    "  # Start time again in each loop\n",
    "  start_time = time.time() \n",
    "  # Build a logistic regression model\n",
    "  model_lr.fit(train, y_train)\n",
    "  train_time = time.time()-start_time\n",
    "  # Call predict\n",
    "  y_pred = model_lr.predict(test)\n",
    "  predict_time = time.time()-start_time\n",
    "\n",
    "  # Append metrics to dataframe\n",
    "  results.loc[len(results.index)] = ['Logistic Regression', name, \n",
    "                                    metrics.roc_auc_score(y_test, y_pred),\n",
    "                                    accuracy_score(y_test,y_pred),\n",
    "                                    f1_score(y_test,y_pred, average='macro'),\n",
    "                                    precision_score(y_test,y_pred, average='macro'),\n",
    "                                    recall_score(y_test,y_pred, average='macro'),\n",
    "                                    np.round(train_time,2), np.round(predict_time,2)]  "
   ]
  },
  {
   "cell_type": "markdown",
   "id": "c1dac934",
   "metadata": {
    "id": "c1dac934"
   },
   "source": [
    "### Naive Bayes"
   ]
  },
  {
   "cell_type": "code",
   "execution_count": 33,
   "id": "9dbed1c0",
   "metadata": {
    "id": "9dbed1c0"
   },
   "outputs": [],
   "source": [
    "# instantiate\n",
    "model_nb = GaussianNB()\n",
    "# Loop for two different inputs\n",
    "for train, test, name in [[X_train, X_test, 'all_features'], [Xr_train, Xr_test, 'review_Bert'],[Xg_train, Xg_test, 'review_Glove']]:\n",
    "  # Start time again in each loop\n",
    "  start_time = time.time()\n",
    "  model_nb.fit(train, y_train)\n",
    "  train_time = time.time()-start_time\n",
    "  y_pred = model_nb.predict(test)\n",
    "  predict_time = time.time()-start_time\n",
    "\n",
    "  # Append to results dataframa\n",
    "  results.loc[len(results.index)] = ['Naive Bayes',  name,\n",
    "                                    metrics.roc_auc_score(y_test, y_pred),\n",
    "                                    accuracy_score(y_test,y_pred),\n",
    "                                    f1_score(y_test,y_pred, average='macro'),\n",
    "                                    precision_score(y_test,y_pred, average='macro'),\n",
    "                                    recall_score(y_test,y_pred, average='macro'),\n",
    "                                    np.round(train_time,2), np.round(predict_time,2)]  "
   ]
  },
  {
   "cell_type": "markdown",
   "id": "8edaa0f6",
   "metadata": {
    "id": "8edaa0f6"
   },
   "source": [
    "### Multinomial Naive Bayes"
   ]
  },
  {
   "cell_type": "markdown",
   "id": "3bcbfbe2",
   "metadata": {
    "id": "3bcbfbe2"
   },
   "source": [
    "**Note:** Multinomial NB doesn't take negative values therefore we need to scale before sending data to the model."
   ]
  },
  {
   "cell_type": "code",
   "execution_count": 34,
   "id": "b3d8e925",
   "metadata": {
    "id": "b3d8e925"
   },
   "outputs": [],
   "source": [
    "model_mnb = MultinomialNB()\n",
    "# Loop for two different inputs\n",
    "for train, test, name in [[X_train, X_test, 'all_features'], [Xr_train, Xr_test, 'review_Bert'], [Xg_train, Xg_test, 'review_Glove']]:\n",
    "  # Scale data\n",
    "  scaler = MinMaxScaler()\n",
    "  X_train_scaled = scaler.fit_transform(train)\n",
    "  X_test_scaled = scaler.transform(test)\n",
    "\n",
    "  # Start time again in each loop\n",
    "  start_time = time.time()\n",
    "  # Fit the model\n",
    "  model_mnb.fit(X_train_scaled, y_train)\n",
    "  train_time = time.time()-start_time\n",
    "  # predict\n",
    "  y_pred = model_mnb.predict(X_test_scaled)\n",
    "  predict_time = time.time() - start_time\n",
    "\n",
    "  # Append to results dataframa\n",
    "  results.loc[len(results.index)] = ['Multinomial Naive Bayes', name,\n",
    "                                    metrics.roc_auc_score(y_test, y_pred),\n",
    "                                    accuracy_score(y_test,y_pred),\n",
    "                                    f1_score(y_test,y_pred, average='macro'),\n",
    "                                    precision_score(y_test,y_pred, average='macro'),\n",
    "                                    recall_score(y_test,y_pred, average='macro'),\n",
    "                                    np.round(train_time,2), np.round(predict_time,2)]  "
   ]
  },
  {
   "cell_type": "markdown",
   "id": "93e5aad8",
   "metadata": {
    "id": "93e5aad8"
   },
   "source": [
    "### Random Forest"
   ]
  },
  {
   "cell_type": "code",
   "execution_count": 35,
   "id": "34a3ba04",
   "metadata": {
    "id": "34a3ba04"
   },
   "outputs": [],
   "source": [
    "#instantiate a RandomForestClassifier\n",
    "model_rf = RandomForestClassifier(random_state=1)\n",
    "# Loop for two different inputs\n",
    "for train, test, name in [[Xr_train, Xr_test, 'review_Bert'], [Xg_train, Xg_test, 'review_Glove'], [X_train, X_test, 'all_features']]:\n",
    "  # Start time again in each loop\n",
    "  start_time=time.time() \n",
    "  # Build the model\n",
    "  model_rf.fit(train, y_train)\n",
    "  train_time = time.time()-start_time\n",
    "  # Predict\n",
    "  y_pred = model_rf.predict(test)\n",
    "  predict_time = time.time() - start_time\n",
    "\n",
    "  # Append to results dataframa\n",
    "  results.loc[len(results.index)] = ['Random Forest', name,\n",
    "                                    metrics.roc_auc_score(y_test, y_pred),\n",
    "                                    accuracy_score(y_test,y_pred),\n",
    "                                    f1_score(y_test,y_pred, average='macro'),\n",
    "                                    precision_score(y_test,y_pred, average='macro'),\n",
    "                                    recall_score(y_test,y_pred, average='macro'),\n",
    "                                    np.round(train_time,2), np.round(predict_time,2)] "
   ]
  },
  {
   "cell_type": "markdown",
   "id": "6MmUj3BGHW8f",
   "metadata": {
    "id": "6MmUj3BGHW8f"
   },
   "source": [
    "**Note:** Let's see the Gini importances of features."
   ]
  },
  {
   "cell_type": "code",
   "execution_count": 36,
   "id": "IY3cRussGrnU",
   "metadata": {
    "id": "IY3cRussGrnU"
   },
   "outputs": [],
   "source": [
    "features = {} # a dict to hold feature_name: feature_importance\n",
    "\n",
    "for feature, importance in zip(X_train.columns, model_rf.feature_importances_):\n",
    "    features[feature] = importance #add the name/value pair \n",
    "\n",
    "# Use a df for feature importances\n",
    "importances = pd.DataFrame.from_dict(features, orient='index').rename(columns={0: 'Gini-importance'})\n",
    "# Top 30 feature importance\n",
    "df_imp = importances.sort_values(by = 'Gini-importance', ascending=False).head(30)"
   ]
  },
  {
   "cell_type": "code",
   "execution_count": 68,
   "id": "KQEACv77HuHA",
   "metadata": {
    "id": "KQEACv77HuHA"
   },
   "outputs": [
    {
     "data": {
      "image/png": "[encoded data removed]",
      "text/plain": [
       "<Figure size 1440x864 with 1 Axes>"
      ]
     },
     "metadata": {
      "needs_background": "light"
     },
     "output_type": "display_data"
    }
   ],
   "source": [
    "plt.figure(figsize=(20,12))\n",
    "plt.barh(df_imp.iloc[::-1].index, df_imp.iloc[::-1]['Gini-importance'], color='teal') # Upside down wirh iloc[::-1]\n",
    "plt.tick_params(labelsize=18)\n",
    "plt.xlabel(\"Random Forest with All Features - Feature Importance Plot - \")\n",
    "plt.box(False)\n",
    "plt.show()"
   ]
  },
  {
   "cell_type": "markdown",
   "id": "b08cb0e3",
   "metadata": {
    "id": "b08cb0e3"
   },
   "source": [
    "### Gradient Boosting"
   ]
  },
  {
   "cell_type": "code",
   "execution_count": 38,
   "id": "9c1dcfd1",
   "metadata": {
    "id": "9c1dcfd1"
   },
   "outputs": [],
   "source": [
    "model_gbc = GradientBoostingClassifier(random_state=42)\n",
    "# Loop for two different inputs\n",
    "for train, test, name in [[X_train, X_test, 'all_features'], [Xr_train, Xr_test, 'review_Bert'], [Xg_train, Xg_test, 'review_Glove']]:\n",
    "  # Start time again in each loop\n",
    "  start_time = time.time()\n",
    "  # Fit the model\n",
    "  model_gbc.fit(train, y_train)\n",
    "  train_time = time.time()-start_time\n",
    "  # Predict on test data\n",
    "  y_pred = model_gbc.predict(test)\n",
    "  predict_time = time.time() - start_time\n",
    "\n",
    "  # Append to results dataframa\n",
    "  results.loc[len(results.index)] = ['Gradient Boosting', name,\n",
    "                                    metrics.roc_auc_score(y_test, y_pred),\n",
    "                                    accuracy_score(y_test,y_pred),\n",
    "                                    f1_score(y_test,y_pred, average='macro'),\n",
    "                                    precision_score(y_test,y_pred, average='macro'),\n",
    "                                    recall_score(y_test,y_pred, average='macro'),\n",
    "                                    np.round(train_time,2), np.round(predict_time,2)] \n"
   ]
  },
  {
   "cell_type": "markdown",
   "id": "924a87b8",
   "metadata": {
    "id": "924a87b8"
   },
   "source": [
    "### Decision Tree"
   ]
  },
  {
   "cell_type": "code",
   "execution_count": 39,
   "id": "1a815c61",
   "metadata": {
    "id": "1a815c61"
   },
   "outputs": [],
   "source": [
    "# Instantiate a tree.DecisionTreeClassifier. \n",
    "model_dt = DecisionTreeClassifier()\n",
    "# Loop for two different inputs\n",
    "for train, test, name in [[X_train, X_test, 'all_features'], [Xr_train, Xr_test, 'review_text'],[Xg_train, Xg_test, 'review_Glove']]:\n",
    "  # Start time again in each loop\n",
    "  start_time = time.time()\n",
    "  # Call fit() on model\n",
    "  model_dt.fit(train, y_train)\n",
    "  train_time = time.time()-start_time\n",
    "  # Call predict() on model with X_test passed to it, and assign the result to a variable y_pred \n",
    "  y_pred = model_dt.predict(test)\n",
    "  predict_time = time.time()-start_time\n",
    "\n",
    "  # Append to results dataframa\n",
    "  results.loc[len(results.index)] = ['Decision Tree', name,\n",
    "                                    metrics.roc_auc_score(y_test, y_pred),\n",
    "                                    accuracy_score(y_test,y_pred),\n",
    "                                    f1_score(y_test,y_pred, average='macro'),\n",
    "                                    precision_score(y_test,y_pred, average='macro'),\n",
    "                                    recall_score(y_test,y_pred, average='macro'),\n",
    "                                    np.round(train_time,2), np.round(predict_time,2)] "
   ]
  },
  {
   "cell_type": "markdown",
   "id": "7091c9a5",
   "metadata": {
    "id": "7091c9a5"
   },
   "source": [
    "### AdaBoost Classifier"
   ]
  },
  {
   "cell_type": "code",
   "execution_count": 40,
   "id": "7a91f1b1",
   "metadata": {
    "id": "7a91f1b1"
   },
   "outputs": [],
   "source": [
    "#instantiate an AdaBoostClassifier\n",
    "ada = AdaBoostClassifier(random_state=22)\n",
    "# Loop for two different inputs\n",
    "for train, test, name in [[X_train, X_test, 'all_features'], [Xr_train, Xr_test, 'review_Bert'],[Xg_train, Xg_test, 'review_Glove']]:\n",
    "  # Start time again in each loop\n",
    "  start_time = time.time()\n",
    "  # Call fit() on model\n",
    "  model_ada = ada.fit(train, y_train)\n",
    "  train_time = time.time()-start_time\n",
    "  y_pred = model_ada.predict(test)\n",
    "  predict_time = time.time() - start_time\n",
    "\n",
    "  # Append to results dataframa\n",
    "  results.loc[len(results.index)] = ['AdaBoost Classifier', name,\n",
    "                                    metrics.roc_auc_score(y_test, y_pred),\n",
    "                                    accuracy_score(y_test,y_pred),\n",
    "                                    f1_score(y_test,y_pred, average='macro'),\n",
    "                                    precision_score(y_test,y_pred, average='macro'),\n",
    "                                    recall_score(y_test,y_pred, average='macro'),\n",
    "                                    np.round(train_time,2), np.round(predict_time,2)] "
   ]
  },
  {
   "cell_type": "markdown",
   "id": "8ce90651",
   "metadata": {
    "id": "8ce90651"
   },
   "source": [
    "### **XGBoost classifier**\n"
   ]
  },
  {
   "cell_type": "markdown",
   "id": "9a315062",
   "metadata": {
    "id": "9a315062"
   },
   "source": [
    "**Note:** There are some requirements for XGBoost to achieve top performance. Mainly:\n",
    "\n",
    "* Numeric features should be scaled.\n",
    "* Categorical features should be encoded.\n",
    "\n",
    "Also, XGBoost supports missing values by default. In tree algorithms, branch directions for missing values are learned during training. Note that the gblinear booster treats missing values as zeros [[source]](https://xgboost.readthedocs.io/en/stable/faq.html). Therefore, we will use the all features data with NaNs."
   ]
  },
  {
   "cell_type": "code",
   "execution_count": 41,
   "id": "0NjwiFEfb7yO",
   "metadata": {
    "id": "0NjwiFEfb7yO"
   },
   "outputs": [],
   "source": [
    "X_train_2 = pd.concat([X_train_with_nan, Xr_train, Xd_train], axis=1)\n",
    "X_test_2 = pd.concat([X_test_with_nan, Xr_test, Xd_test], axis=1)"
   ]
  },
  {
   "cell_type": "code",
   "execution_count": 42,
   "id": "50302da9",
   "metadata": {
    "id": "50302da9"
   },
   "outputs": [],
   "source": [
    "model_xgb = xgb.XGBClassifier(seed=0)\n",
    "\n",
    "# Loop for two different inputs\n",
    "for train, test, name in [[X_train_2, X_test_2, 'all_features'], [Xr_train, Xr_test, 'review_Bert'],[Xg_train, Xg_test, 'review_Glove']]:\n",
    "  # scale\n",
    "  scaler = StandardScaler()\n",
    "  train_scaled = scaler.fit_transform(train)\n",
    "  test_scaled = scaler.transform(test)\n",
    "\n",
    "  # Fit\n",
    "  start_time = time.time()\n",
    "  model_xgb.fit(train_scaled, y_train)\n",
    "  train_time = time.time()-start_time\n",
    "  # Predict\n",
    "  y_pred = model_xgb.predict(test_scaled)\n",
    "  predict_time = time.time() - start_time\n",
    "\n",
    "  # Append to results dataframa\n",
    "  results.loc[len(results.index)] = ['XGBoost classifier', name,\n",
    "                                    metrics.roc_auc_score(y_test, y_pred),\n",
    "                                    accuracy_score(y_test,y_pred),\n",
    "                                    f1_score(y_test,y_pred, average='macro'),\n",
    "                                    precision_score(y_test,y_pred, average='macro'),\n",
    "                                    recall_score(y_test,y_pred, average='macro'),\n",
    "                                    np.round(train_time,2), np.round(predict_time,2)] "
   ]
  },
  {
   "cell_type": "markdown",
   "id": "lSC-c1lJrH95",
   "metadata": {
    "id": "lSC-c1lJrH95"
   },
   "source": [
    "## Evaluation of All Models' Metrics"
   ]
  },
  {
   "cell_type": "markdown",
   "id": "e88025b5",
   "metadata": {},
   "source": [
    "**Note:** Results dataframe shows all metrics of models with different inputs. Let's explore the df to see models' perfomance."
   ]
  },
  {
   "cell_type": "code",
   "execution_count": 45,
   "id": "n95EreAvvd3e",
   "metadata": {
    "id": "n95EreAvvd3e"
   },
   "outputs": [],
   "source": [
    "# Round all metrics\n",
    "columns = ['AUC','Accuracy', 'F1', 'Precision','Recall']\n",
    "\n",
    "for col in columns:\n",
    "  results[col] = round(results[col], 3)"
   ]
  },
  {
   "cell_type": "code",
   "execution_count": 46,
   "id": "0PCUsO_UZi4y",
   "metadata": {
    "id": "0PCUsO_UZi4y"
   },
   "outputs": [
    {
     "data": {
      "text/html": [
       "<div>\n",
       "<style scoped>\n",
       "    .dataframe tbody tr th:only-of-type {\n",
       "        vertical-align: middle;\n",
       "    }\n",
       "\n",
       "    .dataframe tbody tr th {\n",
       "        vertical-align: top;\n",
       "    }\n",
       "\n",
       "    .dataframe thead th {\n",
       "        text-align: right;\n",
       "    }\n",
       "</style>\n",
       "<table border=\"1\" class=\"dataframe\">\n",
       "  <thead>\n",
       "    <tr style=\"text-align: right;\">\n",
       "      <th></th>\n",
       "      <th>Model</th>\n",
       "      <th>Input</th>\n",
       "      <th>AUC</th>\n",
       "      <th>Accuracy</th>\n",
       "      <th>F1</th>\n",
       "      <th>Precision</th>\n",
       "      <th>Recall</th>\n",
       "      <th>Training Time (s)</th>\n",
       "      <th>Prediction Time (s)</th>\n",
       "    </tr>\n",
       "  </thead>\n",
       "  <tbody>\n",
       "    <tr>\n",
       "      <th>21</th>\n",
       "      <td>XGBoost classifier</td>\n",
       "      <td>all_features</td>\n",
       "      <td>0.987</td>\n",
       "      <td>0.987</td>\n",
       "      <td>0.987</td>\n",
       "      <td>0.987</td>\n",
       "      <td>0.987</td>\n",
       "      <td>41.80</td>\n",
       "      <td>41.88</td>\n",
       "    </tr>\n",
       "    <tr>\n",
       "      <th>11</th>\n",
       "      <td>Random Forest</td>\n",
       "      <td>all_features</td>\n",
       "      <td>0.984</td>\n",
       "      <td>0.984</td>\n",
       "      <td>0.984</td>\n",
       "      <td>0.984</td>\n",
       "      <td>0.984</td>\n",
       "      <td>65.06</td>\n",
       "      <td>65.20</td>\n",
       "    </tr>\n",
       "    <tr>\n",
       "      <th>12</th>\n",
       "      <td>Gradient Boosting</td>\n",
       "      <td>all_features</td>\n",
       "      <td>0.980</td>\n",
       "      <td>0.980</td>\n",
       "      <td>0.980</td>\n",
       "      <td>0.980</td>\n",
       "      <td>0.980</td>\n",
       "      <td>638.67</td>\n",
       "      <td>638.88</td>\n",
       "    </tr>\n",
       "    <tr>\n",
       "      <th>18</th>\n",
       "      <td>Ada Boost Classifier</td>\n",
       "      <td>all_features</td>\n",
       "      <td>0.980</td>\n",
       "      <td>0.980</td>\n",
       "      <td>0.980</td>\n",
       "      <td>0.980</td>\n",
       "      <td>0.980</td>\n",
       "      <td>125.39</td>\n",
       "      <td>125.98</td>\n",
       "    </tr>\n",
       "    <tr>\n",
       "      <th>15</th>\n",
       "      <td>Decision Tree</td>\n",
       "      <td>all_features</td>\n",
       "      <td>0.967</td>\n",
       "      <td>0.968</td>\n",
       "      <td>0.967</td>\n",
       "      <td>0.968</td>\n",
       "      <td>0.967</td>\n",
       "      <td>96.63</td>\n",
       "      <td>96.68</td>\n",
       "    </tr>\n",
       "    <tr>\n",
       "      <th>6</th>\n",
       "      <td>Multinominal Naive Bayes</td>\n",
       "      <td>all_features</td>\n",
       "      <td>0.891</td>\n",
       "      <td>0.891</td>\n",
       "      <td>0.891</td>\n",
       "      <td>0.893</td>\n",
       "      <td>0.891</td>\n",
       "      <td>0.08</td>\n",
       "      <td>0.09</td>\n",
       "    </tr>\n",
       "    <tr>\n",
       "      <th>0</th>\n",
       "      <td>Logistic Regression</td>\n",
       "      <td>all_features</td>\n",
       "      <td>0.863</td>\n",
       "      <td>0.862</td>\n",
       "      <td>0.862</td>\n",
       "      <td>0.867</td>\n",
       "      <td>0.863</td>\n",
       "      <td>1.55</td>\n",
       "      <td>1.64</td>\n",
       "    </tr>\n",
       "    <tr>\n",
       "      <th>1</th>\n",
       "      <td>Logistic Regression</td>\n",
       "      <td>review_Bert</td>\n",
       "      <td>0.824</td>\n",
       "      <td>0.824</td>\n",
       "      <td>0.824</td>\n",
       "      <td>0.825</td>\n",
       "      <td>0.824</td>\n",
       "      <td>1.47</td>\n",
       "      <td>1.49</td>\n",
       "    </tr>\n",
       "    <tr>\n",
       "      <th>22</th>\n",
       "      <td>XGBoost classifier</td>\n",
       "      <td>review_Bert</td>\n",
       "      <td>0.813</td>\n",
       "      <td>0.812</td>\n",
       "      <td>0.812</td>\n",
       "      <td>0.813</td>\n",
       "      <td>0.813</td>\n",
       "      <td>33.29</td>\n",
       "      <td>33.32</td>\n",
       "    </tr>\n",
       "    <tr>\n",
       "      <th>13</th>\n",
       "      <td>Gradient Boosting</td>\n",
       "      <td>review_Bert</td>\n",
       "      <td>0.799</td>\n",
       "      <td>0.799</td>\n",
       "      <td>0.799</td>\n",
       "      <td>0.801</td>\n",
       "      <td>0.799</td>\n",
       "      <td>359.68</td>\n",
       "      <td>359.80</td>\n",
       "    </tr>\n",
       "    <tr>\n",
       "      <th>9</th>\n",
       "      <td>Random Forest</td>\n",
       "      <td>review_Bert</td>\n",
       "      <td>0.786</td>\n",
       "      <td>0.786</td>\n",
       "      <td>0.786</td>\n",
       "      <td>0.787</td>\n",
       "      <td>0.786</td>\n",
       "      <td>45.02</td>\n",
       "      <td>45.16</td>\n",
       "    </tr>\n",
       "    <tr>\n",
       "      <th>19</th>\n",
       "      <td>Ada Boost Classifier</td>\n",
       "      <td>review_Bert</td>\n",
       "      <td>0.774</td>\n",
       "      <td>0.773</td>\n",
       "      <td>0.773</td>\n",
       "      <td>0.775</td>\n",
       "      <td>0.774</td>\n",
       "      <td>72.76</td>\n",
       "      <td>72.99</td>\n",
       "    </tr>\n",
       "    <tr>\n",
       "      <th>10</th>\n",
       "      <td>Random Forest</td>\n",
       "      <td>review_Glove</td>\n",
       "      <td>0.756</td>\n",
       "      <td>0.756</td>\n",
       "      <td>0.756</td>\n",
       "      <td>0.757</td>\n",
       "      <td>0.756</td>\n",
       "      <td>8.52</td>\n",
       "      <td>8.60</td>\n",
       "    </tr>\n",
       "    <tr>\n",
       "      <th>14</th>\n",
       "      <td>Gradient Boosting</td>\n",
       "      <td>review_Glove</td>\n",
       "      <td>0.753</td>\n",
       "      <td>0.753</td>\n",
       "      <td>0.752</td>\n",
       "      <td>0.756</td>\n",
       "      <td>0.753</td>\n",
       "      <td>12.02</td>\n",
       "      <td>12.03</td>\n",
       "    </tr>\n",
       "    <tr>\n",
       "      <th>23</th>\n",
       "      <td>XGBoost classifier</td>\n",
       "      <td>review_Glove</td>\n",
       "      <td>0.747</td>\n",
       "      <td>0.747</td>\n",
       "      <td>0.746</td>\n",
       "      <td>0.748</td>\n",
       "      <td>0.747</td>\n",
       "      <td>1.92</td>\n",
       "      <td>1.93</td>\n",
       "    </tr>\n",
       "    <tr>\n",
       "      <th>4</th>\n",
       "      <td>Naive Bayes</td>\n",
       "      <td>review_Bert</td>\n",
       "      <td>0.743</td>\n",
       "      <td>0.742</td>\n",
       "      <td>0.741</td>\n",
       "      <td>0.749</td>\n",
       "      <td>0.743</td>\n",
       "      <td>0.20</td>\n",
       "      <td>0.25</td>\n",
       "    </tr>\n",
       "    <tr>\n",
       "      <th>3</th>\n",
       "      <td>Naive Bayes</td>\n",
       "      <td>all_features</td>\n",
       "      <td>0.739</td>\n",
       "      <td>0.737</td>\n",
       "      <td>0.719</td>\n",
       "      <td>0.823</td>\n",
       "      <td>0.739</td>\n",
       "      <td>0.91</td>\n",
       "      <td>1.04</td>\n",
       "    </tr>\n",
       "    <tr>\n",
       "      <th>7</th>\n",
       "      <td>Multinominal Naive Bayes</td>\n",
       "      <td>review_Bert</td>\n",
       "      <td>0.732</td>\n",
       "      <td>0.731</td>\n",
       "      <td>0.729</td>\n",
       "      <td>0.740</td>\n",
       "      <td>0.732</td>\n",
       "      <td>0.02</td>\n",
       "      <td>0.03</td>\n",
       "    </tr>\n",
       "    <tr>\n",
       "      <th>20</th>\n",
       "      <td>Ada Boost Classifier</td>\n",
       "      <td>review_Glove</td>\n",
       "      <td>0.722</td>\n",
       "      <td>0.721</td>\n",
       "      <td>0.721</td>\n",
       "      <td>0.724</td>\n",
       "      <td>0.722</td>\n",
       "      <td>2.50</td>\n",
       "      <td>2.53</td>\n",
       "    </tr>\n",
       "    <tr>\n",
       "      <th>5</th>\n",
       "      <td>Naive Bayes</td>\n",
       "      <td>review_Glove</td>\n",
       "      <td>0.689</td>\n",
       "      <td>0.688</td>\n",
       "      <td>0.682</td>\n",
       "      <td>0.706</td>\n",
       "      <td>0.689</td>\n",
       "      <td>0.01</td>\n",
       "      <td>0.01</td>\n",
       "    </tr>\n",
       "    <tr>\n",
       "      <th>16</th>\n",
       "      <td>Decision Tree</td>\n",
       "      <td>review_text</td>\n",
       "      <td>0.683</td>\n",
       "      <td>0.683</td>\n",
       "      <td>0.683</td>\n",
       "      <td>0.683</td>\n",
       "      <td>0.683</td>\n",
       "      <td>23.06</td>\n",
       "      <td>23.07</td>\n",
       "    </tr>\n",
       "    <tr>\n",
       "      <th>2</th>\n",
       "      <td>Logistic Regression</td>\n",
       "      <td>review_Glove</td>\n",
       "      <td>0.678</td>\n",
       "      <td>0.678</td>\n",
       "      <td>0.678</td>\n",
       "      <td>0.679</td>\n",
       "      <td>0.678</td>\n",
       "      <td>0.07</td>\n",
       "      <td>0.07</td>\n",
       "    </tr>\n",
       "    <tr>\n",
       "      <th>17</th>\n",
       "      <td>Decision Tree</td>\n",
       "      <td>review_Glove</td>\n",
       "      <td>0.636</td>\n",
       "      <td>0.636</td>\n",
       "      <td>0.636</td>\n",
       "      <td>0.636</td>\n",
       "      <td>0.636</td>\n",
       "      <td>0.70</td>\n",
       "      <td>0.70</td>\n",
       "    </tr>\n",
       "    <tr>\n",
       "      <th>8</th>\n",
       "      <td>Multinominal Naive Bayes</td>\n",
       "      <td>review_Glove</td>\n",
       "      <td>0.615</td>\n",
       "      <td>0.614</td>\n",
       "      <td>0.613</td>\n",
       "      <td>0.616</td>\n",
       "      <td>0.615</td>\n",
       "      <td>0.00</td>\n",
       "      <td>0.00</td>\n",
       "    </tr>\n",
       "  </tbody>\n",
       "</table>\n",
       "</div>"
      ],
      "text/plain": [
       "                       Model         Input    AUC  Accuracy     F1  Precision  \\\n",
       "21        XGBoost classifier  all_features  0.987     0.987  0.987      0.987   \n",
       "11             Random Forest  all_features  0.984     0.984  0.984      0.984   \n",
       "12         Gradient Boosting  all_features  0.980     0.980  0.980      0.980   \n",
       "18      Ada Boost Classifier  all_features  0.980     0.980  0.980      0.980   \n",
       "15             Decision Tree  all_features  0.967     0.968  0.967      0.968   \n",
       "6   Multinominal Naive Bayes  all_features  0.891     0.891  0.891      0.893   \n",
       "0        Logistic Regression  all_features  0.863     0.862  0.862      0.867   \n",
       "1        Logistic Regression   review_Bert  0.824     0.824  0.824      0.825   \n",
       "22        XGBoost classifier   review_Bert  0.813     0.812  0.812      0.813   \n",
       "13         Gradient Boosting   review_Bert  0.799     0.799  0.799      0.801   \n",
       "9              Random Forest   review_Bert  0.786     0.786  0.786      0.787   \n",
       "19      Ada Boost Classifier   review_Bert  0.774     0.773  0.773      0.775   \n",
       "10             Random Forest  review_Glove  0.756     0.756  0.756      0.757   \n",
       "14         Gradient Boosting  review_Glove  0.753     0.753  0.752      0.756   \n",
       "23        XGBoost classifier  review_Glove  0.747     0.747  0.746      0.748   \n",
       "4                Naive Bayes   review_Bert  0.743     0.742  0.741      0.749   \n",
       "3                Naive Bayes  all_features  0.739     0.737  0.719      0.823   \n",
       "7   Multinominal Naive Bayes   review_Bert  0.732     0.731  0.729      0.740   \n",
       "20      Ada Boost Classifier  review_Glove  0.722     0.721  0.721      0.724   \n",
       "5                Naive Bayes  review_Glove  0.689     0.688  0.682      0.706   \n",
       "16             Decision Tree   review_text  0.683     0.683  0.683      0.683   \n",
       "2        Logistic Regression  review_Glove  0.678     0.678  0.678      0.679   \n",
       "17             Decision Tree  review_Glove  0.636     0.636  0.636      0.636   \n",
       "8   Multinominal Naive Bayes  review_Glove  0.615     0.614  0.613      0.616   \n",
       "\n",
       "    Recall  Training Time (s)  Prediction Time (s)  \n",
       "21   0.987              41.80                41.88  \n",
       "11   0.984              65.06                65.20  \n",
       "12   0.980             638.67               638.88  \n",
       "18   0.980             125.39               125.98  \n",
       "15   0.967              96.63                96.68  \n",
       "6    0.891               0.08                 0.09  \n",
       "0    0.863               1.55                 1.64  \n",
       "1    0.824               1.47                 1.49  \n",
       "22   0.813              33.29                33.32  \n",
       "13   0.799             359.68               359.80  \n",
       "9    0.786              45.02                45.16  \n",
       "19   0.774              72.76                72.99  \n",
       "10   0.756               8.52                 8.60  \n",
       "14   0.753              12.02                12.03  \n",
       "23   0.747               1.92                 1.93  \n",
       "4    0.743               0.20                 0.25  \n",
       "3    0.739               0.91                 1.04  \n",
       "7    0.732               0.02                 0.03  \n",
       "20   0.722               2.50                 2.53  \n",
       "5    0.689               0.01                 0.01  \n",
       "16   0.683              23.06                23.07  \n",
       "2    0.678               0.07                 0.07  \n",
       "17   0.636               0.70                 0.70  \n",
       "8    0.615               0.00                 0.00  "
      ]
     },
     "execution_count": 46,
     "metadata": {},
     "output_type": "execute_result"
    }
   ],
   "source": [
    "results.sort_values(by='AUC', ascending= False)"
   ]
  },
  {
   "cell_type": "markdown",
   "id": "7256fc51",
   "metadata": {},
   "source": [
    "Overall, there are four models with all features which give more than 98% accuracy on the test data: \n",
    "\n",
    "* Random Forest, \n",
    "* Gradient Boosting, \n",
    "* Ada Boost Classifier,\n",
    "* XGBoost Classifier. \n",
    "\n",
    "These metrics are great for detecting fake reviews. Unfortunately, models with just review text performed worse than models with all features. As expected, Bert sentence embeddings have worked better than Glove word embeddings.\n",
    "\n",
    "Assuming we do not have any data about reviews, users, and apps, we have just reviews in the worst-case scenario. Therefore, working to optimize models with review text is necessary and valuable. For this reason, instead of optimizing models that already predict well, we tried to optimize models with review text -Bert-."
   ]
  },
  {
   "cell_type": "markdown",
   "id": "P-trDNsf27Lh",
   "metadata": {
    "id": "P-trDNsf27Lh"
   },
   "source": [
    "## **Hypermeter Tuning**"
   ]
  },
  {
   "cell_type": "markdown",
   "id": "efPiJ453FP-j",
   "metadata": {
    "id": "efPiJ453FP-j"
   },
   "source": [
    "There are different methods for hypermeter tuning.\n",
    "1.   **Grid Search** uses every combination of hyperparameter values is tried sometimes which can be very inefficient.\n",
    "2.   **Random Search** selects random combinations from a grid of hyperparameter values. While it’s possible that RandomizedSearchCV will not find as accurate of a result as GridSearchCV, it surprisingly picks the best result more often than not and in a fraction of the time it takes GridSearchCV would have taken. \n",
    "3. **Bayesian optimization** Bayesian optimization belongs to a class of sequential model-based optimization (SMBO) algorithms that allow for one to use the results of our previous iteration to improve our sampling method of the next experiment. [[source]]\n",
    "\n",
    "We will different optimization methods for different models.\n",
    "\n",
    "* Logistic Regression: Grid Search\n",
    "* XGBoost Classifier: Random Search\n",
    "* Gradient Boosting: Bayesian optimization "
   ]
  },
  {
   "cell_type": "markdown",
   "id": "uqZLIsKdHkkM",
   "metadata": {
    "id": "uqZLIsKdHkkM"
   },
   "source": [
    "### Logistic Regression"
   ]
  },
  {
   "cell_type": "markdown",
   "id": "QapRiVw2TUKN",
   "metadata": {
    "id": "QapRiVw2TUKN"
   },
   "source": [
    "Logistic Regression requires two parameters that can be optimised by GridSearchCV:\n",
    "\n",
    "*   'C' \n",
    "*   'penalty'"
   ]
  },
  {
   "cell_type": "code",
   "execution_count": null,
   "id": "x7kcdmspHpkn",
   "metadata": {
    "id": "x7kcdmspHpkn"
   },
   "outputs": [],
   "source": [
    "model_lg_gs = LogisticRegression()\n",
    "\n",
    "# define parameters\n",
    "C = np.logspace(-4, 4, 50)\n",
    "penalty = ['none', 'l1', 'l2', 'elasticnet']\n",
    "\n",
    "parameters = [{'penalty':['none', 'l1', 'l2', 'elasticnet']}, \n",
    "              {'C':[1, 10, 100, 1000]}]\n",
    "\n",
    "# Set up the k-fold cross-validation\n",
    "kfold = StratifiedKFold(n_splits=3, shuffle=True, random_state=0)\n",
    "                        \n",
    "# define search\n",
    "grid_search = GridSearchCV(estimator = model_lg_gs,\n",
    "                           param_grid = parameters,\n",
    "                           scoring = 'roc_auc',\n",
    "                           cv = kfold,\n",
    "                           n_jobs=-1,\n",
    "                           verbose=0)\n",
    "\n",
    "# start time and then execute search\n",
    "start_time = datetime.now()\n",
    "result = grid_search.fit(Xr_train, y_train)\n",
    "search_time = datetime.now() - start_time"
   ]
  },
  {
   "cell_type": "code",
   "execution_count": 87,
   "id": "9ce29014",
   "metadata": {},
   "outputs": [
    {
     "name": "stdout",
     "output_type": "stream",
     "text": [
      "Search time: 0:00:19.726474\n",
      "Best Penalty: l2\n",
      "Best C: 1.0\n",
      "Best Score: 0.9011989054248938\n"
     ]
    }
   ],
   "source": [
    "# View search time and best hyperparameters \n",
    "print('Search time:', search_time )\n",
    "print('Best Penalty:', result.best_estimator_.get_params()['penalty'])\n",
    "print('Best C:', result.best_estimator_.get_params()['C'])\n",
    "print('Best Score: %s' % result.best_score_)"
   ]
  },
  {
   "cell_type": "code",
   "execution_count": 88,
   "id": "9f4acc08",
   "metadata": {},
   "outputs": [
    {
     "name": "stdout",
     "output_type": "stream",
     "text": [
      "Random Forest model - test data statistics\n",
      "Train time: 1.302\n",
      "Prediction time: 0\n",
      "Roc-Auc: 0.8244916901575714\n",
      "Accuracy: 0.824375\n",
      "F1 score 0.8243595628522038\n",
      "Precision score: 0.8246971741465603\n",
      "Recall score: 0.8244916901575714\n"
     ]
    }
   ],
   "source": [
    "#update logistic regression model to reflect the tuned hyperparameters and fit to training data\n",
    "#time the duration of training the model\n",
    "start_time = time.time()\n",
    "rf = LogisticRegression(penalty = 'l2', C=1).fit(Xr_train,y_train)\n",
    "train_time = time.time()-start_time\n",
    "\n",
    "\n",
    "#Evaluate model performance on test data\n",
    "# Call predict() with Xr_test passed to it, and assign the result to a variable y_pred \n",
    "# time the prediction\n",
    "start_time=time.time()\n",
    "y_pred = rf.predict(Xr_test)\n",
    "predict_time = time.time()-start_time\n",
    "\n",
    "#print metrics\n",
    "print(\"Random Forest model - test data statistics\")\n",
    "print(\"Train time:\", round(train_time,3))\n",
    "print(\"Prediction time:\", round(predict_time))\n",
    "print('Roc-Auc:', metrics.roc_auc_score(y_test, y_pred))\n",
    "print(\"Accuracy:\", accuracy_score(y_test,y_pred))\n",
    "print('F1 score', f1_score(y_test,y_pred, average='macro'))\n",
    "print(\"Precision score:\" , precision_score(y_test,y_pred, average='macro'))\n",
    "print(\"Recall score:\" , recall_score(y_test,y_pred, average='macro'))"
   ]
  },
  {
   "cell_type": "markdown",
   "id": "a85c9b70",
   "metadata": {},
   "source": [
    "**Note:** Best parameters are default parameters so the metrics are same. "
   ]
  },
  {
   "cell_type": "markdown",
   "id": "iYNFKFa_Jt54",
   "metadata": {
    "id": "iYNFKFa_Jt54"
   },
   "source": [
    "### XGBoost Classifier"
   ]
  },
  {
   "cell_type": "code",
   "execution_count": 89,
   "id": "84042349",
   "metadata": {},
   "outputs": [],
   "source": [
    "scaler = StandardScaler()\n",
    "Xr_train_scaled = scaler.fit_transform(Xr_train)\n",
    "Xr_test_scaled = scaler.transform(Xr_test)"
   ]
  },
  {
   "cell_type": "code",
   "execution_count": 90,
   "id": "bhYCsAx9PYdc",
   "metadata": {
    "id": "bhYCsAx9PYdc"
   },
   "outputs": [],
   "source": [
    "# Define the search space\n",
    "parameters = { \n",
    "    # Learning rate shrinks the weights to make the boosting process more conservative\n",
    "    \"learning_rate\": [0.0001,0.001, 0.01, 0.1, 1] ,\n",
    "    # Maximum depth of the tree, increasing it increases the model complexity.\n",
    "    \"max_depth\": range(3,21,3),\n",
    "    # Gamma specifies the minimum loss reduction required to make a split.\n",
    "    \"gamma\": [i/10.0 for i in range(0,5)],\n",
    "    # Percentage of columns to be randomly samples for each tree.\n",
    "    \"colsample_bytree\": [i/10.0 for i in range(3,10)],\n",
    "    # reg_alpha provides l1 regularization to the weight, higher values result in more conservative models\n",
    "    \"reg_alpha\": [1e-5, 1e-2, 0.1, 1, 10, 100],\n",
    "    # reg_lambda provides l2 regularization to the weight, higher values result in more conservative models\n",
    "    \"reg_lambda\": [1e-5, 1e-2, 0.1, 1, 10, 100]}\n",
    "\n",
    "# Set up the k-fold cross-validation\n",
    "kfold = StratifiedKFold(n_splits=3, shuffle=True, random_state=0)"
   ]
  },
  {
   "cell_type": "code",
   "execution_count": 92,
   "id": "W9FdLI-nQ3g-",
   "metadata": {
    "id": "W9FdLI-nQ3g-"
   },
   "outputs": [],
   "source": [
    "# Define random search\n",
    "random_search = RandomizedSearchCV(estimator=model_xgb , \n",
    "                           param_distributions=parameters,\n",
    "                           scoring = 'roc_auc', \n",
    "                           n_jobs=-1, \n",
    "                           cv=kfold, \n",
    "                           verbose=0)\n",
    "\n",
    "# Fit grid search\n",
    "start_time = datetime.now() # Start timer\n",
    "random_result = random_search.fit(Xr_train_scaled, y_train)\n",
    "search_time = datetime.now() - start_time"
   ]
  },
  {
   "cell_type": "code",
   "execution_count": 93,
   "id": "2858ed38",
   "metadata": {},
   "outputs": [
    {
     "data": {
      "text/html": [
       "<style>#sk-container-id-1 {color: black;background-color: white;}#sk-container-id-1 pre{padding: 0;}#sk-container-id-1 div.sk-toggleable {background-color: white;}#sk-container-id-1 label.sk-toggleable__label {cursor: pointer;display: block;width: 100%;margin-bottom: 0;padding: 0.3em;box-sizing: border-box;text-align: center;}#sk-container-id-1 label.sk-toggleable__label-arrow:before {content: \"▸\";float: left;margin-right: 0.25em;color: #696969;}#sk-container-id-1 label.sk-toggleable__label-arrow:hover:before {color: black;}#sk-container-id-1 div.sk-estimator:hover label.sk-toggleable__label-arrow:before {color: black;}#sk-container-id-1 div.sk-toggleable__content {max-height: 0;max-width: 0;overflow: hidden;text-align: left;background-color: #f0f8ff;}#sk-container-id-1 div.sk-toggleable__content pre {margin: 0.2em;color: black;border-radius: 0.25em;background-color: #f0f8ff;}#sk-container-id-1 input.sk-toggleable__control:checked~div.sk-toggleable__content {max-height: 200px;max-width: 100%;overflow: auto;}#sk-container-id-1 input.sk-toggleable__control:checked~label.sk-toggleable__label-arrow:before {content: \"▾\";}#sk-container-id-1 div.sk-estimator input.sk-toggleable__control:checked~label.sk-toggleable__label {background-color: #d4ebff;}#sk-container-id-1 div.sk-label input.sk-toggleable__control:checked~label.sk-toggleable__label {background-color: #d4ebff;}#sk-container-id-1 input.sk-hidden--visually {border: 0;clip: rect(1px 1px 1px 1px);clip: rect(1px, 1px, 1px, 1px);height: 1px;margin: -1px;overflow: hidden;padding: 0;position: absolute;width: 1px;}#sk-container-id-1 div.sk-estimator {font-family: monospace;background-color: #f0f8ff;border: 1px dotted black;border-radius: 0.25em;box-sizing: border-box;margin-bottom: 0.5em;}#sk-container-id-1 div.sk-estimator:hover {background-color: #d4ebff;}#sk-container-id-1 div.sk-parallel-item::after {content: \"\";width: 100%;border-bottom: 1px solid gray;flex-grow: 1;}#sk-container-id-1 div.sk-label:hover label.sk-toggleable__label {background-color: #d4ebff;}#sk-container-id-1 div.sk-serial::before {content: \"\";position: absolute;border-left: 1px solid gray;box-sizing: border-box;top: 0;bottom: 0;left: 50%;z-index: 0;}#sk-container-id-1 div.sk-serial {display: flex;flex-direction: column;align-items: center;background-color: white;padding-right: 0.2em;padding-left: 0.2em;position: relative;}#sk-container-id-1 div.sk-item {position: relative;z-index: 1;}#sk-container-id-1 div.sk-parallel {display: flex;align-items: stretch;justify-content: center;background-color: white;position: relative;}#sk-container-id-1 div.sk-item::before, #sk-container-id-1 div.sk-parallel-item::before {content: \"\";position: absolute;border-left: 1px solid gray;box-sizing: border-box;top: 0;bottom: 0;left: 50%;z-index: -1;}#sk-container-id-1 div.sk-parallel-item {display: flex;flex-direction: column;z-index: 1;position: relative;background-color: white;}#sk-container-id-1 div.sk-parallel-item:first-child::after {align-self: flex-end;width: 50%;}#sk-container-id-1 div.sk-parallel-item:last-child::after {align-self: flex-start;width: 50%;}#sk-container-id-1 div.sk-parallel-item:only-child::after {width: 0;}#sk-container-id-1 div.sk-dashed-wrapped {border: 1px dashed gray;margin: 0 0.4em 0.5em 0.4em;box-sizing: border-box;padding-bottom: 0.4em;background-color: white;}#sk-container-id-1 div.sk-label label {font-family: monospace;font-weight: bold;display: inline-block;line-height: 1.2em;}#sk-container-id-1 div.sk-label-container {text-align: center;}#sk-container-id-1 div.sk-container {/* jupyter's `normalize.less` sets `[hidden] { display: none; }` but bootstrap.min.css set `[hidden] { display: none !important; }` so we also need the `!important` here to be able to override the default hidden behavior on the sphinx rendered scikit-learn.org. See: https://github.com/scikit-learn/scikit-learn/issues/21755 */display: inline-block !important;position: relative;}#sk-container-id-1 div.sk-text-repr-fallback {display: none;}</style><div id=\"sk-container-id-1\" class=\"sk-top-container\"><div class=\"sk-text-repr-fallback\"><pre>RandomizedSearchCV(cv=StratifiedKFold(n_splits=3, random_state=0, shuffle=True),\n",
       "                   estimator=XGBClassifier(base_score=0.5, booster=&#x27;gbtree&#x27;,\n",
       "                                           callbacks=None, colsample_bylevel=1,\n",
       "                                           colsample_bynode=1,\n",
       "                                           colsample_bytree=1,\n",
       "                                           early_stopping_rounds=None,\n",
       "                                           enable_categorical=False,\n",
       "                                           eval_metric=None, gamma=0, gpu_id=-1,\n",
       "                                           grow_policy=&#x27;depthwise&#x27;,\n",
       "                                           importance_type=None,\n",
       "                                           interaction...\n",
       "                                           num_parallel_tree=1,\n",
       "                                           predictor=&#x27;auto&#x27;, random_state=0,\n",
       "                                           reg_alpha=0, reg_lambda=1, ...),\n",
       "                   n_jobs=-1,\n",
       "                   param_distributions={&#x27;colsample_bytree&#x27;: [0.3, 0.4, 0.5, 0.6,\n",
       "                                                             0.7, 0.8, 0.9],\n",
       "                                        &#x27;gamma&#x27;: [0.0, 0.1, 0.2, 0.3, 0.4],\n",
       "                                        &#x27;learning_rate&#x27;: [0.0001, 0.001, 0.01,\n",
       "                                                          0.1, 1],\n",
       "                                        &#x27;max_depth&#x27;: range(3, 21, 3),\n",
       "                                        &#x27;reg_alpha&#x27;: [1e-05, 0.01, 0.1, 1, 10,\n",
       "                                                      100],\n",
       "                                        &#x27;reg_lambda&#x27;: [1e-05, 0.01, 0.1, 1, 10,\n",
       "                                                       100]},\n",
       "                   scoring=&#x27;roc_auc&#x27;)</pre><b>In a Jupyter environment, please rerun this cell to show the HTML representation or trust the notebook. <br />On GitHub, the HTML representation is unable to render, please try loading this page with nbviewer.org.</b></div><div class=\"sk-container\" hidden><div class=\"sk-item sk-dashed-wrapped\"><div class=\"sk-label-container\"><div class=\"sk-label sk-toggleable\"><input class=\"sk-toggleable__control sk-hidden--visually\" id=\"sk-estimator-id-1\" type=\"checkbox\" ><label for=\"sk-estimator-id-1\" class=\"sk-toggleable__label sk-toggleable__label-arrow\">RandomizedSearchCV</label><div class=\"sk-toggleable__content\"><pre>RandomizedSearchCV(cv=StratifiedKFold(n_splits=3, random_state=0, shuffle=True),\n",
       "                   estimator=XGBClassifier(base_score=0.5, booster=&#x27;gbtree&#x27;,\n",
       "                                           callbacks=None, colsample_bylevel=1,\n",
       "                                           colsample_bynode=1,\n",
       "                                           colsample_bytree=1,\n",
       "                                           early_stopping_rounds=None,\n",
       "                                           enable_categorical=False,\n",
       "                                           eval_metric=None, gamma=0, gpu_id=-1,\n",
       "                                           grow_policy=&#x27;depthwise&#x27;,\n",
       "                                           importance_type=None,\n",
       "                                           interaction...\n",
       "                                           num_parallel_tree=1,\n",
       "                                           predictor=&#x27;auto&#x27;, random_state=0,\n",
       "                                           reg_alpha=0, reg_lambda=1, ...),\n",
       "                   n_jobs=-1,\n",
       "                   param_distributions={&#x27;colsample_bytree&#x27;: [0.3, 0.4, 0.5, 0.6,\n",
       "                                                             0.7, 0.8, 0.9],\n",
       "                                        &#x27;gamma&#x27;: [0.0, 0.1, 0.2, 0.3, 0.4],\n",
       "                                        &#x27;learning_rate&#x27;: [0.0001, 0.001, 0.01,\n",
       "                                                          0.1, 1],\n",
       "                                        &#x27;max_depth&#x27;: range(3, 21, 3),\n",
       "                                        &#x27;reg_alpha&#x27;: [1e-05, 0.01, 0.1, 1, 10,\n",
       "                                                      100],\n",
       "                                        &#x27;reg_lambda&#x27;: [1e-05, 0.01, 0.1, 1, 10,\n",
       "                                                       100]},\n",
       "                   scoring=&#x27;roc_auc&#x27;)</pre></div></div></div><div class=\"sk-parallel\"><div class=\"sk-parallel-item\"><div class=\"sk-item\"><div class=\"sk-label-container\"><div class=\"sk-label sk-toggleable\"><input class=\"sk-toggleable__control sk-hidden--visually\" id=\"sk-estimator-id-2\" type=\"checkbox\" ><label for=\"sk-estimator-id-2\" class=\"sk-toggleable__label sk-toggleable__label-arrow\">estimator: XGBClassifier</label><div class=\"sk-toggleable__content\"><pre>XGBClassifier(base_score=0.5, booster=&#x27;gbtree&#x27;, callbacks=None,\n",
       "              colsample_bylevel=1, colsample_bynode=1, colsample_bytree=1,\n",
       "              early_stopping_rounds=None, enable_categorical=False,\n",
       "              eval_metric=None, gamma=0, gpu_id=-1, grow_policy=&#x27;depthwise&#x27;,\n",
       "              importance_type=None, interaction_constraints=&#x27;&#x27;,\n",
       "              learning_rate=0.300000012, max_bin=256, max_cat_to_onehot=4,\n",
       "              max_delta_step=0, max_depth=6, max_leaves=0, min_child_weight=1,\n",
       "              missing=nan, monotone_constraints=&#x27;()&#x27;, n_estimators=100,\n",
       "              n_jobs=0, num_parallel_tree=1, predictor=&#x27;auto&#x27;, random_state=0,\n",
       "              reg_alpha=0, reg_lambda=1, ...)</pre></div></div></div><div class=\"sk-serial\"><div class=\"sk-item\"><div class=\"sk-estimator sk-toggleable\"><input class=\"sk-toggleable__control sk-hidden--visually\" id=\"sk-estimator-id-3\" type=\"checkbox\" ><label for=\"sk-estimator-id-3\" class=\"sk-toggleable__label sk-toggleable__label-arrow\">XGBClassifier</label><div class=\"sk-toggleable__content\"><pre>XGBClassifier(base_score=0.5, booster=&#x27;gbtree&#x27;, callbacks=None,\n",
       "              colsample_bylevel=1, colsample_bynode=1, colsample_bytree=1,\n",
       "              early_stopping_rounds=None, enable_categorical=False,\n",
       "              eval_metric=None, gamma=0, gpu_id=-1, grow_policy=&#x27;depthwise&#x27;,\n",
       "              importance_type=None, interaction_constraints=&#x27;&#x27;,\n",
       "              learning_rate=0.300000012, max_bin=256, max_cat_to_onehot=4,\n",
       "              max_delta_step=0, max_depth=6, max_leaves=0, min_child_weight=1,\n",
       "              missing=nan, monotone_constraints=&#x27;()&#x27;, n_estimators=100,\n",
       "              n_jobs=0, num_parallel_tree=1, predictor=&#x27;auto&#x27;, random_state=0,\n",
       "              reg_alpha=0, reg_lambda=1, ...)</pre></div></div></div></div></div></div></div></div></div></div>"
      ],
      "text/plain": [
       "RandomizedSearchCV(cv=StratifiedKFold(n_splits=3, random_state=0, shuffle=True),\n",
       "                   estimator=XGBClassifier(base_score=0.5, booster='gbtree',\n",
       "                                           callbacks=None, colsample_bylevel=1,\n",
       "                                           colsample_bynode=1,\n",
       "                                           colsample_bytree=1,\n",
       "                                           early_stopping_rounds=None,\n",
       "                                           enable_categorical=False,\n",
       "                                           eval_metric=None, gamma=0, gpu_id=-1,\n",
       "                                           grow_policy='depthwise',\n",
       "                                           importance_type=None,\n",
       "                                           interaction...\n",
       "                                           num_parallel_tree=1,\n",
       "                                           predictor='auto', random_state=0,\n",
       "                                           reg_alpha=0, reg_lambda=1, ...),\n",
       "                   n_jobs=-1,\n",
       "                   param_distributions={'colsample_bytree': [0.3, 0.4, 0.5, 0.6,\n",
       "                                                             0.7, 0.8, 0.9],\n",
       "                                        'gamma': [0.0, 0.1, 0.2, 0.3, 0.4],\n",
       "                                        'learning_rate': [0.0001, 0.001, 0.01,\n",
       "                                                          0.1, 1],\n",
       "                                        'max_depth': range(3, 21, 3),\n",
       "                                        'reg_alpha': [1e-05, 0.01, 0.1, 1, 10,\n",
       "                                                      100],\n",
       "                                        'reg_lambda': [1e-05, 0.01, 0.1, 1, 10,\n",
       "                                                       100]},\n",
       "                   scoring='roc_auc')"
      ]
     },
     "execution_count": 93,
     "metadata": {},
     "output_type": "execute_result"
    }
   ],
   "source": [
    "# Print grid search summary\n",
    "random_result"
   ]
  },
  {
   "cell_type": "code",
   "execution_count": 103,
   "id": "0655e737",
   "metadata": {},
   "outputs": [
    {
     "name": "stdout",
     "output_type": "stream",
     "text": [
      "Search time: 0:36:03.006711\n",
      "Best Score: 0.8844957510039134\n",
      "The best hyperparameters are {'reg_lambda': 10, 'reg_alpha': 1e-05, 'max_depth': 9, 'learning_rate': 0.1, 'gamma': 0.0, 'colsample_bytree': 0.8}\n"
     ]
    }
   ],
   "source": [
    "# Print the best score and the corresponding hyperparameters\n",
    "print('Search time:', search_time)\n",
    "print('Best Score: %s' % random_result.best_score_)\n",
    "print(f'The best hyperparameters are {random_result.best_params_}')"
   ]
  },
  {
   "cell_type": "code",
   "execution_count": 100,
   "id": "82141ffc",
   "metadata": {},
   "outputs": [
    {
     "name": "stdout",
     "output_type": "stream",
     "text": [
      "XGBBoost - test data statistics\n",
      "Random Forest model - test data statistics\n",
      "Train time: 38.29\n",
      "Prediction time: 0\n",
      "Roc-Auc: 0.8117933196242288\n",
      "Accuracy: 0.8115625\n",
      "F1 score 0.8114475824572378\n",
      "Precision score: 0.8127875757479566\n",
      "Recall score: 0.8117933196242288\n"
     ]
    }
   ],
   "source": [
    "#update svm model to reflect the tuned hyperparameters and fit to training data\n",
    "#time the duration of training the model\n",
    "start_time = time.time()\n",
    "random_best = random_search.best_estimator_.fit(Xr_train_scaled,y_train)\n",
    "train_time = time.time()-start_time\n",
    "\n",
    "#Evaluate model performance on test data\n",
    "\n",
    "# Call predict() on cv_rf with X_test passed to it, and assign the result to a variable y_pred \n",
    "#time the prediction\n",
    "start_time = time.time()\n",
    "y_pred = random_best.predict(Xr_test_scaled)\n",
    "predict_time = time.time()-start_time\n",
    "\n",
    "print(\"XGBBoost - test data statistics\")\n",
    "print(\"Train time:\", round(train_time,3))\n",
    "print(\"Prediction time:\", round(predict_time))\n",
    "print('Roc-Auc:', metrics.roc_auc_score(y_test, y_pred))\n",
    "print(\"Accuracy:\", accuracy_score(y_test,y_pred))\n",
    "print('F1 score', f1_score(y_test,y_pred, average='macro'))\n",
    "print(\"Precision score:\" , precision_score(y_test,y_pred, average='macro'))\n",
    "print(\"Recall score:\" , recall_score(y_test,y_pred, average='macro'))"
   ]
  },
  {
   "cell_type": "markdown",
   "id": "Tlh1alc8I8Z2",
   "metadata": {
    "id": "Tlh1alc8I8Z2"
   },
   "source": [
    "### GradientBoosting"
   ]
  },
  {
   "cell_type": "code",
   "execution_count": 102,
   "id": "cj-5s18i26WI",
   "metadata": {
    "id": "cj-5s18i26WI"
   },
   "outputs": [],
   "source": [
    "model_gb = GradientBoostingClassifier(random_state=42)\n",
    "\n",
    "#create param grid over which to grid search\n",
    "parameters = {\n",
    "        'n_estimators': range(50,151,25),\n",
    "        'learning_rate': np.arange(0.01,1.51,0.5),\n",
    "        'max_depth': range(10,51,5),\n",
    "        'min_samples_split': range(2, 103, 20),\n",
    "        'min_samples_leaf': range(1,102, 20),\n",
    "        'max_features': ['log2', 'sqrt',None]\n",
    "         }\n",
    "\n",
    "cv_gb = RandomizedSearchCV(model_gb, param_distributions=parameters,\n",
    "                           scoring = 'roc_auc', \n",
    "                           n_jobs=-1, \n",
    "                           cv=kfold, \n",
    "                           verbose=0)\n",
    "\n",
    "#time the search\n",
    "start_time = datetime.now()\n",
    "cv_gb.fit(Xr_train,y_train)\n",
    "search_time = datetime.now() - start_time"
   ]
  },
  {
   "cell_type": "code",
   "execution_count": 104,
   "id": "cef446a8",
   "metadata": {
    "scrolled": true
   },
   "outputs": [
    {
     "name": "stdout",
     "output_type": "stream",
     "text": [
      "Search time: 0:36:03.006711\n",
      "Best Score: 0.8798991183096726\n",
      "The best hyperparameters are {'n_estimators': 100, 'min_samples_split': 42, 'min_samples_leaf': 61, 'max_features': None, 'max_depth': 10, 'learning_rate': 0.51}\n"
     ]
    }
   ],
   "source": [
    "# Print the best score and the corresponding hyperparameters\n",
    "print('Search time:', search_time)\n",
    "print('Best Score: %s' % cv_gb.best_score_)\n",
    "print(f'The best hyperparameters are {cv_gb.best_params_}')"
   ]
  },
  {
   "cell_type": "code",
   "execution_count": 105,
   "id": "9b0613ba",
   "metadata": {},
   "outputs": [
    {
     "name": "stdout",
     "output_type": "stream",
     "text": [
      "Gradient Boosting - test data statistics\n",
      "Train time: 1093.816\n",
      "Prediction time: 0\n",
      "Roc-Auc: 0.8114315805264046\n",
      "Accuracy: 0.81125\n",
      "F1 score 0.8111879722987122\n",
      "Precision score: 0.812011271574498\n",
      "Recall score: 0.8114315805264046\n"
     ]
    }
   ],
   "source": [
    "#update  model to reflect the tuned hyperparameters and fit to training data\n",
    "#time the duration of training the model\n",
    "start_time = time.time()\n",
    "random_best = cv_gb.best_estimator_.fit(Xr_train,y_train)\n",
    "train_time = time.time()-start_time\n",
    "\n",
    "#Evaluate model performance on test data\n",
    "\n",
    "# Call predict() on cv_rf with X_test passed to it, and assign the result to a variable y_pred \n",
    "#time the prediction\n",
    "start_time = time.time()\n",
    "y_pred = cv_gb.predict(Xr_test)\n",
    "predict_time = time.time()-start_time\n",
    "\n",
    "print(\"Gradient Boosting - test data statistics\")\n",
    "print(\"Train time:\", round(train_time,3))\n",
    "print(\"Prediction time:\", round(predict_time))\n",
    "print('Roc-Auc:', metrics.roc_auc_score(y_test, y_pred))\n",
    "print(\"Accuracy:\", accuracy_score(y_test,y_pred))\n",
    "print('F1 score', f1_score(y_test,y_pred, average='macro'))\n",
    "print(\"Precision score:\" , precision_score(y_test,y_pred, average='macro'))\n",
    "print(\"Recall score:\" , recall_score(y_test,y_pred, average='macro'))"
   ]
  },
  {
   "cell_type": "markdown",
   "id": "bef57e17",
   "metadata": {},
   "source": [
    "## Random Forest"
   ]
  },
  {
   "cell_type": "code",
   "execution_count": 107,
   "id": "87732aaa",
   "metadata": {},
   "outputs": [],
   "source": [
    "#instantiate a RandomForestClassifier\n",
    "rf = RandomForestClassifier(random_state=42)\n",
    "\n",
    "#create param grid over which to grid search\n",
    "parameters = {'n_estimators':range(50,201,50),\n",
    "          'criterion':['gini','entropy'],\n",
    "          'max_depth': range(20,51,5),\n",
    "          'min_samples_split': range(2, 103, 20),\n",
    "          'min_samples_leaf': range(2,103, 20),\n",
    "          'max_features': ['log2', 'sqrt']\n",
    "         }\n",
    "\n",
    "#set up search\n",
    "cv_rf = RandomizedSearchCV(rf, param_distributions=parameters, scoring = 'roc_auc', \n",
    "                           n_jobs=-1, \n",
    "                           cv=kfold, \n",
    "                           verbose=0)\n",
    "#time the search\n",
    "start_time = datetime.now()\n",
    "cv_rf.fit(Xr_train,y_train)\n",
    "search_time = datetime.now() - start_time\n"
   ]
  },
  {
   "cell_type": "code",
   "execution_count": 108,
   "id": "11f507a6",
   "metadata": {},
   "outputs": [
    {
     "name": "stdout",
     "output_type": "stream",
     "text": [
      "Search time: 0:01:16.191406\n",
      "Best Score: 0.8587352964006548\n",
      "The best hyperparameters are {'n_estimators': 100, 'min_samples_split': 22, 'min_samples_leaf': 22, 'max_features': 'sqrt', 'max_depth': 40, 'criterion': 'gini'}\n"
     ]
    }
   ],
   "source": [
    "# Print the best score and the corresponding hyperparameters\n",
    "print('Search time:', search_time)\n",
    "print('Best Score: %s' % cv_rf.best_score_)\n",
    "print(f'The best hyperparameters are {cv_rf.best_params_}')"
   ]
  },
  {
   "cell_type": "code",
   "execution_count": 109,
   "id": "75e3c194",
   "metadata": {},
   "outputs": [
    {
     "name": "stdout",
     "output_type": "stream",
     "text": [
      "Search time: 0:01:16.191406\n",
      "Best Score: 0.8587352964006548\n",
      "The best hyperparameters are {'n_estimators': 100, 'min_samples_split': 22, 'min_samples_leaf': 22, 'max_features': 'sqrt', 'max_depth': 40, 'criterion': 'gini'}\n",
      "Gradient Boosting - test data statistics\n",
      "Train time: 30.71\n",
      "Prediction time: 0\n",
      "Roc-Auc: 0.7847847691432643\n",
      "Accuracy: 0.784375\n",
      "F1 score 0.7838613329490869\n",
      "Precision score: 0.7879433251598877\n",
      "Recall score: 0.7847847691432643\n"
     ]
    }
   ],
   "source": [
    "#Evaluate model performance on test data\n",
    "\n",
    "# Call predict() on cv_rf with X_test passed to it, and assign the result to a variable y_pred \n",
    "#time the prediction\n",
    "start_time = time.time()\n",
    "y_pred = cv_rf.predict(Xr_test)\n",
    "predict_time = time.time()-start_time\n",
    "\n",
    "print(\"Gradient Boosting - test data statistics\")\n",
    "print(\"Train time:\", round(train_time,3))\n",
    "print(\"Prediction time:\", round(predict_time))\n",
    "print('Roc-Auc:', metrics.roc_auc_score(y_test, y_pred))\n",
    "print(\"Accuracy:\", accuracy_score(y_test,y_pred))\n",
    "print('F1 score', f1_score(y_test,y_pred, average='macro'))\n",
    "print(\"Precision score:\" , precision_score(y_test,y_pred, average='macro'))\n",
    "print(\"Recall score:\" , recall_score(y_test,y_pred, average='macro'))"
   ]
  }
 ],
 "metadata": {
  "accelerator": "TPU",
  "colab": {
   "collapsed_sections": [
    "72a2cfc4"
   ],
   "private_outputs": true,
   "provenance": [],
   "toc_visible": true
  },
  "gpuClass": "standard",
  "kernelspec": {
   "display_name": "Python 3 (ipykernel)",
   "language": "python",
   "name": "python3"
  },
  "language_info": {
   "codemirror_mode": {
    "name": "ipython",
    "version": 3
   },
   "file_extension": ".py",
   "mimetype": "text/x-python",
   "name": "python",
   "nbconvert_exporter": "python",
   "pygments_lexer": "ipython3",
   "version": "3.9.7"
  }
 },
 "nbformat": 4,
 "nbformat_minor": 5
}
