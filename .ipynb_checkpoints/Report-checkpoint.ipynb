{
 "cells": [
  {
   "cell_type": "markdown",
   "id": "7fa88469",
   "metadata": {},
   "source": [
    "* **Review frequency:** The average time in seconds between all reviews provided.\n",
    "* **Account usage:** The lifetime of the reviewers account, i.e., the timespan between the first and the last review provided in seconds). \n",
    "* **User total reviews:** The total number of reviews received for all app versions  \n",
    "* **Length:** The characters count.\n",
    "![image.png](attachment:image.png)"
   ]
  },
  {
   "cell_type": "code",
   "execution_count": null,
   "id": "c2eba819",
   "metadata": {},
   "outputs": [],
   "source": []
  }
 ],
 "metadata": {
  "kernelspec": {
   "display_name": "Python 3 (ipykernel)",
   "language": "python",
   "name": "python3"
  },
  "language_info": {
   "codemirror_mode": {
    "name": "ipython",
    "version": 3
   },
   "file_extension": ".py",
   "mimetype": "text/x-python",
   "name": "python",
   "nbconvert_exporter": "python",
   "pygments_lexer": "ipython3",
   "version": "3.9.7"
  }
 },
 "nbformat": 4,
 "nbformat_minor": 5
}
